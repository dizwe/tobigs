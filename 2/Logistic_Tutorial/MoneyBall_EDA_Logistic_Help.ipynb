{
 "cells": [
  {
   "cell_type": "markdown",
   "metadata": {},
   "source": [
    "# Money Ball - Basic EDA & Modeling(Logistic)\n",
    "\n",
    "### 2주차 과제는 Money Ball Data Analysis입니다. \n",
    "### 우리가 Binary Classification하고자 하는 변수는 play-off입니다.\n",
    "### Money Ball Data Set을 분석하고 어느 팀이 play-off에 진출하는지 \n",
    "### Logistic Regression방법을 통해 분석합니다.\n",
    "_How does a team make the playoffs?_\n",
    "\n",
    "_How does a team win more games?_\n",
    "\n",
    "_How does a team score more runs?_"
   ]
  },
  {
   "cell_type": "markdown",
   "metadata": {},
   "source": [
    "- 머니볼과 빅데이터\n",
    "- http://writting.co.kr/2015/04/%EB%A8%B8%EB%8B%88%EB%B3%BC-%EA%B7%B8%EB%A6%AC%EA%B3%A0-%EB%B9%85%EB%8D%B0%EC%9D%B4%ED%84%B0/"
   ]
  },
  {
   "cell_type": "markdown",
   "metadata": {},
   "source": [
    "- _이번 과제를 통해 우리는 어떤 팀이  play-off(가을야구)에 진출하는지 로지스틱 모델을 통해 분석합니다._\n",
    "+ _Ipython 파일의 빈 부분을 채워주세요._\n",
    "+ _하나하나 천천히 따라와 주세요._ \n",
    "\n",
    "+ _W(Wins) Feature를 제외한 Feature들 중에서 가을야구 진출에 가장 영향을 많이 주는 Feature는 무엇일까요?_\n",
    "+ _통념이 만연하던 야구의 편견을 깬 Money Ball은 과연 무엇일까요?_"
   ]
  },
  {
   "cell_type": "markdown",
   "metadata": {},
   "source": [
    "### What is Money Ball?\n",
    "- Billy Bean & DePodesta's Story.\n",
    "\n",
    "In the early 2000s, Billy Beane and Paul DePodesta worked for the Oakland Athletics. While there, they literally changed the game of baseball. They didn't do it using a bat or glove, and they certainly didn't do it by throwing money at the issue; in fact, money was the issue. They didn't have enough of it, but they were still expected to keep up with teams that had much deeper pockets. This is where Statistics came riding down the hillside on a white horse to save the day. This data set contains some of the information that was available to Beane and DePodesta in the early 2000s, and it can be used to better understand their methods."
   ]
  },
  {
   "cell_type": "markdown",
   "metadata": {},
   "source": [
    "# 1. Import Library\n",
    "\n",
    "- 앞으로 데이터 분석 및 모델링을 함에 있어서 첫 스텝은 필요한 Library를 불러오는 것입니다."
   ]
  },
  {
   "cell_type": "code",
   "execution_count": 1,
   "metadata": {
    "_cell_guid": "b1076dfc-b9ad-4769-8c92-a6c4dae69d19",
    "_uuid": "8f2839f25d086af736a60e9eeb907d3b93b6e0e5"
   },
   "outputs": [
    {
     "name": "stdout",
     "output_type": "stream",
     "text": [
      "['.DS_Store', '1. Sigmoid_Fuction_Overview.ipynb', '3. Logistic_regression_with_sklearn.ipynb', 'Moneyball_Explanation.ipynb', 'baseball.csv', 'sklearn_logistic.ipynb', 'Week2_Logistic_Regression_fin.pdf', 'MoneyBall_EDA_Logistic_Help.ipynb', '2. Logistic_regression_with_numpy.ipynb', '.ipynb_checkpoints', 'Logistic과제공지.pdf']\n"
     ]
    }
   ],
   "source": [
    "# python library import\n",
    "\n",
    "import numpy as np # linear algebra\n",
    "import pandas as pd # data processing, CSV file I/O (e.g. pd.read_csv)\n",
    "import os\n",
    "print(os.listdir(\"./\"))"
   ]
  },
  {
   "cell_type": "code",
   "execution_count": 2,
   "metadata": {},
   "outputs": [],
   "source": [
    "from sklearn.linear_model import LogisticRegression # sklearn을 사용하여 Logistic 회귀분석을 할 경우 필요\n",
    "import matplotlib.pyplot as plt # 시각화를 위한 library\n",
    "import warnings\n",
    "warnings.filterwarnings('ignore')\n",
    "\n",
    "## Jupyter Notebook 이나 ipython 을 사용하다보면 향후 버전이 올라갈 때 변경될 사항 등을 알려주는 경고 메시지(warning message)가 거슬릴 때가 있습니다.\n",
    "## 출처: https://rfriend.tistory.com/346 [R, Python 분석과 프로그래밍 (by R Friend)]"
   ]
  },
  {
   "cell_type": "markdown",
   "metadata": {},
   "source": [
    "# 2. Load Data & Data Exploration "
   ]
  },
  {
   "cell_type": "markdown",
   "metadata": {},
   "source": [
    "* dataset 불러오기 \n",
    "* pandas를 이용해서 CSV파일을 불러오세요\n",
    "* 불러온 데이터를 파악해봅니다"
   ]
  },
  {
   "cell_type": "code",
   "execution_count": 3,
   "metadata": {},
   "outputs": [
    {
     "data": {
      "text/html": [
       "<div>\n",
       "<style scoped>\n",
       "    .dataframe tbody tr th:only-of-type {\n",
       "        vertical-align: middle;\n",
       "    }\n",
       "\n",
       "    .dataframe tbody tr th {\n",
       "        vertical-align: top;\n",
       "    }\n",
       "\n",
       "    .dataframe thead th {\n",
       "        text-align: right;\n",
       "    }\n",
       "</style>\n",
       "<table border=\"1\" class=\"dataframe\">\n",
       "  <thead>\n",
       "    <tr style=\"text-align: right;\">\n",
       "      <th></th>\n",
       "      <th>Team</th>\n",
       "      <th>League</th>\n",
       "      <th>Year</th>\n",
       "      <th>RS</th>\n",
       "      <th>RA</th>\n",
       "      <th>W</th>\n",
       "      <th>OBP</th>\n",
       "      <th>SLG</th>\n",
       "      <th>BA</th>\n",
       "      <th>Playoffs</th>\n",
       "      <th>RankSeason</th>\n",
       "      <th>RankPlayoffs</th>\n",
       "      <th>G</th>\n",
       "      <th>OOBP</th>\n",
       "      <th>OSLG</th>\n",
       "    </tr>\n",
       "  </thead>\n",
       "  <tbody>\n",
       "    <tr>\n",
       "      <th>0</th>\n",
       "      <td>ARI</td>\n",
       "      <td>NL</td>\n",
       "      <td>2012</td>\n",
       "      <td>734</td>\n",
       "      <td>688</td>\n",
       "      <td>81</td>\n",
       "      <td>0.328</td>\n",
       "      <td>0.418</td>\n",
       "      <td>0.259</td>\n",
       "      <td>0</td>\n",
       "      <td>NaN</td>\n",
       "      <td>NaN</td>\n",
       "      <td>162</td>\n",
       "      <td>0.317</td>\n",
       "      <td>0.415</td>\n",
       "    </tr>\n",
       "    <tr>\n",
       "      <th>1</th>\n",
       "      <td>ATL</td>\n",
       "      <td>NL</td>\n",
       "      <td>2012</td>\n",
       "      <td>700</td>\n",
       "      <td>600</td>\n",
       "      <td>94</td>\n",
       "      <td>0.320</td>\n",
       "      <td>0.389</td>\n",
       "      <td>0.247</td>\n",
       "      <td>1</td>\n",
       "      <td>4.0</td>\n",
       "      <td>5.0</td>\n",
       "      <td>162</td>\n",
       "      <td>0.306</td>\n",
       "      <td>0.378</td>\n",
       "    </tr>\n",
       "    <tr>\n",
       "      <th>2</th>\n",
       "      <td>BAL</td>\n",
       "      <td>AL</td>\n",
       "      <td>2012</td>\n",
       "      <td>712</td>\n",
       "      <td>705</td>\n",
       "      <td>93</td>\n",
       "      <td>0.311</td>\n",
       "      <td>0.417</td>\n",
       "      <td>0.247</td>\n",
       "      <td>1</td>\n",
       "      <td>5.0</td>\n",
       "      <td>4.0</td>\n",
       "      <td>162</td>\n",
       "      <td>0.315</td>\n",
       "      <td>0.403</td>\n",
       "    </tr>\n",
       "    <tr>\n",
       "      <th>3</th>\n",
       "      <td>BOS</td>\n",
       "      <td>AL</td>\n",
       "      <td>2012</td>\n",
       "      <td>734</td>\n",
       "      <td>806</td>\n",
       "      <td>69</td>\n",
       "      <td>0.315</td>\n",
       "      <td>0.415</td>\n",
       "      <td>0.260</td>\n",
       "      <td>0</td>\n",
       "      <td>NaN</td>\n",
       "      <td>NaN</td>\n",
       "      <td>162</td>\n",
       "      <td>0.331</td>\n",
       "      <td>0.428</td>\n",
       "    </tr>\n",
       "    <tr>\n",
       "      <th>4</th>\n",
       "      <td>CHC</td>\n",
       "      <td>NL</td>\n",
       "      <td>2012</td>\n",
       "      <td>613</td>\n",
       "      <td>759</td>\n",
       "      <td>61</td>\n",
       "      <td>0.302</td>\n",
       "      <td>0.378</td>\n",
       "      <td>0.240</td>\n",
       "      <td>0</td>\n",
       "      <td>NaN</td>\n",
       "      <td>NaN</td>\n",
       "      <td>162</td>\n",
       "      <td>0.335</td>\n",
       "      <td>0.424</td>\n",
       "    </tr>\n",
       "  </tbody>\n",
       "</table>\n",
       "</div>"
      ],
      "text/plain": [
       "  Team League  Year   RS   RA   W    OBP    SLG     BA  Playoffs  RankSeason  \\\n",
       "0  ARI     NL  2012  734  688  81  0.328  0.418  0.259         0         NaN   \n",
       "1  ATL     NL  2012  700  600  94  0.320  0.389  0.247         1         4.0   \n",
       "2  BAL     AL  2012  712  705  93  0.311  0.417  0.247         1         5.0   \n",
       "3  BOS     AL  2012  734  806  69  0.315  0.415  0.260         0         NaN   \n",
       "4  CHC     NL  2012  613  759  61  0.302  0.378  0.240         0         NaN   \n",
       "\n",
       "   RankPlayoffs    G   OOBP   OSLG  \n",
       "0           NaN  162  0.317  0.415  \n",
       "1           5.0  162  0.306  0.378  \n",
       "2           4.0  162  0.315  0.403  \n",
       "3           NaN  162  0.331  0.428  \n",
       "4           NaN  162  0.335  0.424  "
      ]
     },
     "execution_count": 3,
     "metadata": {},
     "output_type": "execute_result"
    }
   ],
   "source": [
    "data = pd.read_csv(\"./baseball.csv\")\n",
    "data.head() # pandas로 data를 불러오면 습관적으로 head()를 찍어봅니다!"
   ]
  },
  {
   "cell_type": "code",
   "execution_count": 4,
   "metadata": {},
   "outputs": [],
   "source": [
    "# 주어진 데이터 셋이 어떤 데이터인지 한번 쭉 살펴봅니다."
   ]
  },
  {
   "cell_type": "markdown",
   "metadata": {},
   "source": [
    "* Tip. 우리가 일반적으로 알고 있는 데이터 셋이 아닐 경우 각각의 Feature(Column, Attribute)가 무엇을 의미하는지 이해할 필요가 있습니다.\n",
    "**우리는 앞으로 Feature로 통일하겠습니다**\n",
    "- Data Set에 대한 설명을 참조합니다.\n",
    "- https://www.kaggle.com/wduckett/moneyball-mlb-stats-19622012"
   ]
  },
  {
   "cell_type": "markdown",
   "metadata": {},
   "source": [
    "## 2-1. 각각의 데이터가 무엇을 의미하는지 파악하기\n",
    "    - 이미 알고 있는 내용이라면 건너 뛰셔도 됩니다.\n",
    "    e.g) Team: Major League Team 이름이구나.\n",
    "         League: 소속 League를 말하는구나.\n",
    "         Year: 데이터가 기록된 년도를 의미하는구나.\n",
    "         Rs: (Runs Scored) 득점 스코어를 의미하는구나\n",
    "         RA: (Runs Allowed) 실점스코어를 의미하는구나\n",
    "         W : Wins\n",
    "         On-Base Percentage (OBP) 베이스 퍼센트\n",
    "        Slugging Percentage (SLG) 타자의 파워 정도를 나타내는 정도 (1루타 + 2*2루타 + -- + 4*홈런)/ 타수\n",
    "        Batting Average (BA) 타율\n",
    "        Playoffs (binary) 결승전\n",
    "        RankSeason 시즌전체 순위\n",
    "        RankPlayoffs 결승전 순위\n",
    "        Games Played (G) 한 게임\n",
    "        Opponent On-Base Percentage (OOBP) 상대편\n",
    "        Opponent Slugging Percentage (OSLG)"
   ]
  },
  {
   "cell_type": "code",
   "execution_count": 5,
   "metadata": {},
   "outputs": [
    {
     "data": {
      "text/plain": [
       "Index(['Team', 'League', 'Year', 'RS', 'RA', 'W', 'OBP', 'SLG', 'BA',\n",
       "       'Playoffs', 'RankSeason', 'RankPlayoffs', 'G', 'OOBP', 'OSLG'],\n",
       "      dtype='object')"
      ]
     },
     "execution_count": 5,
     "metadata": {},
     "output_type": "execute_result"
    }
   ],
   "source": [
    "# 어떤 Feature가 있을까?\n",
    "data.columns"
   ]
  },
  {
   "cell_type": "code",
   "execution_count": 6,
   "metadata": {},
   "outputs": [
    {
     "data": {
      "text/plain": [
       "15"
      ]
     },
     "execution_count": 6,
     "metadata": {},
     "output_type": "execute_result"
    }
   ],
   "source": [
    "# Feature는 몇 개일까?\n",
    "len(data.columns)"
   ]
  },
  {
   "cell_type": "markdown",
   "metadata": {},
   "source": [
    "* 특정 feature는 종속 변수에 아무런 영향을 주지 않을 수 있습니다. \n",
    "* 그런 feature들을 파악하고 제거한다면 우리의 모델은 더욱 정확해 집니다.\n",
    "* 하지만 마냥 변수를 제거할 수도 없는 노릇입니다. \n",
    "* 지난 1주차에 배웠던 EDA와 Preprocessing을 참고하여 데이터를 분석해봅시다."
   ]
  },
  {
   "cell_type": "markdown",
   "metadata": {},
   "source": [
    "## Data Exploration"
   ]
  },
  {
   "cell_type": "code",
   "execution_count": 7,
   "metadata": {},
   "outputs": [],
   "source": [
    "import matplotlib\n",
    "import matplotlib.pyplot as plt\n",
    "import seaborn as sns\n",
    "\n",
    "# 각종 시각화 패키지 불러오기"
   ]
  },
  {
   "cell_type": "code",
   "execution_count": 8,
   "metadata": {},
   "outputs": [],
   "source": [
    "# for using Korean font\n",
    "matplotlib.rc('font', family='NanumBarunGothic')\n",
    "plt.rcParams['axes.unicode_minus'] = False"
   ]
  },
  {
   "cell_type": "code",
   "execution_count": 9,
   "metadata": {},
   "outputs": [
    {
     "data": {
      "text/html": [
       "<div>\n",
       "<style scoped>\n",
       "    .dataframe tbody tr th:only-of-type {\n",
       "        vertical-align: middle;\n",
       "    }\n",
       "\n",
       "    .dataframe tbody tr th {\n",
       "        vertical-align: top;\n",
       "    }\n",
       "\n",
       "    .dataframe thead th {\n",
       "        text-align: right;\n",
       "    }\n",
       "</style>\n",
       "<table border=\"1\" class=\"dataframe\">\n",
       "  <thead>\n",
       "    <tr style=\"text-align: right;\">\n",
       "      <th></th>\n",
       "      <th>Year</th>\n",
       "      <th>RS</th>\n",
       "      <th>RA</th>\n",
       "      <th>W</th>\n",
       "      <th>OBP</th>\n",
       "      <th>SLG</th>\n",
       "      <th>BA</th>\n",
       "      <th>Playoffs</th>\n",
       "      <th>RankSeason</th>\n",
       "      <th>RankPlayoffs</th>\n",
       "      <th>G</th>\n",
       "      <th>OOBP</th>\n",
       "      <th>OSLG</th>\n",
       "    </tr>\n",
       "  </thead>\n",
       "  <tbody>\n",
       "    <tr>\n",
       "      <th>count</th>\n",
       "      <td>1232.000000</td>\n",
       "      <td>1232.000000</td>\n",
       "      <td>1232.000000</td>\n",
       "      <td>1232.000000</td>\n",
       "      <td>1232.000000</td>\n",
       "      <td>1232.000000</td>\n",
       "      <td>1232.000000</td>\n",
       "      <td>1232.000000</td>\n",
       "      <td>244.000000</td>\n",
       "      <td>244.000000</td>\n",
       "      <td>1232.000000</td>\n",
       "      <td>420.000000</td>\n",
       "      <td>420.000000</td>\n",
       "    </tr>\n",
       "    <tr>\n",
       "      <th>mean</th>\n",
       "      <td>1988.957792</td>\n",
       "      <td>715.081981</td>\n",
       "      <td>715.081981</td>\n",
       "      <td>80.904221</td>\n",
       "      <td>0.326331</td>\n",
       "      <td>0.397342</td>\n",
       "      <td>0.259273</td>\n",
       "      <td>0.198052</td>\n",
       "      <td>3.122951</td>\n",
       "      <td>2.717213</td>\n",
       "      <td>161.918831</td>\n",
       "      <td>0.332264</td>\n",
       "      <td>0.419743</td>\n",
       "    </tr>\n",
       "    <tr>\n",
       "      <th>std</th>\n",
       "      <td>14.819625</td>\n",
       "      <td>91.534294</td>\n",
       "      <td>93.079933</td>\n",
       "      <td>11.458139</td>\n",
       "      <td>0.015013</td>\n",
       "      <td>0.033267</td>\n",
       "      <td>0.012907</td>\n",
       "      <td>0.398693</td>\n",
       "      <td>1.738349</td>\n",
       "      <td>1.095234</td>\n",
       "      <td>0.624365</td>\n",
       "      <td>0.015295</td>\n",
       "      <td>0.026510</td>\n",
       "    </tr>\n",
       "    <tr>\n",
       "      <th>min</th>\n",
       "      <td>1962.000000</td>\n",
       "      <td>463.000000</td>\n",
       "      <td>472.000000</td>\n",
       "      <td>40.000000</td>\n",
       "      <td>0.277000</td>\n",
       "      <td>0.301000</td>\n",
       "      <td>0.214000</td>\n",
       "      <td>0.000000</td>\n",
       "      <td>1.000000</td>\n",
       "      <td>1.000000</td>\n",
       "      <td>158.000000</td>\n",
       "      <td>0.294000</td>\n",
       "      <td>0.346000</td>\n",
       "    </tr>\n",
       "    <tr>\n",
       "      <th>25%</th>\n",
       "      <td>1976.750000</td>\n",
       "      <td>652.000000</td>\n",
       "      <td>649.750000</td>\n",
       "      <td>73.000000</td>\n",
       "      <td>0.317000</td>\n",
       "      <td>0.375000</td>\n",
       "      <td>0.251000</td>\n",
       "      <td>0.000000</td>\n",
       "      <td>2.000000</td>\n",
       "      <td>2.000000</td>\n",
       "      <td>162.000000</td>\n",
       "      <td>0.321000</td>\n",
       "      <td>0.401000</td>\n",
       "    </tr>\n",
       "    <tr>\n",
       "      <th>50%</th>\n",
       "      <td>1989.000000</td>\n",
       "      <td>711.000000</td>\n",
       "      <td>709.000000</td>\n",
       "      <td>81.000000</td>\n",
       "      <td>0.326000</td>\n",
       "      <td>0.396000</td>\n",
       "      <td>0.260000</td>\n",
       "      <td>0.000000</td>\n",
       "      <td>3.000000</td>\n",
       "      <td>3.000000</td>\n",
       "      <td>162.000000</td>\n",
       "      <td>0.331000</td>\n",
       "      <td>0.419000</td>\n",
       "    </tr>\n",
       "    <tr>\n",
       "      <th>75%</th>\n",
       "      <td>2002.000000</td>\n",
       "      <td>775.000000</td>\n",
       "      <td>774.250000</td>\n",
       "      <td>89.000000</td>\n",
       "      <td>0.337000</td>\n",
       "      <td>0.421000</td>\n",
       "      <td>0.268000</td>\n",
       "      <td>0.000000</td>\n",
       "      <td>4.000000</td>\n",
       "      <td>4.000000</td>\n",
       "      <td>162.000000</td>\n",
       "      <td>0.343000</td>\n",
       "      <td>0.438000</td>\n",
       "    </tr>\n",
       "    <tr>\n",
       "      <th>max</th>\n",
       "      <td>2012.000000</td>\n",
       "      <td>1009.000000</td>\n",
       "      <td>1103.000000</td>\n",
       "      <td>116.000000</td>\n",
       "      <td>0.373000</td>\n",
       "      <td>0.491000</td>\n",
       "      <td>0.294000</td>\n",
       "      <td>1.000000</td>\n",
       "      <td>8.000000</td>\n",
       "      <td>5.000000</td>\n",
       "      <td>165.000000</td>\n",
       "      <td>0.384000</td>\n",
       "      <td>0.499000</td>\n",
       "    </tr>\n",
       "  </tbody>\n",
       "</table>\n",
       "</div>"
      ],
      "text/plain": [
       "              Year           RS           RA            W          OBP  \\\n",
       "count  1232.000000  1232.000000  1232.000000  1232.000000  1232.000000   \n",
       "mean   1988.957792   715.081981   715.081981    80.904221     0.326331   \n",
       "std      14.819625    91.534294    93.079933    11.458139     0.015013   \n",
       "min    1962.000000   463.000000   472.000000    40.000000     0.277000   \n",
       "25%    1976.750000   652.000000   649.750000    73.000000     0.317000   \n",
       "50%    1989.000000   711.000000   709.000000    81.000000     0.326000   \n",
       "75%    2002.000000   775.000000   774.250000    89.000000     0.337000   \n",
       "max    2012.000000  1009.000000  1103.000000   116.000000     0.373000   \n",
       "\n",
       "               SLG           BA     Playoffs  RankSeason  RankPlayoffs  \\\n",
       "count  1232.000000  1232.000000  1232.000000  244.000000    244.000000   \n",
       "mean      0.397342     0.259273     0.198052    3.122951      2.717213   \n",
       "std       0.033267     0.012907     0.398693    1.738349      1.095234   \n",
       "min       0.301000     0.214000     0.000000    1.000000      1.000000   \n",
       "25%       0.375000     0.251000     0.000000    2.000000      2.000000   \n",
       "50%       0.396000     0.260000     0.000000    3.000000      3.000000   \n",
       "75%       0.421000     0.268000     0.000000    4.000000      4.000000   \n",
       "max       0.491000     0.294000     1.000000    8.000000      5.000000   \n",
       "\n",
       "                 G        OOBP        OSLG  \n",
       "count  1232.000000  420.000000  420.000000  \n",
       "mean    161.918831    0.332264    0.419743  \n",
       "std       0.624365    0.015295    0.026510  \n",
       "min     158.000000    0.294000    0.346000  \n",
       "25%     162.000000    0.321000    0.401000  \n",
       "50%     162.000000    0.331000    0.419000  \n",
       "75%     162.000000    0.343000    0.438000  \n",
       "max     165.000000    0.384000    0.499000  "
      ]
     },
     "execution_count": 9,
     "metadata": {},
     "output_type": "execute_result"
    }
   ],
   "source": [
    "data.describe()"
   ]
  },
  {
   "cell_type": "code",
   "execution_count": 10,
   "metadata": {},
   "outputs": [
    {
     "name": "stdout",
     "output_type": "stream",
     "text": [
      "<class 'pandas.core.frame.DataFrame'>\n",
      "RangeIndex: 1232 entries, 0 to 1231\n",
      "Data columns (total 15 columns):\n",
      "Team            1232 non-null object\n",
      "League          1232 non-null object\n",
      "Year            1232 non-null int64\n",
      "RS              1232 non-null int64\n",
      "RA              1232 non-null int64\n",
      "W               1232 non-null int64\n",
      "OBP             1232 non-null float64\n",
      "SLG             1232 non-null float64\n",
      "BA              1232 non-null float64\n",
      "Playoffs        1232 non-null int64\n",
      "RankSeason      244 non-null float64\n",
      "RankPlayoffs    244 non-null float64\n",
      "G               1232 non-null int64\n",
      "OOBP            420 non-null float64\n",
      "OSLG            420 non-null float64\n",
      "dtypes: float64(7), int64(6), object(2)\n",
      "memory usage: 144.5+ KB\n"
     ]
    },
    {
     "data": {
      "text/plain": [
       "None"
      ]
     },
     "metadata": {},
     "output_type": "display_data"
    }
   ],
   "source": [
    "display(data.info())"
   ]
  },
  {
   "cell_type": "code",
   "execution_count": 11,
   "metadata": {},
   "outputs": [],
   "source": [
    "# 1232개의 entries, 15개의 column\n",
    "# null 값이 있는지 isnull.sum()으로 확인을 해보자."
   ]
  },
  {
   "cell_type": "code",
   "execution_count": 12,
   "metadata": {},
   "outputs": [
    {
     "data": {
      "text/plain": [
       "Team              0\n",
       "League            0\n",
       "Year              0\n",
       "RS                0\n",
       "RA                0\n",
       "W                 0\n",
       "OBP               0\n",
       "SLG               0\n",
       "BA                0\n",
       "Playoffs          0\n",
       "RankSeason      988\n",
       "RankPlayoffs    988\n",
       "G                 0\n",
       "OOBP            812\n",
       "OSLG            812\n",
       "dtype: int64"
      ]
     },
     "execution_count": 12,
     "metadata": {},
     "output_type": "execute_result"
    }
   ],
   "source": [
    "data.isnull().sum()"
   ]
  },
  {
   "cell_type": "code",
   "execution_count": 13,
   "metadata": {},
   "outputs": [],
   "source": [
    "# 어떻게 처리할지 생각해보자"
   ]
  },
  {
   "cell_type": "markdown",
   "metadata": {},
   "source": [
    "## 2-2.  변수 종류 확인하기"
   ]
  },
  {
   "cell_type": "code",
   "execution_count": 14,
   "metadata": {},
   "outputs": [
    {
     "name": "stdout",
     "output_type": "stream",
     "text": [
      "<class 'pandas.core.frame.DataFrame'>\n",
      "RangeIndex: 1232 entries, 0 to 1231\n",
      "Data columns (total 15 columns):\n",
      "Team            1232 non-null object\n",
      "League          1232 non-null object\n",
      "Year            1232 non-null int64\n",
      "RS              1232 non-null int64\n",
      "RA              1232 non-null int64\n",
      "W               1232 non-null int64\n",
      "OBP             1232 non-null float64\n",
      "SLG             1232 non-null float64\n",
      "BA              1232 non-null float64\n",
      "Playoffs        1232 non-null int64\n",
      "RankSeason      244 non-null float64\n",
      "RankPlayoffs    244 non-null float64\n",
      "G               1232 non-null int64\n",
      "OOBP            420 non-null float64\n",
      "OSLG            420 non-null float64\n",
      "dtypes: float64(7), int64(6), object(2)\n",
      "memory usage: 144.5+ KB\n"
     ]
    }
   ],
   "source": [
    "data.info()"
   ]
  },
  {
   "cell_type": "markdown",
   "metadata": {},
   "source": [
    "###  1) 범주형 변수 확인하기"
   ]
  },
  {
   "cell_type": "code",
   "execution_count": 15,
   "metadata": {},
   "outputs": [
    {
     "data": {
      "text/plain": [
       "['Team', 'League']"
      ]
     },
     "execution_count": 15,
     "metadata": {},
     "output_type": "execute_result"
    }
   ],
   "source": [
    "# categorical variable\n",
    "categorical_col = list(data.select_dtypes(include='object').columns)\n",
    "categorical_col"
   ]
  },
  {
   "cell_type": "code",
   "execution_count": 16,
   "metadata": {},
   "outputs": [],
   "source": [
    "# play-off Feature의 경우 0과 1로 범주형이지만 데이터에는 int type로 저장되어있다."
   ]
  },
  {
   "cell_type": "markdown",
   "metadata": {},
   "source": [
    "###  2) 연속형 변수 확인하기"
   ]
  },
  {
   "cell_type": "code",
   "execution_count": 17,
   "metadata": {},
   "outputs": [
    {
     "data": {
      "text/plain": [
       "['Year',\n",
       " 'RS',\n",
       " 'RA',\n",
       " 'W',\n",
       " 'OBP',\n",
       " 'SLG',\n",
       " 'BA',\n",
       " 'Playoffs',\n",
       " 'RankSeason',\n",
       " 'RankPlayoffs',\n",
       " 'G',\n",
       " 'OOBP',\n",
       " 'OSLG']"
      ]
     },
     "execution_count": 17,
     "metadata": {},
     "output_type": "execute_result"
    }
   ],
   "source": [
    "# numerical variable\n",
    "numerical_col =  list(data.select_dtypes(include=('int64', 'float64')).columns)\n",
    "numerical_col"
   ]
  },
  {
   "cell_type": "code",
   "execution_count": 18,
   "metadata": {},
   "outputs": [
    {
     "data": {
      "text/plain": [
       "13"
      ]
     },
     "execution_count": 18,
     "metadata": {},
     "output_type": "execute_result"
    }
   ],
   "source": [
    "len(numerical_col)"
   ]
  },
  {
   "cell_type": "markdown",
   "metadata": {},
   "source": [
    "### 3) 변수 종류 확인\n",
    "- 2개의 categorical variable(Team, League)와 13개의 numerical variable"
   ]
  },
  {
   "cell_type": "markdown",
   "metadata": {},
   "source": [
    "###  4) 각각의 변수에 어떤 값이 들어있을까?\n",
    "- 각 변수별 unique값을 찍어본다."
   ]
  },
  {
   "cell_type": "code",
   "execution_count": 19,
   "metadata": {},
   "outputs": [
    {
     "name": "stdout",
     "output_type": "stream",
     "text": [
      "Team:  39\n",
      "League:  2\n"
     ]
    }
   ],
   "source": [
    "# for categorical_col\n",
    "\n",
    "for col in categorical_col:\n",
    "    print(col + ': ', len(data[str(col)].unique()))"
   ]
  },
  {
   "cell_type": "code",
   "execution_count": 20,
   "metadata": {},
   "outputs": [],
   "source": [
    "# 39개의 팀과 2개의 리그\n",
    "# 리그는 지난 수십년간 2개였다."
   ]
  },
  {
   "cell_type": "code",
   "execution_count": 21,
   "metadata": {},
   "outputs": [
    {
     "name": "stdout",
     "output_type": "stream",
     "text": [
      "Year:  47\n",
      "RS:  374\n",
      "RA:  381\n",
      "W:  63\n",
      "OBP:  87\n",
      "SLG:  162\n",
      "BA:  75\n",
      "Playoffs:  2\n",
      "RankSeason:  996\n",
      "RankPlayoffs:  993\n",
      "G:  8\n",
      "OOBP:  884\n",
      "OSLG:  924\n"
     ]
    }
   ],
   "source": [
    "# for numerical_col\n",
    "\n",
    "for col in numerical_col:\n",
    "    print(col + ': ', len(set(data[str(col)])))"
   ]
  },
  {
   "cell_type": "code",
   "execution_count": 22,
   "metadata": {},
   "outputs": [],
   "source": [
    "# 지난 수십년은 46년이었다.\n",
    "# Playoffs가 2인 것으로 보아 categorical 변수로 바꿔줘도 무관할 것 같다.\n",
    "# Q. G(Games Played)는 어떤 값을 가지고 있을까?"
   ]
  },
  {
   "cell_type": "code",
   "execution_count": 23,
   "metadata": {},
   "outputs": [
    {
     "data": {
      "text/plain": [
       "0    162\n",
       "1    162\n",
       "2    162\n",
       "3    162\n",
       "4    162\n",
       "Name: G, dtype: int64"
      ]
     },
     "execution_count": 23,
     "metadata": {},
     "output_type": "execute_result"
    }
   ],
   "source": [
    "data.G.head()"
   ]
  },
  {
   "cell_type": "code",
   "execution_count": 24,
   "metadata": {},
   "outputs": [],
   "source": [
    "# Game 수이다. 한 시즌에 치뤄진 경기수를 나타낸다."
   ]
  },
  {
   "cell_type": "code",
   "execution_count": 25,
   "metadata": {},
   "outputs": [
    {
     "data": {
      "text/plain": [
       "161.91883116883116"
      ]
     },
     "execution_count": 25,
     "metadata": {},
     "output_type": "execute_result"
    }
   ],
   "source": [
    "data.G.mean()"
   ]
  },
  {
   "cell_type": "code",
   "execution_count": 26,
   "metadata": {},
   "outputs": [],
   "source": [
    "# 47년간 평균 161.918경기가 치뤄졌다. "
   ]
  },
  {
   "cell_type": "markdown",
   "metadata": {},
   "source": [
    "# 2. Data Preprocessing "
   ]
  },
  {
   "cell_type": "markdown",
   "metadata": {},
   "source": [
    "### T1. Column 삭제하기\n",
    "- W(Wins), 승리 외에 팀의 가을야구 진출에 영향을 많이 미치는 Feature가 알고 싶습니다.\n",
    "- del or drop을 사용하여 W column을 삭제해주세요"
   ]
  },
  {
   "cell_type": "code",
   "execution_count": 27,
   "metadata": {},
   "outputs": [
    {
     "data": {
      "text/html": [
       "<div>\n",
       "<style scoped>\n",
       "    .dataframe tbody tr th:only-of-type {\n",
       "        vertical-align: middle;\n",
       "    }\n",
       "\n",
       "    .dataframe tbody tr th {\n",
       "        vertical-align: top;\n",
       "    }\n",
       "\n",
       "    .dataframe thead th {\n",
       "        text-align: right;\n",
       "    }\n",
       "</style>\n",
       "<table border=\"1\" class=\"dataframe\">\n",
       "  <thead>\n",
       "    <tr style=\"text-align: right;\">\n",
       "      <th></th>\n",
       "      <th>Team</th>\n",
       "      <th>League</th>\n",
       "      <th>Year</th>\n",
       "      <th>RS</th>\n",
       "      <th>RA</th>\n",
       "      <th>W</th>\n",
       "      <th>OBP</th>\n",
       "      <th>SLG</th>\n",
       "      <th>BA</th>\n",
       "      <th>Playoffs</th>\n",
       "      <th>RankSeason</th>\n",
       "      <th>RankPlayoffs</th>\n",
       "      <th>G</th>\n",
       "      <th>OOBP</th>\n",
       "      <th>OSLG</th>\n",
       "    </tr>\n",
       "  </thead>\n",
       "  <tbody>\n",
       "    <tr>\n",
       "      <th>0</th>\n",
       "      <td>ARI</td>\n",
       "      <td>NL</td>\n",
       "      <td>2012</td>\n",
       "      <td>734</td>\n",
       "      <td>688</td>\n",
       "      <td>81</td>\n",
       "      <td>0.328</td>\n",
       "      <td>0.418</td>\n",
       "      <td>0.259</td>\n",
       "      <td>0</td>\n",
       "      <td>NaN</td>\n",
       "      <td>NaN</td>\n",
       "      <td>162</td>\n",
       "      <td>0.317</td>\n",
       "      <td>0.415</td>\n",
       "    </tr>\n",
       "    <tr>\n",
       "      <th>1</th>\n",
       "      <td>ATL</td>\n",
       "      <td>NL</td>\n",
       "      <td>2012</td>\n",
       "      <td>700</td>\n",
       "      <td>600</td>\n",
       "      <td>94</td>\n",
       "      <td>0.320</td>\n",
       "      <td>0.389</td>\n",
       "      <td>0.247</td>\n",
       "      <td>1</td>\n",
       "      <td>4.0</td>\n",
       "      <td>5.0</td>\n",
       "      <td>162</td>\n",
       "      <td>0.306</td>\n",
       "      <td>0.378</td>\n",
       "    </tr>\n",
       "    <tr>\n",
       "      <th>2</th>\n",
       "      <td>BAL</td>\n",
       "      <td>AL</td>\n",
       "      <td>2012</td>\n",
       "      <td>712</td>\n",
       "      <td>705</td>\n",
       "      <td>93</td>\n",
       "      <td>0.311</td>\n",
       "      <td>0.417</td>\n",
       "      <td>0.247</td>\n",
       "      <td>1</td>\n",
       "      <td>5.0</td>\n",
       "      <td>4.0</td>\n",
       "      <td>162</td>\n",
       "      <td>0.315</td>\n",
       "      <td>0.403</td>\n",
       "    </tr>\n",
       "    <tr>\n",
       "      <th>3</th>\n",
       "      <td>BOS</td>\n",
       "      <td>AL</td>\n",
       "      <td>2012</td>\n",
       "      <td>734</td>\n",
       "      <td>806</td>\n",
       "      <td>69</td>\n",
       "      <td>0.315</td>\n",
       "      <td>0.415</td>\n",
       "      <td>0.260</td>\n",
       "      <td>0</td>\n",
       "      <td>NaN</td>\n",
       "      <td>NaN</td>\n",
       "      <td>162</td>\n",
       "      <td>0.331</td>\n",
       "      <td>0.428</td>\n",
       "    </tr>\n",
       "    <tr>\n",
       "      <th>4</th>\n",
       "      <td>CHC</td>\n",
       "      <td>NL</td>\n",
       "      <td>2012</td>\n",
       "      <td>613</td>\n",
       "      <td>759</td>\n",
       "      <td>61</td>\n",
       "      <td>0.302</td>\n",
       "      <td>0.378</td>\n",
       "      <td>0.240</td>\n",
       "      <td>0</td>\n",
       "      <td>NaN</td>\n",
       "      <td>NaN</td>\n",
       "      <td>162</td>\n",
       "      <td>0.335</td>\n",
       "      <td>0.424</td>\n",
       "    </tr>\n",
       "  </tbody>\n",
       "</table>\n",
       "</div>"
      ],
      "text/plain": [
       "  Team League  Year   RS   RA   W    OBP    SLG     BA  Playoffs  RankSeason  \\\n",
       "0  ARI     NL  2012  734  688  81  0.328  0.418  0.259         0         NaN   \n",
       "1  ATL     NL  2012  700  600  94  0.320  0.389  0.247         1         4.0   \n",
       "2  BAL     AL  2012  712  705  93  0.311  0.417  0.247         1         5.0   \n",
       "3  BOS     AL  2012  734  806  69  0.315  0.415  0.260         0         NaN   \n",
       "4  CHC     NL  2012  613  759  61  0.302  0.378  0.240         0         NaN   \n",
       "\n",
       "   RankPlayoffs    G   OOBP   OSLG  \n",
       "0           NaN  162  0.317  0.415  \n",
       "1           5.0  162  0.306  0.378  \n",
       "2           4.0  162  0.315  0.403  \n",
       "3           NaN  162  0.331  0.428  \n",
       "4           NaN  162  0.335  0.424  "
      ]
     },
     "execution_count": 27,
     "metadata": {},
     "output_type": "execute_result"
    }
   ],
   "source": [
    "data.head()"
   ]
  },
  {
   "cell_type": "code",
   "execution_count": 28,
   "metadata": {},
   "outputs": [
    {
     "data": {
      "text/html": [
       "<div>\n",
       "<style scoped>\n",
       "    .dataframe tbody tr th:only-of-type {\n",
       "        vertical-align: middle;\n",
       "    }\n",
       "\n",
       "    .dataframe tbody tr th {\n",
       "        vertical-align: top;\n",
       "    }\n",
       "\n",
       "    .dataframe thead th {\n",
       "        text-align: right;\n",
       "    }\n",
       "</style>\n",
       "<table border=\"1\" class=\"dataframe\">\n",
       "  <thead>\n",
       "    <tr style=\"text-align: right;\">\n",
       "      <th></th>\n",
       "      <th>Team</th>\n",
       "      <th>League</th>\n",
       "      <th>Year</th>\n",
       "      <th>RS</th>\n",
       "      <th>RA</th>\n",
       "      <th>OBP</th>\n",
       "      <th>SLG</th>\n",
       "      <th>BA</th>\n",
       "      <th>Playoffs</th>\n",
       "      <th>RankSeason</th>\n",
       "      <th>RankPlayoffs</th>\n",
       "      <th>G</th>\n",
       "      <th>OOBP</th>\n",
       "      <th>OSLG</th>\n",
       "    </tr>\n",
       "  </thead>\n",
       "  <tbody>\n",
       "    <tr>\n",
       "      <th>0</th>\n",
       "      <td>ARI</td>\n",
       "      <td>NL</td>\n",
       "      <td>2012</td>\n",
       "      <td>734</td>\n",
       "      <td>688</td>\n",
       "      <td>0.328</td>\n",
       "      <td>0.418</td>\n",
       "      <td>0.259</td>\n",
       "      <td>0</td>\n",
       "      <td>NaN</td>\n",
       "      <td>NaN</td>\n",
       "      <td>162</td>\n",
       "      <td>0.317</td>\n",
       "      <td>0.415</td>\n",
       "    </tr>\n",
       "    <tr>\n",
       "      <th>1</th>\n",
       "      <td>ATL</td>\n",
       "      <td>NL</td>\n",
       "      <td>2012</td>\n",
       "      <td>700</td>\n",
       "      <td>600</td>\n",
       "      <td>0.320</td>\n",
       "      <td>0.389</td>\n",
       "      <td>0.247</td>\n",
       "      <td>1</td>\n",
       "      <td>4.0</td>\n",
       "      <td>5.0</td>\n",
       "      <td>162</td>\n",
       "      <td>0.306</td>\n",
       "      <td>0.378</td>\n",
       "    </tr>\n",
       "    <tr>\n",
       "      <th>2</th>\n",
       "      <td>BAL</td>\n",
       "      <td>AL</td>\n",
       "      <td>2012</td>\n",
       "      <td>712</td>\n",
       "      <td>705</td>\n",
       "      <td>0.311</td>\n",
       "      <td>0.417</td>\n",
       "      <td>0.247</td>\n",
       "      <td>1</td>\n",
       "      <td>5.0</td>\n",
       "      <td>4.0</td>\n",
       "      <td>162</td>\n",
       "      <td>0.315</td>\n",
       "      <td>0.403</td>\n",
       "    </tr>\n",
       "    <tr>\n",
       "      <th>3</th>\n",
       "      <td>BOS</td>\n",
       "      <td>AL</td>\n",
       "      <td>2012</td>\n",
       "      <td>734</td>\n",
       "      <td>806</td>\n",
       "      <td>0.315</td>\n",
       "      <td>0.415</td>\n",
       "      <td>0.260</td>\n",
       "      <td>0</td>\n",
       "      <td>NaN</td>\n",
       "      <td>NaN</td>\n",
       "      <td>162</td>\n",
       "      <td>0.331</td>\n",
       "      <td>0.428</td>\n",
       "    </tr>\n",
       "    <tr>\n",
       "      <th>4</th>\n",
       "      <td>CHC</td>\n",
       "      <td>NL</td>\n",
       "      <td>2012</td>\n",
       "      <td>613</td>\n",
       "      <td>759</td>\n",
       "      <td>0.302</td>\n",
       "      <td>0.378</td>\n",
       "      <td>0.240</td>\n",
       "      <td>0</td>\n",
       "      <td>NaN</td>\n",
       "      <td>NaN</td>\n",
       "      <td>162</td>\n",
       "      <td>0.335</td>\n",
       "      <td>0.424</td>\n",
       "    </tr>\n",
       "  </tbody>\n",
       "</table>\n",
       "</div>"
      ],
      "text/plain": [
       "  Team League  Year   RS   RA    OBP    SLG     BA  Playoffs  RankSeason  \\\n",
       "0  ARI     NL  2012  734  688  0.328  0.418  0.259         0         NaN   \n",
       "1  ATL     NL  2012  700  600  0.320  0.389  0.247         1         4.0   \n",
       "2  BAL     AL  2012  712  705  0.311  0.417  0.247         1         5.0   \n",
       "3  BOS     AL  2012  734  806  0.315  0.415  0.260         0         NaN   \n",
       "4  CHC     NL  2012  613  759  0.302  0.378  0.240         0         NaN   \n",
       "\n",
       "   RankPlayoffs    G   OOBP   OSLG  \n",
       "0           NaN  162  0.317  0.415  \n",
       "1           5.0  162  0.306  0.378  \n",
       "2           4.0  162  0.315  0.403  \n",
       "3           NaN  162  0.331  0.428  \n",
       "4           NaN  162  0.335  0.424  "
      ]
     },
     "execution_count": 28,
     "metadata": {},
     "output_type": "execute_result"
    }
   ],
   "source": [
    "del data['W']\n",
    "data.head()"
   ]
  },
  {
   "cell_type": "code",
   "execution_count": 29,
   "metadata": {},
   "outputs": [],
   "source": [
    "# W Column을 지워줬다."
   ]
  },
  {
   "cell_type": "markdown",
   "metadata": {},
   "source": [
    "### Task2. 인코딩: League\n",
    "- League Feature는 AL과 NL로 이루어져 있습니다.\n",
    "- 지난 시간에 배웠던 인코딩 방법을 적용해서 모델이 학습 할 수 있도록 처리해주세요.\n",
    "- replace()함수를 사용합니다."
   ]
  },
  {
   "cell_type": "code",
   "execution_count": 30,
   "metadata": {},
   "outputs": [
    {
     "data": {
      "text/plain": [
       "{'AL', 'NL'}"
      ]
     },
     "execution_count": 30,
     "metadata": {},
     "output_type": "execute_result"
    }
   ],
   "source": [
    "set(data.League)"
   ]
  },
  {
   "cell_type": "code",
   "execution_count": 31,
   "metadata": {},
   "outputs": [],
   "source": [
    "data.League.replace({'AL':0, 'NL':1}, inplace=True)"
   ]
  },
  {
   "cell_type": "code",
   "execution_count": 32,
   "metadata": {},
   "outputs": [
    {
     "data": {
      "text/plain": [
       "0    1\n",
       "1    1\n",
       "2    0\n",
       "3    0\n",
       "4    1\n",
       "Name: League, dtype: int64"
      ]
     },
     "execution_count": 32,
     "metadata": {},
     "output_type": "execute_result"
    }
   ],
   "source": [
    "data.League.head()"
   ]
  },
  {
   "cell_type": "markdown",
   "metadata": {},
   "source": [
    "### Task3. column 삭제하기\n",
    "- Team column을 삭제해주세요.\n",
    "- Team column이 없어도 모델에는 큰 영향이 없을 것 같습니다."
   ]
  },
  {
   "cell_type": "code",
   "execution_count": 33,
   "metadata": {},
   "outputs": [
    {
     "data": {
      "text/html": [
       "<div>\n",
       "<style scoped>\n",
       "    .dataframe tbody tr th:only-of-type {\n",
       "        vertical-align: middle;\n",
       "    }\n",
       "\n",
       "    .dataframe tbody tr th {\n",
       "        vertical-align: top;\n",
       "    }\n",
       "\n",
       "    .dataframe thead th {\n",
       "        text-align: right;\n",
       "    }\n",
       "</style>\n",
       "<table border=\"1\" class=\"dataframe\">\n",
       "  <thead>\n",
       "    <tr style=\"text-align: right;\">\n",
       "      <th></th>\n",
       "      <th>Team</th>\n",
       "      <th>League</th>\n",
       "      <th>Year</th>\n",
       "      <th>RS</th>\n",
       "      <th>RA</th>\n",
       "      <th>OBP</th>\n",
       "      <th>SLG</th>\n",
       "      <th>BA</th>\n",
       "      <th>Playoffs</th>\n",
       "      <th>RankSeason</th>\n",
       "      <th>RankPlayoffs</th>\n",
       "      <th>G</th>\n",
       "      <th>OOBP</th>\n",
       "      <th>OSLG</th>\n",
       "    </tr>\n",
       "  </thead>\n",
       "  <tbody>\n",
       "    <tr>\n",
       "      <th>0</th>\n",
       "      <td>ARI</td>\n",
       "      <td>1</td>\n",
       "      <td>2012</td>\n",
       "      <td>734</td>\n",
       "      <td>688</td>\n",
       "      <td>0.328</td>\n",
       "      <td>0.418</td>\n",
       "      <td>0.259</td>\n",
       "      <td>0</td>\n",
       "      <td>NaN</td>\n",
       "      <td>NaN</td>\n",
       "      <td>162</td>\n",
       "      <td>0.317</td>\n",
       "      <td>0.415</td>\n",
       "    </tr>\n",
       "    <tr>\n",
       "      <th>1</th>\n",
       "      <td>ATL</td>\n",
       "      <td>1</td>\n",
       "      <td>2012</td>\n",
       "      <td>700</td>\n",
       "      <td>600</td>\n",
       "      <td>0.320</td>\n",
       "      <td>0.389</td>\n",
       "      <td>0.247</td>\n",
       "      <td>1</td>\n",
       "      <td>4.0</td>\n",
       "      <td>5.0</td>\n",
       "      <td>162</td>\n",
       "      <td>0.306</td>\n",
       "      <td>0.378</td>\n",
       "    </tr>\n",
       "    <tr>\n",
       "      <th>2</th>\n",
       "      <td>BAL</td>\n",
       "      <td>0</td>\n",
       "      <td>2012</td>\n",
       "      <td>712</td>\n",
       "      <td>705</td>\n",
       "      <td>0.311</td>\n",
       "      <td>0.417</td>\n",
       "      <td>0.247</td>\n",
       "      <td>1</td>\n",
       "      <td>5.0</td>\n",
       "      <td>4.0</td>\n",
       "      <td>162</td>\n",
       "      <td>0.315</td>\n",
       "      <td>0.403</td>\n",
       "    </tr>\n",
       "    <tr>\n",
       "      <th>3</th>\n",
       "      <td>BOS</td>\n",
       "      <td>0</td>\n",
       "      <td>2012</td>\n",
       "      <td>734</td>\n",
       "      <td>806</td>\n",
       "      <td>0.315</td>\n",
       "      <td>0.415</td>\n",
       "      <td>0.260</td>\n",
       "      <td>0</td>\n",
       "      <td>NaN</td>\n",
       "      <td>NaN</td>\n",
       "      <td>162</td>\n",
       "      <td>0.331</td>\n",
       "      <td>0.428</td>\n",
       "    </tr>\n",
       "    <tr>\n",
       "      <th>4</th>\n",
       "      <td>CHC</td>\n",
       "      <td>1</td>\n",
       "      <td>2012</td>\n",
       "      <td>613</td>\n",
       "      <td>759</td>\n",
       "      <td>0.302</td>\n",
       "      <td>0.378</td>\n",
       "      <td>0.240</td>\n",
       "      <td>0</td>\n",
       "      <td>NaN</td>\n",
       "      <td>NaN</td>\n",
       "      <td>162</td>\n",
       "      <td>0.335</td>\n",
       "      <td>0.424</td>\n",
       "    </tr>\n",
       "  </tbody>\n",
       "</table>\n",
       "</div>"
      ],
      "text/plain": [
       "  Team  League  Year   RS   RA    OBP    SLG     BA  Playoffs  RankSeason  \\\n",
       "0  ARI       1  2012  734  688  0.328  0.418  0.259         0         NaN   \n",
       "1  ATL       1  2012  700  600  0.320  0.389  0.247         1         4.0   \n",
       "2  BAL       0  2012  712  705  0.311  0.417  0.247         1         5.0   \n",
       "3  BOS       0  2012  734  806  0.315  0.415  0.260         0         NaN   \n",
       "4  CHC       1  2012  613  759  0.302  0.378  0.240         0         NaN   \n",
       "\n",
       "   RankPlayoffs    G   OOBP   OSLG  \n",
       "0           NaN  162  0.317  0.415  \n",
       "1           5.0  162  0.306  0.378  \n",
       "2           4.0  162  0.315  0.403  \n",
       "3           NaN  162  0.331  0.428  \n",
       "4           NaN  162  0.335  0.424  "
      ]
     },
     "execution_count": 33,
     "metadata": {},
     "output_type": "execute_result"
    }
   ],
   "source": [
    "data.head()"
   ]
  },
  {
   "cell_type": "code",
   "execution_count": 34,
   "metadata": {},
   "outputs": [
    {
     "data": {
      "text/html": [
       "<div>\n",
       "<style scoped>\n",
       "    .dataframe tbody tr th:only-of-type {\n",
       "        vertical-align: middle;\n",
       "    }\n",
       "\n",
       "    .dataframe tbody tr th {\n",
       "        vertical-align: top;\n",
       "    }\n",
       "\n",
       "    .dataframe thead th {\n",
       "        text-align: right;\n",
       "    }\n",
       "</style>\n",
       "<table border=\"1\" class=\"dataframe\">\n",
       "  <thead>\n",
       "    <tr style=\"text-align: right;\">\n",
       "      <th></th>\n",
       "      <th>League</th>\n",
       "      <th>Year</th>\n",
       "      <th>RS</th>\n",
       "      <th>RA</th>\n",
       "      <th>OBP</th>\n",
       "      <th>SLG</th>\n",
       "      <th>BA</th>\n",
       "      <th>Playoffs</th>\n",
       "      <th>RankSeason</th>\n",
       "      <th>RankPlayoffs</th>\n",
       "      <th>G</th>\n",
       "      <th>OOBP</th>\n",
       "      <th>OSLG</th>\n",
       "    </tr>\n",
       "  </thead>\n",
       "  <tbody>\n",
       "    <tr>\n",
       "      <th>0</th>\n",
       "      <td>1</td>\n",
       "      <td>2012</td>\n",
       "      <td>734</td>\n",
       "      <td>688</td>\n",
       "      <td>0.328</td>\n",
       "      <td>0.418</td>\n",
       "      <td>0.259</td>\n",
       "      <td>0</td>\n",
       "      <td>NaN</td>\n",
       "      <td>NaN</td>\n",
       "      <td>162</td>\n",
       "      <td>0.317</td>\n",
       "      <td>0.415</td>\n",
       "    </tr>\n",
       "    <tr>\n",
       "      <th>1</th>\n",
       "      <td>1</td>\n",
       "      <td>2012</td>\n",
       "      <td>700</td>\n",
       "      <td>600</td>\n",
       "      <td>0.320</td>\n",
       "      <td>0.389</td>\n",
       "      <td>0.247</td>\n",
       "      <td>1</td>\n",
       "      <td>4.0</td>\n",
       "      <td>5.0</td>\n",
       "      <td>162</td>\n",
       "      <td>0.306</td>\n",
       "      <td>0.378</td>\n",
       "    </tr>\n",
       "    <tr>\n",
       "      <th>2</th>\n",
       "      <td>0</td>\n",
       "      <td>2012</td>\n",
       "      <td>712</td>\n",
       "      <td>705</td>\n",
       "      <td>0.311</td>\n",
       "      <td>0.417</td>\n",
       "      <td>0.247</td>\n",
       "      <td>1</td>\n",
       "      <td>5.0</td>\n",
       "      <td>4.0</td>\n",
       "      <td>162</td>\n",
       "      <td>0.315</td>\n",
       "      <td>0.403</td>\n",
       "    </tr>\n",
       "    <tr>\n",
       "      <th>3</th>\n",
       "      <td>0</td>\n",
       "      <td>2012</td>\n",
       "      <td>734</td>\n",
       "      <td>806</td>\n",
       "      <td>0.315</td>\n",
       "      <td>0.415</td>\n",
       "      <td>0.260</td>\n",
       "      <td>0</td>\n",
       "      <td>NaN</td>\n",
       "      <td>NaN</td>\n",
       "      <td>162</td>\n",
       "      <td>0.331</td>\n",
       "      <td>0.428</td>\n",
       "    </tr>\n",
       "    <tr>\n",
       "      <th>4</th>\n",
       "      <td>1</td>\n",
       "      <td>2012</td>\n",
       "      <td>613</td>\n",
       "      <td>759</td>\n",
       "      <td>0.302</td>\n",
       "      <td>0.378</td>\n",
       "      <td>0.240</td>\n",
       "      <td>0</td>\n",
       "      <td>NaN</td>\n",
       "      <td>NaN</td>\n",
       "      <td>162</td>\n",
       "      <td>0.335</td>\n",
       "      <td>0.424</td>\n",
       "    </tr>\n",
       "  </tbody>\n",
       "</table>\n",
       "</div>"
      ],
      "text/plain": [
       "   League  Year   RS   RA    OBP    SLG     BA  Playoffs  RankSeason  \\\n",
       "0       1  2012  734  688  0.328  0.418  0.259         0         NaN   \n",
       "1       1  2012  700  600  0.320  0.389  0.247         1         4.0   \n",
       "2       0  2012  712  705  0.311  0.417  0.247         1         5.0   \n",
       "3       0  2012  734  806  0.315  0.415  0.260         0         NaN   \n",
       "4       1  2012  613  759  0.302  0.378  0.240         0         NaN   \n",
       "\n",
       "   RankPlayoffs    G   OOBP   OSLG  \n",
       "0           NaN  162  0.317  0.415  \n",
       "1           5.0  162  0.306  0.378  \n",
       "2           4.0  162  0.315  0.403  \n",
       "3           NaN  162  0.331  0.428  \n",
       "4           NaN  162  0.335  0.424  "
      ]
     },
     "execution_count": 34,
     "metadata": {},
     "output_type": "execute_result"
    }
   ],
   "source": [
    "del data['Team']\n",
    "data.head()"
   ]
  },
  {
   "cell_type": "markdown",
   "metadata": {},
   "source": [
    "### Task4. NaN값 처리하기\n",
    "- head를 찍어보니 NaN값이 보입니다. \n",
    "- NaN값을 처리해 줍니다."
   ]
  },
  {
   "cell_type": "markdown",
   "metadata": {},
   "source": [
    "# Q. Null 값을 어떻게 전처리 할 것인가?\n",
    "- 데이터를 본격적으로 분석 하기 전에 한번 생각해보도록 합니다."
   ]
  },
  {
   "cell_type": "code",
   "execution_count": 35,
   "metadata": {},
   "outputs": [
    {
     "data": {
      "text/plain": [
       "8.0"
      ]
     },
     "execution_count": 35,
     "metadata": {},
     "output_type": "execute_result"
    }
   ],
   "source": [
    "# RankSeason, RankPlayoff(우승 안하면 없음)\n",
    "# OOBP, OSLG(상대편 정보 없음)\n",
    "data[~data['RankSeason'].isnull()]['RankSeason'].max()"
   ]
  },
  {
   "cell_type": "code",
   "execution_count": 36,
   "metadata": {},
   "outputs": [],
   "source": [
    "# 이산변수 W"
   ]
  },
  {
   "cell_type": "code",
   "execution_count": 37,
   "metadata": {
    "scrolled": true
   },
   "outputs": [
    {
     "data": {
      "text/plain": [
       "League            0\n",
       "Year              0\n",
       "RS                0\n",
       "RA                0\n",
       "OBP               0\n",
       "SLG               0\n",
       "BA                0\n",
       "Playoffs          0\n",
       "RankSeason      988\n",
       "RankPlayoffs    988\n",
       "G                 0\n",
       "OOBP            812\n",
       "OSLG            812\n",
       "dtype: int64"
      ]
     },
     "execution_count": 37,
     "metadata": {},
     "output_type": "execute_result"
    }
   ],
   "source": [
    "data.isnull().sum()"
   ]
  },
  {
   "cell_type": "code",
   "execution_count": 38,
   "metadata": {},
   "outputs": [],
   "source": [
    "# RankSeason, RankPlayoffs, OOBP, OSLG 변수에 Null 값이 있습니다.\n",
    "# 우리는 위의 변수들에 NaN값을 처리해줄 것입니다."
   ]
  },
  {
   "cell_type": "markdown",
   "metadata": {},
   "source": [
    "data.RankSeason.head()"
   ]
  },
  {
   "cell_type": "code",
   "execution_count": 39,
   "metadata": {},
   "outputs": [
    {
     "data": {
      "text/plain": [
       "0    NaN\n",
       "1    4.0\n",
       "2    5.0\n",
       "3    NaN\n",
       "4    NaN\n",
       "Name: RankSeason, dtype: float64"
      ]
     },
     "execution_count": 39,
     "metadata": {},
     "output_type": "execute_result"
    }
   ],
   "source": [
    "data.RankSeason.head()"
   ]
  },
  {
   "cell_type": "code",
   "execution_count": 40,
   "metadata": {},
   "outputs": [
    {
     "data": {
      "text/plain": [
       "0    NaN\n",
       "1    5.0\n",
       "2    4.0\n",
       "3    NaN\n",
       "4    NaN\n",
       "Name: RankPlayoffs, dtype: float64"
      ]
     },
     "execution_count": 40,
     "metadata": {},
     "output_type": "execute_result"
    }
   ],
   "source": [
    "data.RankPlayoffs.head()"
   ]
  },
  {
   "cell_type": "code",
   "execution_count": 41,
   "metadata": {},
   "outputs": [
    {
     "data": {
      "text/html": [
       "<div>\n",
       "<style scoped>\n",
       "    .dataframe tbody tr th:only-of-type {\n",
       "        vertical-align: middle;\n",
       "    }\n",
       "\n",
       "    .dataframe tbody tr th {\n",
       "        vertical-align: top;\n",
       "    }\n",
       "\n",
       "    .dataframe thead th {\n",
       "        text-align: right;\n",
       "    }\n",
       "</style>\n",
       "<table border=\"1\" class=\"dataframe\">\n",
       "  <thead>\n",
       "    <tr style=\"text-align: right;\">\n",
       "      <th></th>\n",
       "      <th>League</th>\n",
       "      <th>Year</th>\n",
       "      <th>RS</th>\n",
       "      <th>RA</th>\n",
       "      <th>OBP</th>\n",
       "      <th>SLG</th>\n",
       "      <th>BA</th>\n",
       "      <th>Playoffs</th>\n",
       "      <th>RankSeason</th>\n",
       "      <th>RankPlayoffs</th>\n",
       "      <th>G</th>\n",
       "      <th>OOBP</th>\n",
       "      <th>OSLG</th>\n",
       "    </tr>\n",
       "  </thead>\n",
       "  <tbody>\n",
       "    <tr>\n",
       "      <th>count</th>\n",
       "      <td>1232.000000</td>\n",
       "      <td>1232.000000</td>\n",
       "      <td>1232.000000</td>\n",
       "      <td>1232.000000</td>\n",
       "      <td>1232.000000</td>\n",
       "      <td>1232.000000</td>\n",
       "      <td>1232.000000</td>\n",
       "      <td>1232.000000</td>\n",
       "      <td>244.000000</td>\n",
       "      <td>244.000000</td>\n",
       "      <td>1232.000000</td>\n",
       "      <td>420.000000</td>\n",
       "      <td>420.000000</td>\n",
       "    </tr>\n",
       "    <tr>\n",
       "      <th>mean</th>\n",
       "      <td>0.500000</td>\n",
       "      <td>1988.957792</td>\n",
       "      <td>715.081981</td>\n",
       "      <td>715.081981</td>\n",
       "      <td>0.326331</td>\n",
       "      <td>0.397342</td>\n",
       "      <td>0.259273</td>\n",
       "      <td>0.198052</td>\n",
       "      <td>3.122951</td>\n",
       "      <td>2.717213</td>\n",
       "      <td>161.918831</td>\n",
       "      <td>0.332264</td>\n",
       "      <td>0.419743</td>\n",
       "    </tr>\n",
       "    <tr>\n",
       "      <th>std</th>\n",
       "      <td>0.500203</td>\n",
       "      <td>14.819625</td>\n",
       "      <td>91.534294</td>\n",
       "      <td>93.079933</td>\n",
       "      <td>0.015013</td>\n",
       "      <td>0.033267</td>\n",
       "      <td>0.012907</td>\n",
       "      <td>0.398693</td>\n",
       "      <td>1.738349</td>\n",
       "      <td>1.095234</td>\n",
       "      <td>0.624365</td>\n",
       "      <td>0.015295</td>\n",
       "      <td>0.026510</td>\n",
       "    </tr>\n",
       "    <tr>\n",
       "      <th>min</th>\n",
       "      <td>0.000000</td>\n",
       "      <td>1962.000000</td>\n",
       "      <td>463.000000</td>\n",
       "      <td>472.000000</td>\n",
       "      <td>0.277000</td>\n",
       "      <td>0.301000</td>\n",
       "      <td>0.214000</td>\n",
       "      <td>0.000000</td>\n",
       "      <td>1.000000</td>\n",
       "      <td>1.000000</td>\n",
       "      <td>158.000000</td>\n",
       "      <td>0.294000</td>\n",
       "      <td>0.346000</td>\n",
       "    </tr>\n",
       "    <tr>\n",
       "      <th>25%</th>\n",
       "      <td>0.000000</td>\n",
       "      <td>1976.750000</td>\n",
       "      <td>652.000000</td>\n",
       "      <td>649.750000</td>\n",
       "      <td>0.317000</td>\n",
       "      <td>0.375000</td>\n",
       "      <td>0.251000</td>\n",
       "      <td>0.000000</td>\n",
       "      <td>2.000000</td>\n",
       "      <td>2.000000</td>\n",
       "      <td>162.000000</td>\n",
       "      <td>0.321000</td>\n",
       "      <td>0.401000</td>\n",
       "    </tr>\n",
       "    <tr>\n",
       "      <th>50%</th>\n",
       "      <td>0.500000</td>\n",
       "      <td>1989.000000</td>\n",
       "      <td>711.000000</td>\n",
       "      <td>709.000000</td>\n",
       "      <td>0.326000</td>\n",
       "      <td>0.396000</td>\n",
       "      <td>0.260000</td>\n",
       "      <td>0.000000</td>\n",
       "      <td>3.000000</td>\n",
       "      <td>3.000000</td>\n",
       "      <td>162.000000</td>\n",
       "      <td>0.331000</td>\n",
       "      <td>0.419000</td>\n",
       "    </tr>\n",
       "    <tr>\n",
       "      <th>75%</th>\n",
       "      <td>1.000000</td>\n",
       "      <td>2002.000000</td>\n",
       "      <td>775.000000</td>\n",
       "      <td>774.250000</td>\n",
       "      <td>0.337000</td>\n",
       "      <td>0.421000</td>\n",
       "      <td>0.268000</td>\n",
       "      <td>0.000000</td>\n",
       "      <td>4.000000</td>\n",
       "      <td>4.000000</td>\n",
       "      <td>162.000000</td>\n",
       "      <td>0.343000</td>\n",
       "      <td>0.438000</td>\n",
       "    </tr>\n",
       "    <tr>\n",
       "      <th>max</th>\n",
       "      <td>1.000000</td>\n",
       "      <td>2012.000000</td>\n",
       "      <td>1009.000000</td>\n",
       "      <td>1103.000000</td>\n",
       "      <td>0.373000</td>\n",
       "      <td>0.491000</td>\n",
       "      <td>0.294000</td>\n",
       "      <td>1.000000</td>\n",
       "      <td>8.000000</td>\n",
       "      <td>5.000000</td>\n",
       "      <td>165.000000</td>\n",
       "      <td>0.384000</td>\n",
       "      <td>0.499000</td>\n",
       "    </tr>\n",
       "  </tbody>\n",
       "</table>\n",
       "</div>"
      ],
      "text/plain": [
       "            League         Year           RS           RA          OBP  \\\n",
       "count  1232.000000  1232.000000  1232.000000  1232.000000  1232.000000   \n",
       "mean      0.500000  1988.957792   715.081981   715.081981     0.326331   \n",
       "std       0.500203    14.819625    91.534294    93.079933     0.015013   \n",
       "min       0.000000  1962.000000   463.000000   472.000000     0.277000   \n",
       "25%       0.000000  1976.750000   652.000000   649.750000     0.317000   \n",
       "50%       0.500000  1989.000000   711.000000   709.000000     0.326000   \n",
       "75%       1.000000  2002.000000   775.000000   774.250000     0.337000   \n",
       "max       1.000000  2012.000000  1009.000000  1103.000000     0.373000   \n",
       "\n",
       "               SLG           BA     Playoffs  RankSeason  RankPlayoffs  \\\n",
       "count  1232.000000  1232.000000  1232.000000  244.000000    244.000000   \n",
       "mean      0.397342     0.259273     0.198052    3.122951      2.717213   \n",
       "std       0.033267     0.012907     0.398693    1.738349      1.095234   \n",
       "min       0.301000     0.214000     0.000000    1.000000      1.000000   \n",
       "25%       0.375000     0.251000     0.000000    2.000000      2.000000   \n",
       "50%       0.396000     0.260000     0.000000    3.000000      3.000000   \n",
       "75%       0.421000     0.268000     0.000000    4.000000      4.000000   \n",
       "max       0.491000     0.294000     1.000000    8.000000      5.000000   \n",
       "\n",
       "                 G        OOBP        OSLG  \n",
       "count  1232.000000  420.000000  420.000000  \n",
       "mean    161.918831    0.332264    0.419743  \n",
       "std       0.624365    0.015295    0.026510  \n",
       "min     158.000000    0.294000    0.346000  \n",
       "25%     162.000000    0.321000    0.401000  \n",
       "50%     162.000000    0.331000    0.419000  \n",
       "75%     162.000000    0.343000    0.438000  \n",
       "max     165.000000    0.384000    0.499000  "
      ]
     },
     "execution_count": 41,
     "metadata": {},
     "output_type": "execute_result"
    }
   ],
   "source": [
    "# OOBP는 Opponent On-Base Percentage. \n",
    "# OSLG는 Opponent Slugging Percentage.\n",
    "\n",
    "data.describe()"
   ]
  },
  {
   "cell_type": "markdown",
   "metadata": {},
   "source": [
    "* OOBP와 OSLG값에 평균 값을 넣어주도록 합니다.\n",
    "* sklearndml SimpleImputer를 사용합니다.\n",
    "* 자세한 내용은 https://scikit-learn.org/stable/modules/generated/sklearn.impute.SimpleImputer.html"
   ]
  },
  {
   "cell_type": "code",
   "execution_count": 42,
   "metadata": {},
   "outputs": [],
   "source": [
    "from sklearn.impute import SimpleImputer\n",
    "\n",
    "imputer = SimpleImputer(missing_values=np.nan, strategy='mean', fill_value=0)\n",
    "imputer = imputer.fit(data[['OOBP', 'OSLG']])\n",
    "\n",
    "data[['OOBP', 'OSLG']] = imputer.transform(data[['OOBP', 'OSLG']])\n",
    "\n"
   ]
  },
  {
   "cell_type": "code",
   "execution_count": 43,
   "metadata": {},
   "outputs": [
    {
     "data": {
      "text/plain": [
       "0"
      ]
     },
     "execution_count": 43,
     "metadata": {},
     "output_type": "execute_result"
    }
   ],
   "source": [
    "data.OOBP.isnull().sum()"
   ]
  },
  {
   "cell_type": "code",
   "execution_count": 44,
   "metadata": {},
   "outputs": [
    {
     "data": {
      "text/plain": [
       "0"
      ]
     },
     "execution_count": 44,
     "metadata": {},
     "output_type": "execute_result"
    }
   ],
   "source": [
    "data.OSLG.isnull().sum()"
   ]
  },
  {
   "cell_type": "code",
   "execution_count": 45,
   "metadata": {},
   "outputs": [],
   "source": [
    "# 이것도 결과값 중에 하나니까 분석에서 빼는게 좋을 듯"
   ]
  },
  {
   "cell_type": "code",
   "execution_count": 46,
   "metadata": {},
   "outputs": [
    {
     "data": {
      "text/plain": [
       "988"
      ]
     },
     "execution_count": 46,
     "metadata": {},
     "output_type": "execute_result"
    }
   ],
   "source": [
    "data.RankPlayoffs.isnull().sum()"
   ]
  },
  {
   "cell_type": "code",
   "execution_count": 47,
   "metadata": {},
   "outputs": [
    {
     "data": {
      "text/plain": [
       "988"
      ]
     },
     "execution_count": 47,
     "metadata": {},
     "output_type": "execute_result"
    }
   ],
   "source": [
    "data.RankSeason.isnull().sum()"
   ]
  },
  {
   "cell_type": "code",
   "execution_count": 48,
   "metadata": {},
   "outputs": [],
   "source": [
    "del data['RankPlayoffs']\n",
    "del data['RankSeason']"
   ]
  },
  {
   "cell_type": "code",
   "execution_count": 49,
   "metadata": {},
   "outputs": [
    {
     "data": {
      "text/html": [
       "<div>\n",
       "<style scoped>\n",
       "    .dataframe tbody tr th:only-of-type {\n",
       "        vertical-align: middle;\n",
       "    }\n",
       "\n",
       "    .dataframe tbody tr th {\n",
       "        vertical-align: top;\n",
       "    }\n",
       "\n",
       "    .dataframe thead th {\n",
       "        text-align: right;\n",
       "    }\n",
       "</style>\n",
       "<table border=\"1\" class=\"dataframe\">\n",
       "  <thead>\n",
       "    <tr style=\"text-align: right;\">\n",
       "      <th></th>\n",
       "      <th>League</th>\n",
       "      <th>Year</th>\n",
       "      <th>RS</th>\n",
       "      <th>RA</th>\n",
       "      <th>OBP</th>\n",
       "      <th>SLG</th>\n",
       "      <th>BA</th>\n",
       "      <th>Playoffs</th>\n",
       "      <th>G</th>\n",
       "      <th>OOBP</th>\n",
       "      <th>OSLG</th>\n",
       "    </tr>\n",
       "  </thead>\n",
       "  <tbody>\n",
       "    <tr>\n",
       "      <th>0</th>\n",
       "      <td>1</td>\n",
       "      <td>2012</td>\n",
       "      <td>734</td>\n",
       "      <td>688</td>\n",
       "      <td>0.328</td>\n",
       "      <td>0.418</td>\n",
       "      <td>0.259</td>\n",
       "      <td>0</td>\n",
       "      <td>162</td>\n",
       "      <td>0.317</td>\n",
       "      <td>0.415</td>\n",
       "    </tr>\n",
       "    <tr>\n",
       "      <th>1</th>\n",
       "      <td>1</td>\n",
       "      <td>2012</td>\n",
       "      <td>700</td>\n",
       "      <td>600</td>\n",
       "      <td>0.320</td>\n",
       "      <td>0.389</td>\n",
       "      <td>0.247</td>\n",
       "      <td>1</td>\n",
       "      <td>162</td>\n",
       "      <td>0.306</td>\n",
       "      <td>0.378</td>\n",
       "    </tr>\n",
       "    <tr>\n",
       "      <th>2</th>\n",
       "      <td>0</td>\n",
       "      <td>2012</td>\n",
       "      <td>712</td>\n",
       "      <td>705</td>\n",
       "      <td>0.311</td>\n",
       "      <td>0.417</td>\n",
       "      <td>0.247</td>\n",
       "      <td>1</td>\n",
       "      <td>162</td>\n",
       "      <td>0.315</td>\n",
       "      <td>0.403</td>\n",
       "    </tr>\n",
       "    <tr>\n",
       "      <th>3</th>\n",
       "      <td>0</td>\n",
       "      <td>2012</td>\n",
       "      <td>734</td>\n",
       "      <td>806</td>\n",
       "      <td>0.315</td>\n",
       "      <td>0.415</td>\n",
       "      <td>0.260</td>\n",
       "      <td>0</td>\n",
       "      <td>162</td>\n",
       "      <td>0.331</td>\n",
       "      <td>0.428</td>\n",
       "    </tr>\n",
       "    <tr>\n",
       "      <th>4</th>\n",
       "      <td>1</td>\n",
       "      <td>2012</td>\n",
       "      <td>613</td>\n",
       "      <td>759</td>\n",
       "      <td>0.302</td>\n",
       "      <td>0.378</td>\n",
       "      <td>0.240</td>\n",
       "      <td>0</td>\n",
       "      <td>162</td>\n",
       "      <td>0.335</td>\n",
       "      <td>0.424</td>\n",
       "    </tr>\n",
       "  </tbody>\n",
       "</table>\n",
       "</div>"
      ],
      "text/plain": [
       "   League  Year   RS   RA    OBP    SLG     BA  Playoffs    G   OOBP   OSLG\n",
       "0       1  2012  734  688  0.328  0.418  0.259         0  162  0.317  0.415\n",
       "1       1  2012  700  600  0.320  0.389  0.247         1  162  0.306  0.378\n",
       "2       0  2012  712  705  0.311  0.417  0.247         1  162  0.315  0.403\n",
       "3       0  2012  734  806  0.315  0.415  0.260         0  162  0.331  0.428\n",
       "4       1  2012  613  759  0.302  0.378  0.240         0  162  0.335  0.424"
      ]
     },
     "execution_count": 49,
     "metadata": {},
     "output_type": "execute_result"
    }
   ],
   "source": [
    "data.head()"
   ]
  },
  {
   "cell_type": "code",
   "execution_count": 50,
   "metadata": {},
   "outputs": [],
   "source": [
    "# 년도 데이터는 분석에 필요하지 않음\n",
    "del data['Year']"
   ]
  },
  {
   "cell_type": "code",
   "execution_count": 51,
   "metadata": {},
   "outputs": [
    {
     "data": {
      "text/html": [
       "<div>\n",
       "<style scoped>\n",
       "    .dataframe tbody tr th:only-of-type {\n",
       "        vertical-align: middle;\n",
       "    }\n",
       "\n",
       "    .dataframe tbody tr th {\n",
       "        vertical-align: top;\n",
       "    }\n",
       "\n",
       "    .dataframe thead th {\n",
       "        text-align: right;\n",
       "    }\n",
       "</style>\n",
       "<table border=\"1\" class=\"dataframe\">\n",
       "  <thead>\n",
       "    <tr style=\"text-align: right;\">\n",
       "      <th></th>\n",
       "      <th>League</th>\n",
       "      <th>RS</th>\n",
       "      <th>RA</th>\n",
       "      <th>OBP</th>\n",
       "      <th>SLG</th>\n",
       "      <th>BA</th>\n",
       "      <th>Playoffs</th>\n",
       "      <th>G</th>\n",
       "      <th>OOBP</th>\n",
       "      <th>OSLG</th>\n",
       "    </tr>\n",
       "  </thead>\n",
       "  <tbody>\n",
       "    <tr>\n",
       "      <th>0</th>\n",
       "      <td>1</td>\n",
       "      <td>734</td>\n",
       "      <td>688</td>\n",
       "      <td>0.328</td>\n",
       "      <td>0.418</td>\n",
       "      <td>0.259</td>\n",
       "      <td>0</td>\n",
       "      <td>162</td>\n",
       "      <td>0.317</td>\n",
       "      <td>0.415</td>\n",
       "    </tr>\n",
       "    <tr>\n",
       "      <th>1</th>\n",
       "      <td>1</td>\n",
       "      <td>700</td>\n",
       "      <td>600</td>\n",
       "      <td>0.320</td>\n",
       "      <td>0.389</td>\n",
       "      <td>0.247</td>\n",
       "      <td>1</td>\n",
       "      <td>162</td>\n",
       "      <td>0.306</td>\n",
       "      <td>0.378</td>\n",
       "    </tr>\n",
       "    <tr>\n",
       "      <th>2</th>\n",
       "      <td>0</td>\n",
       "      <td>712</td>\n",
       "      <td>705</td>\n",
       "      <td>0.311</td>\n",
       "      <td>0.417</td>\n",
       "      <td>0.247</td>\n",
       "      <td>1</td>\n",
       "      <td>162</td>\n",
       "      <td>0.315</td>\n",
       "      <td>0.403</td>\n",
       "    </tr>\n",
       "    <tr>\n",
       "      <th>3</th>\n",
       "      <td>0</td>\n",
       "      <td>734</td>\n",
       "      <td>806</td>\n",
       "      <td>0.315</td>\n",
       "      <td>0.415</td>\n",
       "      <td>0.260</td>\n",
       "      <td>0</td>\n",
       "      <td>162</td>\n",
       "      <td>0.331</td>\n",
       "      <td>0.428</td>\n",
       "    </tr>\n",
       "    <tr>\n",
       "      <th>4</th>\n",
       "      <td>1</td>\n",
       "      <td>613</td>\n",
       "      <td>759</td>\n",
       "      <td>0.302</td>\n",
       "      <td>0.378</td>\n",
       "      <td>0.240</td>\n",
       "      <td>0</td>\n",
       "      <td>162</td>\n",
       "      <td>0.335</td>\n",
       "      <td>0.424</td>\n",
       "    </tr>\n",
       "  </tbody>\n",
       "</table>\n",
       "</div>"
      ],
      "text/plain": [
       "   League   RS   RA    OBP    SLG     BA  Playoffs    G   OOBP   OSLG\n",
       "0       1  734  688  0.328  0.418  0.259         0  162  0.317  0.415\n",
       "1       1  700  600  0.320  0.389  0.247         1  162  0.306  0.378\n",
       "2       0  712  705  0.311  0.417  0.247         1  162  0.315  0.403\n",
       "3       0  734  806  0.315  0.415  0.260         0  162  0.331  0.428\n",
       "4       1  613  759  0.302  0.378  0.240         0  162  0.335  0.424"
      ]
     },
     "execution_count": 51,
     "metadata": {},
     "output_type": "execute_result"
    }
   ],
   "source": [
    "data.head()"
   ]
  },
  {
   "cell_type": "markdown",
   "metadata": {},
   "source": [
    "# 3. train_test_split"
   ]
  },
  {
   "cell_type": "markdown",
   "metadata": {},
   "source": [
    "데이터 셋을 독립변수와 종속변수로 나눠준다.varialbe(X) and dependent(y) variable."
   ]
  },
  {
   "cell_type": "code",
   "execution_count": 52,
   "metadata": {},
   "outputs": [],
   "source": [
    "y = data['Playoffs']\n",
    "X = data.drop('Playoffs',axis=1)"
   ]
  },
  {
   "cell_type": "markdown",
   "metadata": {},
   "source": [
    "splitting the data set as test_set and train_set to make predictions usoing the calssfiers."
   ]
  },
  {
   "cell_type": "code",
   "execution_count": 53,
   "metadata": {},
   "outputs": [
    {
     "data": {
      "text/html": [
       "<div>\n",
       "<style scoped>\n",
       "    .dataframe tbody tr th:only-of-type {\n",
       "        vertical-align: middle;\n",
       "    }\n",
       "\n",
       "    .dataframe tbody tr th {\n",
       "        vertical-align: top;\n",
       "    }\n",
       "\n",
       "    .dataframe thead th {\n",
       "        text-align: right;\n",
       "    }\n",
       "</style>\n",
       "<table border=\"1\" class=\"dataframe\">\n",
       "  <thead>\n",
       "    <tr style=\"text-align: right;\">\n",
       "      <th></th>\n",
       "      <th>League</th>\n",
       "      <th>RS</th>\n",
       "      <th>RA</th>\n",
       "      <th>OBP</th>\n",
       "      <th>SLG</th>\n",
       "      <th>BA</th>\n",
       "      <th>G</th>\n",
       "      <th>OOBP</th>\n",
       "      <th>OSLG</th>\n",
       "    </tr>\n",
       "  </thead>\n",
       "  <tbody>\n",
       "    <tr>\n",
       "      <th>0</th>\n",
       "      <td>1</td>\n",
       "      <td>734</td>\n",
       "      <td>688</td>\n",
       "      <td>0.328</td>\n",
       "      <td>0.418</td>\n",
       "      <td>0.259</td>\n",
       "      <td>162</td>\n",
       "      <td>0.317</td>\n",
       "      <td>0.415</td>\n",
       "    </tr>\n",
       "    <tr>\n",
       "      <th>1</th>\n",
       "      <td>1</td>\n",
       "      <td>700</td>\n",
       "      <td>600</td>\n",
       "      <td>0.320</td>\n",
       "      <td>0.389</td>\n",
       "      <td>0.247</td>\n",
       "      <td>162</td>\n",
       "      <td>0.306</td>\n",
       "      <td>0.378</td>\n",
       "    </tr>\n",
       "    <tr>\n",
       "      <th>2</th>\n",
       "      <td>0</td>\n",
       "      <td>712</td>\n",
       "      <td>705</td>\n",
       "      <td>0.311</td>\n",
       "      <td>0.417</td>\n",
       "      <td>0.247</td>\n",
       "      <td>162</td>\n",
       "      <td>0.315</td>\n",
       "      <td>0.403</td>\n",
       "    </tr>\n",
       "    <tr>\n",
       "      <th>3</th>\n",
       "      <td>0</td>\n",
       "      <td>734</td>\n",
       "      <td>806</td>\n",
       "      <td>0.315</td>\n",
       "      <td>0.415</td>\n",
       "      <td>0.260</td>\n",
       "      <td>162</td>\n",
       "      <td>0.331</td>\n",
       "      <td>0.428</td>\n",
       "    </tr>\n",
       "    <tr>\n",
       "      <th>4</th>\n",
       "      <td>1</td>\n",
       "      <td>613</td>\n",
       "      <td>759</td>\n",
       "      <td>0.302</td>\n",
       "      <td>0.378</td>\n",
       "      <td>0.240</td>\n",
       "      <td>162</td>\n",
       "      <td>0.335</td>\n",
       "      <td>0.424</td>\n",
       "    </tr>\n",
       "  </tbody>\n",
       "</table>\n",
       "</div>"
      ],
      "text/plain": [
       "   League   RS   RA    OBP    SLG     BA    G   OOBP   OSLG\n",
       "0       1  734  688  0.328  0.418  0.259  162  0.317  0.415\n",
       "1       1  700  600  0.320  0.389  0.247  162  0.306  0.378\n",
       "2       0  712  705  0.311  0.417  0.247  162  0.315  0.403\n",
       "3       0  734  806  0.315  0.415  0.260  162  0.331  0.428\n",
       "4       1  613  759  0.302  0.378  0.240  162  0.335  0.424"
      ]
     },
     "execution_count": 53,
     "metadata": {},
     "output_type": "execute_result"
    }
   ],
   "source": [
    "X.head()"
   ]
  },
  {
   "cell_type": "markdown",
   "metadata": {},
   "source": [
    "#### Feature G를 삭제해줍니다(값에 의미가  있나 없나? -> 일단 보류해보기) ???"
   ]
  },
  {
   "cell_type": "code",
   "execution_count": 54,
   "metadata": {},
   "outputs": [
    {
     "data": {
      "text/html": [
       "<div>\n",
       "<style scoped>\n",
       "    .dataframe tbody tr th:only-of-type {\n",
       "        vertical-align: middle;\n",
       "    }\n",
       "\n",
       "    .dataframe tbody tr th {\n",
       "        vertical-align: top;\n",
       "    }\n",
       "\n",
       "    .dataframe thead th {\n",
       "        text-align: right;\n",
       "    }\n",
       "</style>\n",
       "<table border=\"1\" class=\"dataframe\">\n",
       "  <thead>\n",
       "    <tr style=\"text-align: right;\">\n",
       "      <th></th>\n",
       "      <th>League</th>\n",
       "      <th>RS</th>\n",
       "      <th>RA</th>\n",
       "      <th>OBP</th>\n",
       "      <th>SLG</th>\n",
       "      <th>BA</th>\n",
       "      <th>G</th>\n",
       "      <th>OOBP</th>\n",
       "      <th>OSLG</th>\n",
       "    </tr>\n",
       "  </thead>\n",
       "  <tbody>\n",
       "    <tr>\n",
       "      <th>0</th>\n",
       "      <td>1</td>\n",
       "      <td>734</td>\n",
       "      <td>688</td>\n",
       "      <td>0.328</td>\n",
       "      <td>0.418</td>\n",
       "      <td>0.259</td>\n",
       "      <td>162</td>\n",
       "      <td>0.317</td>\n",
       "      <td>0.415</td>\n",
       "    </tr>\n",
       "    <tr>\n",
       "      <th>1</th>\n",
       "      <td>1</td>\n",
       "      <td>700</td>\n",
       "      <td>600</td>\n",
       "      <td>0.320</td>\n",
       "      <td>0.389</td>\n",
       "      <td>0.247</td>\n",
       "      <td>162</td>\n",
       "      <td>0.306</td>\n",
       "      <td>0.378</td>\n",
       "    </tr>\n",
       "    <tr>\n",
       "      <th>2</th>\n",
       "      <td>0</td>\n",
       "      <td>712</td>\n",
       "      <td>705</td>\n",
       "      <td>0.311</td>\n",
       "      <td>0.417</td>\n",
       "      <td>0.247</td>\n",
       "      <td>162</td>\n",
       "      <td>0.315</td>\n",
       "      <td>0.403</td>\n",
       "    </tr>\n",
       "    <tr>\n",
       "      <th>3</th>\n",
       "      <td>0</td>\n",
       "      <td>734</td>\n",
       "      <td>806</td>\n",
       "      <td>0.315</td>\n",
       "      <td>0.415</td>\n",
       "      <td>0.260</td>\n",
       "      <td>162</td>\n",
       "      <td>0.331</td>\n",
       "      <td>0.428</td>\n",
       "    </tr>\n",
       "    <tr>\n",
       "      <th>4</th>\n",
       "      <td>1</td>\n",
       "      <td>613</td>\n",
       "      <td>759</td>\n",
       "      <td>0.302</td>\n",
       "      <td>0.378</td>\n",
       "      <td>0.240</td>\n",
       "      <td>162</td>\n",
       "      <td>0.335</td>\n",
       "      <td>0.424</td>\n",
       "    </tr>\n",
       "  </tbody>\n",
       "</table>\n",
       "</div>"
      ],
      "text/plain": [
       "   League   RS   RA    OBP    SLG     BA    G   OOBP   OSLG\n",
       "0       1  734  688  0.328  0.418  0.259  162  0.317  0.415\n",
       "1       1  700  600  0.320  0.389  0.247  162  0.306  0.378\n",
       "2       0  712  705  0.311  0.417  0.247  162  0.315  0.403\n",
       "3       0  734  806  0.315  0.415  0.260  162  0.331  0.428\n",
       "4       1  613  759  0.302  0.378  0.240  162  0.335  0.424"
      ]
     },
     "execution_count": 54,
     "metadata": {},
     "output_type": "execute_result"
    }
   ],
   "source": [
    "# del X['G'] \n",
    "X.head()"
   ]
  },
  {
   "cell_type": "code",
   "execution_count": 55,
   "metadata": {},
   "outputs": [
    {
     "data": {
      "text/plain": [
       "0       0\n",
       "1       1\n",
       "2       1\n",
       "3       0\n",
       "4       0\n",
       "5       0\n",
       "6       1\n",
       "7       0\n",
       "8       0\n",
       "9       1\n",
       "10      0\n",
       "11      0\n",
       "12      0\n",
       "13      0\n",
       "14      0\n",
       "15      0\n",
       "16      0\n",
       "17      0\n",
       "18      1\n",
       "19      1\n",
       "20      0\n",
       "21      0\n",
       "22      0\n",
       "23      0\n",
       "24      1\n",
       "25      1\n",
       "26      0\n",
       "27      1\n",
       "28      0\n",
       "29      1\n",
       "       ..\n",
       "1202    1\n",
       "1203    0\n",
       "1204    0\n",
       "1205    0\n",
       "1206    1\n",
       "1207    0\n",
       "1208    0\n",
       "1209    0\n",
       "1210    0\n",
       "1211    0\n",
       "1212    0\n",
       "1213    0\n",
       "1214    0\n",
       "1215    0\n",
       "1216    0\n",
       "1217    0\n",
       "1218    0\n",
       "1219    0\n",
       "1220    0\n",
       "1221    0\n",
       "1222    0\n",
       "1223    0\n",
       "1224    0\n",
       "1225    0\n",
       "1226    1\n",
       "1227    0\n",
       "1228    0\n",
       "1229    1\n",
       "1230    0\n",
       "1231    0\n",
       "Name: Playoffs, Length: 1232, dtype: int64"
      ]
     },
     "execution_count": 55,
     "metadata": {},
     "output_type": "execute_result"
    }
   ],
   "source": [
    "y"
   ]
  },
  {
   "cell_type": "markdown",
   "metadata": {},
   "source": [
    "* Splitting the data set as test_set and train_set to make predictions using the classifiers."
   ]
  },
  {
   "cell_type": "code",
   "execution_count": 56,
   "metadata": {},
   "outputs": [],
   "source": [
    "# Splitting the dataset into the Training set and Test set\n",
    "\n",
    "from sklearn.model_selection import train_test_split\n",
    "X_train, X_test, y_train, y_test = train_test_split(X, y, test_size = 0.2, random_state = 0)\n"
   ]
  },
  {
   "cell_type": "markdown",
   "metadata": {},
   "source": [
    "# Q1. train_tset_split module\n",
    "* train_test_split() 함수에 들어가는 각각의 인자 값은 무엇을 의미하는가?\n",
    "\n",
    "- arrays : 학습 데이터와 정답 데이터 array\n",
    "- test_size : 8:2 비율로 학습:정답 데이터를 나누겠다.\n",
    "- random_state : random 값이 매번 달라지면 안되니까 고정할 번호\n"
   ]
  },
  {
   "cell_type": "markdown",
   "metadata": {},
   "source": [
    "# 4. Feature Scaling\n",
    "\n",
    "경우에 따라 값이 특정 범위에서 매우 높은 범위로 변환되어 피쳐 스케일링을 사용합니다."
   ]
  },
  {
   "cell_type": "code",
   "execution_count": 57,
   "metadata": {},
   "outputs": [
    {
     "data": {
      "text/html": [
       "<div>\n",
       "<style scoped>\n",
       "    .dataframe tbody tr th:only-of-type {\n",
       "        vertical-align: middle;\n",
       "    }\n",
       "\n",
       "    .dataframe tbody tr th {\n",
       "        vertical-align: top;\n",
       "    }\n",
       "\n",
       "    .dataframe thead th {\n",
       "        text-align: right;\n",
       "    }\n",
       "</style>\n",
       "<table border=\"1\" class=\"dataframe\">\n",
       "  <thead>\n",
       "    <tr style=\"text-align: right;\">\n",
       "      <th></th>\n",
       "      <th>League</th>\n",
       "      <th>RS</th>\n",
       "      <th>RA</th>\n",
       "      <th>OBP</th>\n",
       "      <th>SLG</th>\n",
       "      <th>BA</th>\n",
       "      <th>G</th>\n",
       "      <th>OOBP</th>\n",
       "      <th>OSLG</th>\n",
       "    </tr>\n",
       "  </thead>\n",
       "  <tbody>\n",
       "    <tr>\n",
       "      <th>592</th>\n",
       "      <td>1</td>\n",
       "      <td>693</td>\n",
       "      <td>597</td>\n",
       "      <td>0.325</td>\n",
       "      <td>0.399</td>\n",
       "      <td>0.265</td>\n",
       "      <td>162</td>\n",
       "      <td>0.332264</td>\n",
       "      <td>0.419743</td>\n",
       "    </tr>\n",
       "    <tr>\n",
       "      <th>406</th>\n",
       "      <td>0</td>\n",
       "      <td>686</td>\n",
       "      <td>845</td>\n",
       "      <td>0.328</td>\n",
       "      <td>0.384</td>\n",
       "      <td>0.264</td>\n",
       "      <td>161</td>\n",
       "      <td>0.342000</td>\n",
       "      <td>0.465000</td>\n",
       "    </tr>\n",
       "    <tr>\n",
       "      <th>814</th>\n",
       "      <td>1</td>\n",
       "      <td>675</td>\n",
       "      <td>658</td>\n",
       "      <td>0.311</td>\n",
       "      <td>0.359</td>\n",
       "      <td>0.257</td>\n",
       "      <td>162</td>\n",
       "      <td>0.332264</td>\n",
       "      <td>0.419743</td>\n",
       "    </tr>\n",
       "    <tr>\n",
       "      <th>270</th>\n",
       "      <td>0</td>\n",
       "      <td>736</td>\n",
       "      <td>743</td>\n",
       "      <td>0.330</td>\n",
       "      <td>0.413</td>\n",
       "      <td>0.268</td>\n",
       "      <td>162</td>\n",
       "      <td>0.327000</td>\n",
       "      <td>0.421000</td>\n",
       "    </tr>\n",
       "    <tr>\n",
       "      <th>254</th>\n",
       "      <td>1</td>\n",
       "      <td>761</td>\n",
       "      <td>684</td>\n",
       "      <td>0.332</td>\n",
       "      <td>0.423</td>\n",
       "      <td>0.262</td>\n",
       "      <td>162</td>\n",
       "      <td>0.323000</td>\n",
       "      <td>0.408000</td>\n",
       "    </tr>\n",
       "  </tbody>\n",
       "</table>\n",
       "</div>"
      ],
      "text/plain": [
       "     League   RS   RA    OBP    SLG     BA    G      OOBP      OSLG\n",
       "592       1  693  597  0.325  0.399  0.265  162  0.332264  0.419743\n",
       "406       0  686  845  0.328  0.384  0.264  161  0.342000  0.465000\n",
       "814       1  675  658  0.311  0.359  0.257  162  0.332264  0.419743\n",
       "270       0  736  743  0.330  0.413  0.268  162  0.327000  0.421000\n",
       "254       1  761  684  0.332  0.423  0.262  162  0.323000  0.408000"
      ]
     },
     "execution_count": 57,
     "metadata": {},
     "output_type": "execute_result"
    }
   ],
   "source": [
    "X_train.head()"
   ]
  },
  {
   "cell_type": "markdown",
   "metadata": {},
   "source": [
    "## # X_train 데이터에 맞추고, X_test도 맞춘 model에 select 한다"
   ]
  },
  {
   "cell_type": "code",
   "execution_count": 58,
   "metadata": {},
   "outputs": [
    {
     "name": "stderr",
     "output_type": "stream",
     "text": [
      "/anaconda3/lib/python3.7/site-packages/sklearn/preprocessing/data.py:625: DataConversionWarning: Data with input dtype int64, float64 were all converted to float64 by StandardScaler.\n",
      "  return self.partial_fit(X, y)\n",
      "/anaconda3/lib/python3.7/site-packages/sklearn/base.py:462: DataConversionWarning: Data with input dtype int64, float64 were all converted to float64 by StandardScaler.\n",
      "  return self.fit(X, **fit_params).transform(X)\n",
      "/anaconda3/lib/python3.7/site-packages/ipykernel_launcher.py:7: DataConversionWarning: Data with input dtype int64, float64 were all converted to float64 by StandardScaler.\n",
      "  import sys\n"
     ]
    }
   ],
   "source": [
    "# Feature Scaling\n",
    "\n",
    "from sklearn.preprocessing import StandardScaler\n",
    "sc_X = StandardScaler()\n",
    "# X_train 데이터에 맞추고, X_test도 맞춘 model에 select 한다\n",
    "X_train_ori = sc_X.fit_transform(X_train)\n",
    "X_test_ori = sc_X.transform(X_test)\n",
    "warnings.filterwarnings(action='once')"
   ]
  },
  {
   "cell_type": "code",
   "execution_count": 59,
   "metadata": {},
   "outputs": [
    {
     "data": {
      "text/html": [
       "<div>\n",
       "<style scoped>\n",
       "    .dataframe tbody tr th:only-of-type {\n",
       "        vertical-align: middle;\n",
       "    }\n",
       "\n",
       "    .dataframe tbody tr th {\n",
       "        vertical-align: top;\n",
       "    }\n",
       "\n",
       "    .dataframe thead th {\n",
       "        text-align: right;\n",
       "    }\n",
       "</style>\n",
       "<table border=\"1\" class=\"dataframe\">\n",
       "  <thead>\n",
       "    <tr style=\"text-align: right;\">\n",
       "      <th></th>\n",
       "      <th>0</th>\n",
       "      <th>1</th>\n",
       "      <th>2</th>\n",
       "      <th>3</th>\n",
       "      <th>4</th>\n",
       "      <th>5</th>\n",
       "      <th>6</th>\n",
       "      <th>7</th>\n",
       "      <th>8</th>\n",
       "    </tr>\n",
       "  </thead>\n",
       "  <tbody>\n",
       "    <tr>\n",
       "      <th>0</th>\n",
       "      <td>1.034083</td>\n",
       "      <td>-0.243648</td>\n",
       "      <td>-1.280532</td>\n",
       "      <td>-0.086055</td>\n",
       "      <td>0.037879</td>\n",
       "      <td>0.445041</td>\n",
       "      <td>0.126073</td>\n",
       "      <td>0.011709</td>\n",
       "      <td>0.011647</td>\n",
       "    </tr>\n",
       "    <tr>\n",
       "      <th>1</th>\n",
       "      <td>-0.967040</td>\n",
       "      <td>-0.320207</td>\n",
       "      <td>1.396339</td>\n",
       "      <td>0.111071</td>\n",
       "      <td>-0.416760</td>\n",
       "      <td>0.367728</td>\n",
       "      <td>-1.529682</td>\n",
       "      <td>1.088977</td>\n",
       "      <td>2.957264</td>\n",
       "    </tr>\n",
       "    <tr>\n",
       "      <th>2</th>\n",
       "      <td>1.034083</td>\n",
       "      <td>-0.440516</td>\n",
       "      <td>-0.622108</td>\n",
       "      <td>-1.005976</td>\n",
       "      <td>-1.174492</td>\n",
       "      <td>-0.173464</td>\n",
       "      <td>0.126073</td>\n",
       "      <td>0.011709</td>\n",
       "      <td>0.011647</td>\n",
       "    </tr>\n",
       "    <tr>\n",
       "      <th>3</th>\n",
       "      <td>-0.967040</td>\n",
       "      <td>0.226648</td>\n",
       "      <td>0.295368</td>\n",
       "      <td>0.242488</td>\n",
       "      <td>0.462209</td>\n",
       "      <td>0.676981</td>\n",
       "      <td>0.126073</td>\n",
       "      <td>-0.570790</td>\n",
       "      <td>0.093469</td>\n",
       "    </tr>\n",
       "    <tr>\n",
       "      <th>4</th>\n",
       "      <td>1.034083</td>\n",
       "      <td>0.500076</td>\n",
       "      <td>-0.341469</td>\n",
       "      <td>0.373906</td>\n",
       "      <td>0.765302</td>\n",
       "      <td>0.213102</td>\n",
       "      <td>0.126073</td>\n",
       "      <td>-1.013394</td>\n",
       "      <td>-0.752652</td>\n",
       "    </tr>\n",
       "  </tbody>\n",
       "</table>\n",
       "</div>"
      ],
      "text/plain": [
       "          0         1         2         3         4         5         6  \\\n",
       "0  1.034083 -0.243648 -1.280532 -0.086055  0.037879  0.445041  0.126073   \n",
       "1 -0.967040 -0.320207  1.396339  0.111071 -0.416760  0.367728 -1.529682   \n",
       "2  1.034083 -0.440516 -0.622108 -1.005976 -1.174492 -0.173464  0.126073   \n",
       "3 -0.967040  0.226648  0.295368  0.242488  0.462209  0.676981  0.126073   \n",
       "4  1.034083  0.500076 -0.341469  0.373906  0.765302  0.213102  0.126073   \n",
       "\n",
       "          7         8  \n",
       "0  0.011709  0.011647  \n",
       "1  1.088977  2.957264  \n",
       "2  0.011709  0.011647  \n",
       "3 -0.570790  0.093469  \n",
       "4 -1.013394 -0.752652  "
      ]
     },
     "execution_count": 59,
     "metadata": {},
     "output_type": "execute_result"
    }
   ],
   "source": [
    "pd.DataFrame(X_train_ori).head()"
   ]
  },
  {
   "cell_type": "markdown",
   "metadata": {},
   "source": [
    "## Q2. Scaling\n",
    "#### Scaling을 통해 우리가 하고자 하는 것은 무엇인가요? \n",
    "#### -> 대부분의 데이터가 0~1사이 데이터 인데 RS, RA,G 같은 데이터들은 매우 큰 값을 가진다. 이렇게 되면 Logisitic regression에서 큰 영향력을 가지게 된다. 때문에 std나 mean을 이용해서 normalize 할 필요가 있다. scaling은 이런 작업을 위해 사용한다."
   ]
  },
  {
   "cell_type": "markdown",
   "metadata": {},
   "source": [
    "# 5. Modeling "
   ]
  },
  {
   "cell_type": "markdown",
   "metadata": {},
   "source": [
    "## Q3. LogisticRegression() 모델을 만들어주세요. 그리고 만든 모델 인자값에 들어가는 값들의 의미를 설명해주세요.\n",
    "- e.g LogisticRegression(random_state=0, solver='', multi_class='')\n",
    "\n",
    "- **모델 명은 model로 만듭니다**\n",
    "- random_state : random 값이 매번 달라지면 안되니까 고정할 번호\n",
    "- solver : 어떤 알고리즘을 사용할 것인가\n",
    "- For small datasets, ‘liblinear’ is a good choice, whereas ‘sag’ and ‘saga’ are faster for large ones.\n",
    "\n",
    "- multi_class: multi class일때는 multinomial, binary일때는 ovr\n"
   ]
  },
  {
   "cell_type": "code",
   "execution_count": 60,
   "metadata": {},
   "outputs": [
    {
     "data": {
      "text/plain": [
       "LogisticRegression(C=1.0, class_weight=None, dual=False, fit_intercept=True,\n",
       "          intercept_scaling=1, max_iter=100, multi_class='ovr',\n",
       "          n_jobs=None, penalty='l2', random_state=0, solver='liblinear',\n",
       "          tol=0.0001, verbose=0, warm_start=False)"
      ]
     },
     "execution_count": 60,
     "metadata": {},
     "output_type": "execute_result"
    }
   ],
   "source": [
    "from sklearn.linear_model import LogisticRegression\n",
    "# LogisticRegression Library를 활용해서 모델을 만들어주세요\n",
    "model = LogisticRegression(random_state=0, solver='liblinear', multi_class='ovr')\n",
    "model.fit(X_train_ori,y_train)"
   ]
  },
  {
   "cell_type": "code",
   "execution_count": 61,
   "metadata": {},
   "outputs": [
    {
     "data": {
      "text/plain": [
       "array([1, 0, 0, 0, 0, 0, 0, 0, 0, 0, 0, 0, 1, 0, 0, 0, 0, 0, 0, 1, 0, 0,\n",
       "       0, 0, 0, 0, 0, 0, 0, 0, 0, 0, 0, 0, 0, 0, 0, 0, 0, 0, 0, 0, 0, 0,\n",
       "       0, 0, 1, 0, 0, 0, 1, 0, 1, 0, 0, 0, 1, 0, 0, 1, 0, 0, 1, 0, 0, 0,\n",
       "       0, 0, 0, 0, 0, 0, 1, 0, 1, 0, 0, 0, 1, 0, 0, 0, 0, 0, 0, 0, 0, 0,\n",
       "       0, 0, 0, 0, 0, 1, 0, 1, 0, 0, 0, 0, 0, 0, 0, 0, 0, 1, 0, 0, 1, 0,\n",
       "       0, 1, 0, 1, 0, 0, 0, 1, 0, 0, 0, 1, 0, 0, 0, 0, 0, 0, 0, 1, 0, 0,\n",
       "       0, 1, 0, 1, 0, 0, 0, 1, 0, 0, 0, 0, 0, 0, 0, 0, 0, 0, 0, 0, 0, 0,\n",
       "       0, 0, 0, 0, 1, 0, 0, 0, 0, 0, 1, 0, 1, 0, 0, 0, 0, 0, 1, 1, 0, 0,\n",
       "       0, 0, 0, 0, 0, 1, 1, 0, 0, 0, 0, 0, 0, 0, 0, 0, 1, 1, 0, 0, 1, 0,\n",
       "       0, 0, 0, 0, 0, 1, 0, 0, 0, 0, 0, 0, 0, 0, 0, 0, 0, 1, 1, 0, 1, 1,\n",
       "       0, 0, 0, 0, 0, 0, 0, 0, 0, 0, 0, 1, 0, 0, 0, 0, 0, 1, 0, 0, 0, 0,\n",
       "       0, 0, 0, 1, 0])"
      ]
     },
     "execution_count": 61,
     "metadata": {},
     "output_type": "execute_result"
    }
   ],
   "source": [
    "# 예측결과 확인하기\n",
    "model.predict(X_test)"
   ]
  },
  {
   "cell_type": "code",
   "execution_count": 62,
   "metadata": {},
   "outputs": [
    {
     "data": {
      "text/plain": [
       "array([[0.00000000e+000, 1.00000000e+000],\n",
       "       [1.00000000e+000, 1.07326227e-038],\n",
       "       [1.00000000e+000, 2.12708631e-039],\n",
       "       [1.00000000e+000, 1.29761331e-123],\n",
       "       [1.00000000e+000, 4.17673794e-022],\n",
       "       [1.00000000e+000, 1.20749729e-065],\n",
       "       [8.66624220e-001, 1.33375780e-001],\n",
       "       [1.00000000e+000, 3.05569379e-104],\n",
       "       [1.00000000e+000, 3.54783397e-217],\n",
       "       [1.00000000e+000, 1.66584755e-175],\n",
       "       [1.00000000e+000, 3.57024900e-031],\n",
       "       [1.00000000e+000, 1.55191604e-207],\n",
       "       [0.00000000e+000, 1.00000000e+000],\n",
       "       [1.00000000e+000, 2.74178622e-018],\n",
       "       [1.00000000e+000, 3.60073727e-035],\n",
       "       [1.00000000e+000, 8.83164680e-247],\n",
       "       [1.00000000e+000, 1.29787398e-015],\n",
       "       [1.00000000e+000, 1.50985263e-039],\n",
       "       [1.00000000e+000, 4.93593134e-128],\n",
       "       [0.00000000e+000, 1.00000000e+000],\n",
       "       [1.00000000e+000, 1.47028453e-190],\n",
       "       [1.00000000e+000, 1.67441027e-208],\n",
       "       [1.00000000e+000, 4.69886866e-095],\n",
       "       [1.00000000e+000, 1.33353247e-077],\n",
       "       [1.00000000e+000, 1.88196645e-090],\n",
       "       [1.00000000e+000, 7.94500250e-062],\n",
       "       [1.00000000e+000, 8.01136589e-194],\n",
       "       [1.00000000e+000, 8.11584581e-054],\n",
       "       [1.00000000e+000, 4.66752238e-187],\n",
       "       [1.00000000e+000, 5.01408158e-155],\n",
       "       [1.00000000e+000, 6.04375734e-120],\n",
       "       [1.00000000e+000, 2.66439079e-212],\n",
       "       [9.99999999e-001, 1.02686795e-009],\n",
       "       [1.00000000e+000, 4.45859112e-050],\n",
       "       [1.00000000e+000, 8.38498402e-147],\n",
       "       [1.00000000e+000, 2.92021856e-118],\n",
       "       [1.00000000e+000, 1.46065247e-149],\n",
       "       [1.00000000e+000, 1.87983046e-123],\n",
       "       [1.00000000e+000, 2.88767563e-146],\n",
       "       [1.00000000e+000, 4.47430163e-143],\n",
       "       [1.00000000e+000, 2.94640389e-174],\n",
       "       [1.00000000e+000, 2.63679923e-170],\n",
       "       [1.00000000e+000, 8.46602810e-050],\n",
       "       [1.00000000e+000, 0.00000000e+000],\n",
       "       [1.00000000e+000, 1.11803576e-015],\n",
       "       [1.00000000e+000, 1.34747127e-092],\n",
       "       [0.00000000e+000, 1.00000000e+000],\n",
       "       [1.00000000e+000, 1.94429155e-116],\n",
       "       [1.00000000e+000, 1.92757768e-032],\n",
       "       [1.00000000e+000, 6.96156893e-028],\n",
       "       [0.00000000e+000, 1.00000000e+000],\n",
       "       [1.00000000e+000, 4.37706224e-227],\n",
       "       [0.00000000e+000, 1.00000000e+000],\n",
       "       [1.00000000e+000, 3.38302693e-061],\n",
       "       [1.00000000e+000, 7.53679791e-033],\n",
       "       [1.00000000e+000, 2.63817455e-078],\n",
       "       [0.00000000e+000, 1.00000000e+000],\n",
       "       [1.00000000e+000, 3.81317651e-074],\n",
       "       [1.00000000e+000, 9.15364925e-141],\n",
       "       [4.59413579e-007, 9.99999541e-001],\n",
       "       [1.00000000e+000, 5.32141329e-130],\n",
       "       [1.00000000e+000, 1.86497016e-225],\n",
       "       [0.00000000e+000, 1.00000000e+000],\n",
       "       [1.00000000e+000, 6.71564613e-188],\n",
       "       [1.00000000e+000, 7.50209930e-209],\n",
       "       [1.00000000e+000, 1.25072790e-126],\n",
       "       [1.00000000e+000, 2.28633506e-092],\n",
       "       [1.00000000e+000, 6.51525185e-048],\n",
       "       [1.00000000e+000, 2.60383628e-110],\n",
       "       [1.00000000e+000, 1.15318106e-083],\n",
       "       [1.00000000e+000, 2.01187657e-108],\n",
       "       [9.99960633e-001, 3.93670319e-005],\n",
       "       [1.53860754e-005, 9.99984614e-001],\n",
       "       [1.00000000e+000, 2.68705770e-087],\n",
       "       [0.00000000e+000, 1.00000000e+000],\n",
       "       [1.00000000e+000, 1.77383488e-262],\n",
       "       [9.99999993e-001, 7.18878936e-009],\n",
       "       [1.00000000e+000, 4.61268035e-258],\n",
       "       [0.00000000e+000, 1.00000000e+000],\n",
       "       [1.00000000e+000, 5.95519391e-056],\n",
       "       [1.00000000e+000, 1.62310866e-162],\n",
       "       [1.00000000e+000, 6.83114708e-017],\n",
       "       [1.00000000e+000, 7.28729155e-186],\n",
       "       [1.00000000e+000, 6.71566003e-211],\n",
       "       [1.00000000e+000, 4.01092219e-019],\n",
       "       [1.00000000e+000, 1.07708959e-047],\n",
       "       [1.00000000e+000, 1.29812704e-024],\n",
       "       [1.00000000e+000, 3.97647466e-155],\n",
       "       [1.00000000e+000, 5.05554316e-273],\n",
       "       [1.00000000e+000, 6.40027840e-047],\n",
       "       [1.00000000e+000, 3.19623070e-153],\n",
       "       [1.00000000e+000, 6.47689787e-104],\n",
       "       [1.00000000e+000, 3.11944918e-017],\n",
       "       [0.00000000e+000, 1.00000000e+000],\n",
       "       [1.00000000e+000, 5.61415991e-192],\n",
       "       [0.00000000e+000, 1.00000000e+000],\n",
       "       [1.00000000e+000, 4.31222527e-179],\n",
       "       [1.00000000e+000, 9.46358722e-151],\n",
       "       [1.00000000e+000, 2.05529434e-191],\n",
       "       [1.00000000e+000, 3.54920083e-230],\n",
       "       [1.00000000e+000, 2.47548183e-164],\n",
       "       [1.00000000e+000, 3.53806675e-077],\n",
       "       [1.00000000e+000, 2.56384090e-095],\n",
       "       [1.00000000e+000, 2.73772800e-180],\n",
       "       [1.00000000e+000, 0.00000000e+000],\n",
       "       [0.00000000e+000, 1.00000000e+000],\n",
       "       [1.00000000e+000, 3.64294020e-156],\n",
       "       [1.00000000e+000, 1.20784655e-251],\n",
       "       [1.51279373e-008, 9.99999985e-001],\n",
       "       [1.00000000e+000, 4.30850512e-055],\n",
       "       [1.00000000e+000, 0.00000000e+000],\n",
       "       [0.00000000e+000, 1.00000000e+000],\n",
       "       [1.00000000e+000, 6.01218702e-041],\n",
       "       [6.24142636e-006, 9.99993759e-001],\n",
       "       [1.00000000e+000, 5.47654835e-019],\n",
       "       [1.00000000e+000, 1.75839840e-076],\n",
       "       [1.00000000e+000, 9.01058505e-248],\n",
       "       [0.00000000e+000, 1.00000000e+000],\n",
       "       [1.00000000e+000, 1.55648650e-043],\n",
       "       [1.00000000e+000, 1.70394473e-195],\n",
       "       [1.00000000e+000, 1.34319696e-067],\n",
       "       [2.40474307e-013, 1.00000000e+000],\n",
       "       [1.00000000e+000, 2.15119361e-044],\n",
       "       [1.00000000e+000, 1.80617156e-226],\n",
       "       [1.00000000e+000, 1.82407823e-085],\n",
       "       [1.00000000e+000, 6.17741606e-185],\n",
       "       [1.00000000e+000, 5.75991063e-169],\n",
       "       [1.00000000e+000, 3.00571081e-090],\n",
       "       [1.00000000e+000, 4.26452637e-212],\n",
       "       [0.00000000e+000, 1.00000000e+000],\n",
       "       [1.00000000e+000, 2.66154626e-209],\n",
       "       [1.00000000e+000, 1.03733678e-172],\n",
       "       [1.00000000e+000, 2.86196515e-089],\n",
       "       [0.00000000e+000, 1.00000000e+000],\n",
       "       [1.00000000e+000, 1.89704608e-204],\n",
       "       [5.80245932e-006, 9.99994198e-001],\n",
       "       [1.00000000e+000, 7.52693284e-084],\n",
       "       [1.00000000e+000, 1.61074843e-198],\n",
       "       [1.00000000e+000, 2.38079939e-182],\n",
       "       [0.00000000e+000, 1.00000000e+000],\n",
       "       [1.00000000e+000, 1.03718713e-217],\n",
       "       [1.00000000e+000, 9.47204163e-165],\n",
       "       [1.00000000e+000, 8.12964675e-213],\n",
       "       [1.00000000e+000, 1.53629362e-117],\n",
       "       [1.00000000e+000, 1.21180888e-260],\n",
       "       [1.00000000e+000, 1.15415224e-216],\n",
       "       [1.00000000e+000, 3.88735808e-144],\n",
       "       [1.00000000e+000, 1.05290995e-167],\n",
       "       [1.00000000e+000, 1.35372998e-054],\n",
       "       [1.00000000e+000, 1.31602225e-133],\n",
       "       [1.00000000e+000, 4.60275701e-172],\n",
       "       [1.00000000e+000, 9.02680941e-172],\n",
       "       [1.00000000e+000, 1.38270355e-157],\n",
       "       [1.00000000e+000, 7.85160404e-281],\n",
       "       [1.00000000e+000, 0.00000000e+000],\n",
       "       [1.00000000e+000, 7.18059525e-013],\n",
       "       [1.00000000e+000, 4.19094019e-062],\n",
       "       [1.00000000e+000, 4.44823587e-162],\n",
       "       [0.00000000e+000, 1.00000000e+000],\n",
       "       [1.00000000e+000, 5.22085192e-019],\n",
       "       [1.00000000e+000, 1.80433890e-201],\n",
       "       [1.00000000e+000, 6.00482370e-167],\n",
       "       [1.00000000e+000, 6.58254484e-012],\n",
       "       [1.00000000e+000, 2.04869610e-014],\n",
       "       [9.46041245e-010, 9.99999999e-001],\n",
       "       [1.00000000e+000, 1.12746325e-108],\n",
       "       [0.00000000e+000, 1.00000000e+000],\n",
       "       [1.00000000e+000, 2.02417025e-074],\n",
       "       [1.00000000e+000, 8.68366532e-041],\n",
       "       [1.00000000e+000, 3.60125220e-202],\n",
       "       [1.00000000e+000, 3.39712778e-164],\n",
       "       [1.00000000e+000, 1.81194634e-234],\n",
       "       [0.00000000e+000, 1.00000000e+000],\n",
       "       [0.00000000e+000, 1.00000000e+000],\n",
       "       [1.00000000e+000, 1.57851196e-128],\n",
       "       [1.00000000e+000, 2.35934461e-223],\n",
       "       [1.00000000e+000, 1.49384739e-118],\n",
       "       [1.00000000e+000, 2.69507868e-078],\n",
       "       [1.00000000e+000, 4.71474401e-029],\n",
       "       [1.00000000e+000, 9.53718979e-064],\n",
       "       [1.00000000e+000, 3.15642512e-140],\n",
       "       [0.00000000e+000, 1.00000000e+000],\n",
       "       [0.00000000e+000, 1.00000000e+000],\n",
       "       [1.00000000e+000, 3.64417655e-073],\n",
       "       [1.00000000e+000, 2.57164045e-123],\n",
       "       [1.00000000e+000, 1.17069037e-058],\n",
       "       [1.00000000e+000, 2.93614938e-152],\n",
       "       [1.00000000e+000, 5.52157016e-133],\n",
       "       [1.00000000e+000, 5.67912729e-062],\n",
       "       [1.00000000e+000, 1.47550717e-052],\n",
       "       [1.00000000e+000, 3.25320549e-010],\n",
       "       [1.00000000e+000, 2.22855729e-160],\n",
       "       [0.00000000e+000, 1.00000000e+000],\n",
       "       [0.00000000e+000, 1.00000000e+000],\n",
       "       [9.99999995e-001, 5.13759266e-009],\n",
       "       [1.00000000e+000, 1.92255943e-151],\n",
       "       [6.59347164e-005, 9.99934065e-001],\n",
       "       [1.00000000e+000, 2.15857167e-016],\n",
       "       [1.00000000e+000, 1.86747687e-209],\n",
       "       [1.00000000e+000, 6.83748006e-170],\n",
       "       [1.00000000e+000, 0.00000000e+000],\n",
       "       [1.00000000e+000, 4.69275745e-131],\n",
       "       [1.00000000e+000, 1.07560893e-037],\n",
       "       [0.00000000e+000, 1.00000000e+000],\n",
       "       [1.00000000e+000, 3.82231786e-195],\n",
       "       [1.00000000e+000, 6.90990530e-101],\n",
       "       [1.00000000e+000, 3.46156002e-150],\n",
       "       [9.99999999e-001, 8.88114996e-010],\n",
       "       [1.00000000e+000, 1.04142863e-144],\n",
       "       [9.99999567e-001, 4.32637087e-007],\n",
       "       [1.00000000e+000, 7.05053213e-101],\n",
       "       [1.00000000e+000, 3.97243222e-252],\n",
       "       [1.00000000e+000, 1.81136001e-131],\n",
       "       [1.00000000e+000, 1.70438922e-306],\n",
       "       [1.00000000e+000, 1.31035852e-179],\n",
       "       [8.90176821e-013, 1.00000000e+000],\n",
       "       [0.00000000e+000, 1.00000000e+000],\n",
       "       [1.00000000e+000, 3.88318282e-044],\n",
       "       [1.05311351e-007, 9.99999895e-001],\n",
       "       [1.53210777e-014, 1.00000000e+000],\n",
       "       [1.00000000e+000, 5.14405026e-054],\n",
       "       [1.00000000e+000, 9.90301504e-185],\n",
       "       [1.00000000e+000, 6.28062427e-149],\n",
       "       [1.00000000e+000, 9.41127421e-032],\n",
       "       [1.00000000e+000, 1.08069556e-052],\n",
       "       [1.00000000e+000, 2.73782569e-010],\n",
       "       [1.00000000e+000, 1.47922914e-181],\n",
       "       [1.00000000e+000, 5.43486650e-215],\n",
       "       [1.00000000e+000, 1.10461642e-229],\n",
       "       [1.00000000e+000, 2.48670649e-053],\n",
       "       [1.00000000e+000, 0.00000000e+000],\n",
       "       [0.00000000e+000, 1.00000000e+000],\n",
       "       [1.00000000e+000, 1.74236344e-289],\n",
       "       [1.00000000e+000, 2.72183025e-022],\n",
       "       [1.00000000e+000, 5.75407469e-114],\n",
       "       [1.00000000e+000, 3.06079076e-202],\n",
       "       [1.00000000e+000, 2.09075294e-155],\n",
       "       [1.14535263e-006, 9.99998855e-001],\n",
       "       [1.00000000e+000, 7.03442677e-116],\n",
       "       [1.00000000e+000, 4.89672657e-269],\n",
       "       [1.00000000e+000, 4.31057087e-078],\n",
       "       [1.00000000e+000, 5.30587424e-018],\n",
       "       [1.00000000e+000, 5.01781726e-060],\n",
       "       [1.00000000e+000, 6.65837704e-118],\n",
       "       [1.00000000e+000, 8.81327562e-149],\n",
       "       [0.00000000e+000, 1.00000000e+000],\n",
       "       [1.00000000e+000, 2.80106475e-053]])"
      ]
     },
     "execution_count": 62,
     "metadata": {},
     "output_type": "execute_result"
    }
   ],
   "source": [
    "model.predict_proba(X_test) # 예측 확률 보여줌"
   ]
  },
  {
   "cell_type": "code",
   "execution_count": 64,
   "metadata": {},
   "outputs": [],
   "source": [
    "result = model.predict(X_test) == y_test"
   ]
  },
  {
   "cell_type": "code",
   "execution_count": 65,
   "metadata": {},
   "outputs": [
    {
     "data": {
      "text/plain": [
       "0.8502024291497976"
      ]
     },
     "execution_count": 65,
     "metadata": {},
     "output_type": "execute_result"
    }
   ],
   "source": [
    "# 맞은 비율\n",
    "np.sum(result)/len(result) "
   ]
  },
  {
   "cell_type": "markdown",
   "metadata": {},
   "source": [
    "# League Feature를 삭제해보면 어떨까?"
   ]
  },
  {
   "cell_type": "code",
   "execution_count": 66,
   "metadata": {},
   "outputs": [
    {
     "data": {
      "text/html": [
       "<div>\n",
       "<style scoped>\n",
       "    .dataframe tbody tr th:only-of-type {\n",
       "        vertical-align: middle;\n",
       "    }\n",
       "\n",
       "    .dataframe tbody tr th {\n",
       "        vertical-align: top;\n",
       "    }\n",
       "\n",
       "    .dataframe thead th {\n",
       "        text-align: right;\n",
       "    }\n",
       "</style>\n",
       "<table border=\"1\" class=\"dataframe\">\n",
       "  <thead>\n",
       "    <tr style=\"text-align: right;\">\n",
       "      <th></th>\n",
       "      <th>League</th>\n",
       "      <th>RS</th>\n",
       "      <th>RA</th>\n",
       "      <th>OBP</th>\n",
       "      <th>SLG</th>\n",
       "      <th>BA</th>\n",
       "      <th>G</th>\n",
       "      <th>OOBP</th>\n",
       "      <th>OSLG</th>\n",
       "    </tr>\n",
       "  </thead>\n",
       "  <tbody>\n",
       "    <tr>\n",
       "      <th>592</th>\n",
       "      <td>1</td>\n",
       "      <td>693</td>\n",
       "      <td>597</td>\n",
       "      <td>0.325</td>\n",
       "      <td>0.399</td>\n",
       "      <td>0.265</td>\n",
       "      <td>162</td>\n",
       "      <td>0.332264</td>\n",
       "      <td>0.419743</td>\n",
       "    </tr>\n",
       "    <tr>\n",
       "      <th>406</th>\n",
       "      <td>0</td>\n",
       "      <td>686</td>\n",
       "      <td>845</td>\n",
       "      <td>0.328</td>\n",
       "      <td>0.384</td>\n",
       "      <td>0.264</td>\n",
       "      <td>161</td>\n",
       "      <td>0.342000</td>\n",
       "      <td>0.465000</td>\n",
       "    </tr>\n",
       "    <tr>\n",
       "      <th>814</th>\n",
       "      <td>1</td>\n",
       "      <td>675</td>\n",
       "      <td>658</td>\n",
       "      <td>0.311</td>\n",
       "      <td>0.359</td>\n",
       "      <td>0.257</td>\n",
       "      <td>162</td>\n",
       "      <td>0.332264</td>\n",
       "      <td>0.419743</td>\n",
       "    </tr>\n",
       "    <tr>\n",
       "      <th>270</th>\n",
       "      <td>0</td>\n",
       "      <td>736</td>\n",
       "      <td>743</td>\n",
       "      <td>0.330</td>\n",
       "      <td>0.413</td>\n",
       "      <td>0.268</td>\n",
       "      <td>162</td>\n",
       "      <td>0.327000</td>\n",
       "      <td>0.421000</td>\n",
       "    </tr>\n",
       "    <tr>\n",
       "      <th>254</th>\n",
       "      <td>1</td>\n",
       "      <td>761</td>\n",
       "      <td>684</td>\n",
       "      <td>0.332</td>\n",
       "      <td>0.423</td>\n",
       "      <td>0.262</td>\n",
       "      <td>162</td>\n",
       "      <td>0.323000</td>\n",
       "      <td>0.408000</td>\n",
       "    </tr>\n",
       "  </tbody>\n",
       "</table>\n",
       "</div>"
      ],
      "text/plain": [
       "     League   RS   RA    OBP    SLG     BA    G      OOBP      OSLG\n",
       "592       1  693  597  0.325  0.399  0.265  162  0.332264  0.419743\n",
       "406       0  686  845  0.328  0.384  0.264  161  0.342000  0.465000\n",
       "814       1  675  658  0.311  0.359  0.257  162  0.332264  0.419743\n",
       "270       0  736  743  0.330  0.413  0.268  162  0.327000  0.421000\n",
       "254       1  761  684  0.332  0.423  0.262  162  0.323000  0.408000"
      ]
     },
     "execution_count": 66,
     "metadata": {},
     "output_type": "execute_result"
    }
   ],
   "source": [
    "X_train.head()"
   ]
  },
  {
   "cell_type": "code",
   "execution_count": 67,
   "metadata": {},
   "outputs": [
    {
     "name": "stderr",
     "output_type": "stream",
     "text": [
      "/anaconda3/lib/python3.7/site-packages/pandas/core/frame.py:3697: SettingWithCopyWarning: \n",
      "A value is trying to be set on a copy of a slice from a DataFrame\n",
      "\n",
      "See the caveats in the documentation: http://pandas.pydata.org/pandas-docs/stable/indexing.html#indexing-view-versus-copy\n",
      "  errors=errors)\n"
     ]
    }
   ],
   "source": [
    "X_train.drop('League',axis=1,inplace=True)\n",
    "X_test.drop('League',axis=1,inplace=True)"
   ]
  },
  {
   "cell_type": "code",
   "execution_count": 68,
   "metadata": {},
   "outputs": [
    {
     "data": {
      "text/html": [
       "<div>\n",
       "<style scoped>\n",
       "    .dataframe tbody tr th:only-of-type {\n",
       "        vertical-align: middle;\n",
       "    }\n",
       "\n",
       "    .dataframe tbody tr th {\n",
       "        vertical-align: top;\n",
       "    }\n",
       "\n",
       "    .dataframe thead th {\n",
       "        text-align: right;\n",
       "    }\n",
       "</style>\n",
       "<table border=\"1\" class=\"dataframe\">\n",
       "  <thead>\n",
       "    <tr style=\"text-align: right;\">\n",
       "      <th></th>\n",
       "      <th>RS</th>\n",
       "      <th>RA</th>\n",
       "      <th>OBP</th>\n",
       "      <th>SLG</th>\n",
       "      <th>BA</th>\n",
       "      <th>G</th>\n",
       "      <th>OOBP</th>\n",
       "      <th>OSLG</th>\n",
       "    </tr>\n",
       "  </thead>\n",
       "  <tbody>\n",
       "    <tr>\n",
       "      <th>592</th>\n",
       "      <td>693</td>\n",
       "      <td>597</td>\n",
       "      <td>0.325</td>\n",
       "      <td>0.399</td>\n",
       "      <td>0.265</td>\n",
       "      <td>162</td>\n",
       "      <td>0.332264</td>\n",
       "      <td>0.419743</td>\n",
       "    </tr>\n",
       "    <tr>\n",
       "      <th>406</th>\n",
       "      <td>686</td>\n",
       "      <td>845</td>\n",
       "      <td>0.328</td>\n",
       "      <td>0.384</td>\n",
       "      <td>0.264</td>\n",
       "      <td>161</td>\n",
       "      <td>0.342000</td>\n",
       "      <td>0.465000</td>\n",
       "    </tr>\n",
       "    <tr>\n",
       "      <th>814</th>\n",
       "      <td>675</td>\n",
       "      <td>658</td>\n",
       "      <td>0.311</td>\n",
       "      <td>0.359</td>\n",
       "      <td>0.257</td>\n",
       "      <td>162</td>\n",
       "      <td>0.332264</td>\n",
       "      <td>0.419743</td>\n",
       "    </tr>\n",
       "    <tr>\n",
       "      <th>270</th>\n",
       "      <td>736</td>\n",
       "      <td>743</td>\n",
       "      <td>0.330</td>\n",
       "      <td>0.413</td>\n",
       "      <td>0.268</td>\n",
       "      <td>162</td>\n",
       "      <td>0.327000</td>\n",
       "      <td>0.421000</td>\n",
       "    </tr>\n",
       "    <tr>\n",
       "      <th>254</th>\n",
       "      <td>761</td>\n",
       "      <td>684</td>\n",
       "      <td>0.332</td>\n",
       "      <td>0.423</td>\n",
       "      <td>0.262</td>\n",
       "      <td>162</td>\n",
       "      <td>0.323000</td>\n",
       "      <td>0.408000</td>\n",
       "    </tr>\n",
       "  </tbody>\n",
       "</table>\n",
       "</div>"
      ],
      "text/plain": [
       "      RS   RA    OBP    SLG     BA    G      OOBP      OSLG\n",
       "592  693  597  0.325  0.399  0.265  162  0.332264  0.419743\n",
       "406  686  845  0.328  0.384  0.264  161  0.342000  0.465000\n",
       "814  675  658  0.311  0.359  0.257  162  0.332264  0.419743\n",
       "270  736  743  0.330  0.413  0.268  162  0.327000  0.421000\n",
       "254  761  684  0.332  0.423  0.262  162  0.323000  0.408000"
      ]
     },
     "execution_count": 68,
     "metadata": {},
     "output_type": "execute_result"
    }
   ],
   "source": [
    "X_train.head()"
   ]
  },
  {
   "cell_type": "code",
   "execution_count": 69,
   "metadata": {},
   "outputs": [
    {
     "name": "stderr",
     "output_type": "stream",
     "text": [
      "/anaconda3/lib/python3.7/site-packages/sklearn/preprocessing/data.py:625: DataConversionWarning: Data with input dtype int64, float64 were all converted to float64 by StandardScaler.\n",
      "  return self.partial_fit(X, y)\n",
      "/anaconda3/lib/python3.7/site-packages/sklearn/base.py:462: DataConversionWarning: Data with input dtype int64, float64 were all converted to float64 by StandardScaler.\n",
      "  return self.fit(X, **fit_params).transform(X)\n",
      "/anaconda3/lib/python3.7/site-packages/ipykernel_launcher.py:7: DataConversionWarning: Data with input dtype int64, float64 were all converted to float64 by StandardScaler.\n",
      "  import sys\n"
     ]
    }
   ],
   "source": [
    "# Feature Scaling\n",
    "\n",
    "from sklearn.preprocessing import StandardScaler\n",
    "sc_X = StandardScaler()\n",
    "# X_train 데이터에 맞추고, X_test도 맞춘 model에 select 한다\n",
    "X_train_drop = sc_X.fit_transform(X_train)\n",
    "X_test_drop = sc_X.transform(X_test)\n",
    "warnings.filterwarnings(action='once')"
   ]
  },
  {
   "cell_type": "code",
   "execution_count": 70,
   "metadata": {},
   "outputs": [
    {
     "data": {
      "text/plain": [
       "LogisticRegression(C=1.0, class_weight=None, dual=False, fit_intercept=True,\n",
       "          intercept_scaling=1, max_iter=100, multi_class='ovr',\n",
       "          n_jobs=None, penalty='l2', random_state=0, solver='liblinear',\n",
       "          tol=0.0001, verbose=0, warm_start=False)"
      ]
     },
     "execution_count": 70,
     "metadata": {},
     "output_type": "execute_result"
    }
   ],
   "source": [
    "from sklearn.linear_model import LogisticRegression\n",
    "# LogisticRegression Library를 활용해서 모델을 만들어주세요\n",
    "model = LogisticRegression(random_state=0, solver='liblinear', multi_class='ovr')\n",
    "model.fit(X_train_drop,y_train)"
   ]
  },
  {
   "cell_type": "code",
   "execution_count": 74,
   "metadata": {},
   "outputs": [
    {
     "data": {
      "text/plain": [
       "array([1, 1, 0, 0, 0, 0, 0, 0, 0, 0, 0, 0, 1, 0, 0, 0, 0, 0, 0, 1, 0, 0,\n",
       "       0, 0, 0, 0, 0, 0, 0, 0, 0, 0, 0, 0, 0, 0, 0, 0, 0, 0, 0, 0, 0, 0,\n",
       "       1, 0, 1, 0, 0, 0, 1, 0, 1, 0, 0, 0, 1, 0, 0, 1, 0, 0, 1, 0, 0, 0,\n",
       "       0, 0, 0, 0, 0, 1, 0, 0, 1, 0, 1, 0, 1, 0, 0, 0, 0, 0, 0, 0, 0, 0,\n",
       "       0, 0, 0, 0, 0, 1, 0, 1, 0, 0, 0, 0, 0, 0, 0, 0, 0, 1, 0, 0, 1, 0,\n",
       "       0, 1, 0, 1, 0, 0, 0, 1, 0, 0, 0, 0, 0, 0, 0, 0, 0, 0, 0, 1, 0, 0,\n",
       "       0, 1, 0, 0, 0, 0, 0, 1, 0, 0, 0, 0, 0, 0, 0, 0, 0, 0, 0, 0, 0, 0,\n",
       "       0, 0, 0, 0, 1, 0, 0, 0, 0, 0, 0, 0, 1, 0, 0, 0, 0, 0, 1, 1, 0, 0,\n",
       "       0, 0, 0, 0, 0, 0, 1, 0, 0, 0, 0, 0, 0, 0, 0, 0, 1, 1, 1, 0, 0, 0,\n",
       "       0, 0, 0, 0, 0, 1, 0, 0, 0, 0, 0, 0, 0, 0, 0, 0, 0, 1, 1, 0, 1, 1,\n",
       "       0, 0, 0, 0, 0, 1, 0, 0, 0, 0, 0, 1, 0, 0, 0, 0, 0, 1, 0, 0, 0, 0,\n",
       "       0, 0, 0, 1, 0])"
      ]
     },
     "execution_count": 74,
     "metadata": {},
     "output_type": "execute_result"
    }
   ],
   "source": [
    "model.predict(X_test_drop)"
   ]
  },
  {
   "cell_type": "code",
   "execution_count": 158,
   "metadata": {},
   "outputs": [
    {
     "data": {
      "text/plain": [
       "numpy.ndarray"
      ]
     },
     "execution_count": 158,
     "metadata": {},
     "output_type": "execute_result"
    }
   ],
   "source": [
    "type(np.array(y_test))"
   ]
  },
  {
   "cell_type": "code",
   "execution_count": 76,
   "metadata": {
    "scrolled": true
   },
   "outputs": [
    {
     "data": {
      "text/plain": [
       "0.8582995951417004"
      ]
     },
     "execution_count": 76,
     "metadata": {},
     "output_type": "execute_result"
    }
   ],
   "source": [
    "np.sum(model.predict(X_test_drop) == y_test) / len(y_test)"
   ]
  },
  {
   "cell_type": "markdown",
   "metadata": {},
   "source": [
    "-> 조금 올랐다"
   ]
  },
  {
   "cell_type": "markdown",
   "metadata": {},
   "source": [
    "## Q4. data를 교차검증 해주세요.(10-fold cross_validation)\n",
    "\n",
    "- 10-fold cross_validation을 위한 인자값을 입력해주세요.\n",
    "- kfold = selection.KFold(\"교차검증을 위한 인자 만들기\")\n",
    "- 교차검증 결과를 출력하고 해석합니다.\n"
   ]
  },
  {
   "cell_type": "code",
   "execution_count": 78,
   "metadata": {},
   "outputs": [],
   "source": [
    "from sklearn.model_selection import KFold"
   ]
  },
  {
   "cell_type": "code",
   "execution_count": 79,
   "metadata": {},
   "outputs": [
    {
     "name": "stdout",
     "output_type": "stream",
     "text": [
      "KFold(n_splits=10, random_state=0, shuffle=False)\n"
     ]
    }
   ],
   "source": [
    "kf = KFold(n_splits=10,random_state=0)\n",
    "kf.get_n_splits(X)\n",
    "print(kf)"
   ]
  },
  {
   "cell_type": "code",
   "execution_count": 80,
   "metadata": {},
   "outputs": [
    {
     "data": {
      "text/plain": [
       "<generator object _BaseKFold.split at 0x1a1bfb3660>"
      ]
     },
     "execution_count": 80,
     "metadata": {},
     "output_type": "execute_result"
    }
   ],
   "source": [
    "kf.split(X)"
   ]
  },
  {
   "cell_type": "code",
   "execution_count": 81,
   "metadata": {},
   "outputs": [
    {
     "name": "stdout",
     "output_type": "stream",
     "text": [
      "0.8774980330448466\n"
     ]
    }
   ],
   "source": [
    "total = 0\n",
    "num = 0\n",
    "for train_index, test_index in kf.split(X):\n",
    "    num = num+1\n",
    "#     print(\"TRAIN:\", train_index, \"TEST:\", test_index)\n",
    "    X_train, X_test = X.loc[train_index], X.loc[test_index]\n",
    "    y_train, y_test = y.loc[train_index], y.loc[test_index]\n",
    "    model = LogisticRegression(random_state=0, solver='liblinear', multi_class='ovr')\n",
    "    model.fit(X_train,y_train)\n",
    "    result = model.predict(X_test) == y_test\n",
    "    # 모든 fold의 accuacy 합을 구하기\n",
    "    total = total + np.sum(result)/len(result)\n",
    "\n",
    "# accuracy mean을 계산해보자.\n",
    "# 모든 accuracy 합을 개수로 나누기\n",
    "print(total/num)"
   ]
  },
  {
   "cell_type": "markdown",
   "metadata": {},
   "source": [
    "### League Feature를 삭제해보면 어떨까?"
   ]
  },
  {
   "cell_type": "code",
   "execution_count": 91,
   "metadata": {},
   "outputs": [],
   "source": [
    "X.drop('League',axis=1,inplace=True)"
   ]
  },
  {
   "cell_type": "code",
   "execution_count": 92,
   "metadata": {},
   "outputs": [
    {
     "name": "stdout",
     "output_type": "stream",
     "text": [
      "0.8831694204038814\n"
     ]
    }
   ],
   "source": [
    "total = 0\n",
    "num = 0\n",
    "for train_index, test_index in kf.split(X):\n",
    "    num = num+1\n",
    "#     print(\"TRAIN:\", train_index, \"TEST:\", test_index)\n",
    "    X_train, X_test = X.loc[train_index], X.loc[test_index]\n",
    "    y_train, y_test = y.loc[train_index], y.loc[test_index]\n",
    "    model = LogisticRegression(random_state=0, solver='liblinear', multi_class='ovr')\n",
    "    model.fit(X_train,y_train)\n",
    "    result = model.predict(X_test) == y_test\n",
    "    # 모든 fold의 accuacy 합을 구하기\n",
    "    total = total + np.sum(result)/len(result)\n",
    "\n",
    "# accuracy mean을 계산해보자.\n",
    "# 모든 accuracy 합을 개수로 나누기\n",
    "print(total/num)"
   ]
  },
  {
   "cell_type": "markdown",
   "metadata": {},
   "source": [
    "-> 조금 올랐다. 이유는?"
   ]
  },
  {
   "cell_type": "markdown",
   "metadata": {},
   "source": [
    "## 6.  Feature Selection\n",
    "- ref: https://www.kaggle.com/mnassrib/titanic-logistic-regression-with-python"
   ]
  },
  {
   "cell_type": "markdown",
   "metadata": {},
   "source": [
    "- 중요 Feature를 선택하는 방법입니다.\n",
    "- Kaggle 자료를 참고하였습니다.\n",
    "- 내가 만든 모델에서 어떤 변수가 중요한지 한 번 살펴보세요"
   ]
  },
  {
   "cell_type": "code",
   "execution_count": 120,
   "metadata": {
    "scrolled": false
   },
   "outputs": [
    {
     "data": {
      "text/html": [
       "<div>\n",
       "<style scoped>\n",
       "    .dataframe tbody tr th:only-of-type {\n",
       "        vertical-align: middle;\n",
       "    }\n",
       "\n",
       "    .dataframe tbody tr th {\n",
       "        vertical-align: top;\n",
       "    }\n",
       "\n",
       "    .dataframe thead th {\n",
       "        text-align: right;\n",
       "    }\n",
       "</style>\n",
       "<table border=\"1\" class=\"dataframe\">\n",
       "  <thead>\n",
       "    <tr style=\"text-align: right;\">\n",
       "      <th></th>\n",
       "      <th>League</th>\n",
       "      <th>RS</th>\n",
       "      <th>RA</th>\n",
       "      <th>OBP</th>\n",
       "      <th>SLG</th>\n",
       "      <th>BA</th>\n",
       "      <th>G</th>\n",
       "      <th>OOBP</th>\n",
       "      <th>OSLG</th>\n",
       "    </tr>\n",
       "  </thead>\n",
       "  <tbody>\n",
       "    <tr>\n",
       "      <th>0</th>\n",
       "      <td>1</td>\n",
       "      <td>734</td>\n",
       "      <td>688</td>\n",
       "      <td>0.328</td>\n",
       "      <td>0.418</td>\n",
       "      <td>0.259</td>\n",
       "      <td>162</td>\n",
       "      <td>0.317</td>\n",
       "      <td>0.415</td>\n",
       "    </tr>\n",
       "    <tr>\n",
       "      <th>1</th>\n",
       "      <td>1</td>\n",
       "      <td>700</td>\n",
       "      <td>600</td>\n",
       "      <td>0.320</td>\n",
       "      <td>0.389</td>\n",
       "      <td>0.247</td>\n",
       "      <td>162</td>\n",
       "      <td>0.306</td>\n",
       "      <td>0.378</td>\n",
       "    </tr>\n",
       "    <tr>\n",
       "      <th>2</th>\n",
       "      <td>0</td>\n",
       "      <td>712</td>\n",
       "      <td>705</td>\n",
       "      <td>0.311</td>\n",
       "      <td>0.417</td>\n",
       "      <td>0.247</td>\n",
       "      <td>162</td>\n",
       "      <td>0.315</td>\n",
       "      <td>0.403</td>\n",
       "    </tr>\n",
       "    <tr>\n",
       "      <th>3</th>\n",
       "      <td>0</td>\n",
       "      <td>734</td>\n",
       "      <td>806</td>\n",
       "      <td>0.315</td>\n",
       "      <td>0.415</td>\n",
       "      <td>0.260</td>\n",
       "      <td>162</td>\n",
       "      <td>0.331</td>\n",
       "      <td>0.428</td>\n",
       "    </tr>\n",
       "    <tr>\n",
       "      <th>4</th>\n",
       "      <td>1</td>\n",
       "      <td>613</td>\n",
       "      <td>759</td>\n",
       "      <td>0.302</td>\n",
       "      <td>0.378</td>\n",
       "      <td>0.240</td>\n",
       "      <td>162</td>\n",
       "      <td>0.335</td>\n",
       "      <td>0.424</td>\n",
       "    </tr>\n",
       "  </tbody>\n",
       "</table>\n",
       "</div>"
      ],
      "text/plain": [
       "   League   RS   RA    OBP    SLG     BA    G   OOBP   OSLG\n",
       "0       1  734  688  0.328  0.418  0.259  162  0.317  0.415\n",
       "1       1  700  600  0.320  0.389  0.247  162  0.306  0.378\n",
       "2       0  712  705  0.311  0.417  0.247  162  0.315  0.403\n",
       "3       0  734  806  0.315  0.415  0.260  162  0.331  0.428\n",
       "4       1  613  759  0.302  0.378  0.240  162  0.335  0.424"
      ]
     },
     "execution_count": 120,
     "metadata": {},
     "output_type": "execute_result"
    }
   ],
   "source": [
    "X.head()"
   ]
  },
  {
   "cell_type": "code",
   "execution_count": 121,
   "metadata": {},
   "outputs": [
    {
     "name": "stdout",
     "output_type": "stream",
     "text": [
      "Selected features: ['OSLG', 'RA', 'RS']\n"
     ]
    },
    {
     "name": "stderr",
     "output_type": "stream",
     "text": [
      "/anaconda3/lib/python3.7/site-packages/sklearn/linear_model/logistic.py:433: FutureWarning: Default solver will be changed to 'lbfgs' in 0.22. Specify a solver to silence this warning.\n",
      "  FutureWarning)\n",
      "/anaconda3/lib/python3.7/site-packages/sklearn/linear_model/logistic.py:433: FutureWarning: Default solver will be changed to 'lbfgs' in 0.22. Specify a solver to silence this warning.\n",
      "  FutureWarning)\n",
      "/anaconda3/lib/python3.7/site-packages/sklearn/linear_model/logistic.py:433: FutureWarning: Default solver will be changed to 'lbfgs' in 0.22. Specify a solver to silence this warning.\n",
      "  FutureWarning)\n",
      "/anaconda3/lib/python3.7/site-packages/sklearn/linear_model/logistic.py:433: FutureWarning: Default solver will be changed to 'lbfgs' in 0.22. Specify a solver to silence this warning.\n",
      "  FutureWarning)\n",
      "/anaconda3/lib/python3.7/site-packages/sklearn/linear_model/logistic.py:433: FutureWarning: Default solver will be changed to 'lbfgs' in 0.22. Specify a solver to silence this warning.\n",
      "  FutureWarning)\n"
     ]
    }
   ],
   "source": [
    "from sklearn.feature_selection import RFE\n",
    "\n",
    "cols = [\"BA\", \"League\", \"OOBP\", \"OSLG\", \"RA\", \"RS\", \"SLG\"]\n",
    "X = data[cols]\n",
    "y = data['Playoffs']\n",
    "\n",
    "# Build a logreg and compute the feature importances\n",
    "model = LogisticRegression()\n",
    "# create the RFE and select 3 attributes\n",
    "rfe = RFE(model, 3)\n",
    "rfe = rfe.fit(X, y)\n",
    "# summarize the selection of the attributes\n",
    "print('Selected features: %s' % list(X.columns[rfe.support_]))\n"
   ]
  },
  {
   "cell_type": "markdown",
   "metadata": {},
   "source": [
    "중요 Feature를 3개 정도 뽑아봤는데\n",
    "Batting Average가 포함되지 않았다. 신기하다.\n",
    "\n",
    "## 확실히 득점, 실점 스코어가 크게 연관이 있다.\n",
    "Rs: (Runs Scored) 득점 스코어를 의미하는구나 \n",
    "RA: (Runs Allowed) 실점스코어를 의미하는구나\n",
    "Opponent Slugging Percentage (OSLG)"
   ]
  },
  {
   "cell_type": "markdown",
   "metadata": {},
   "source": [
    "# 그러면 scaling을 했을 때는? -> 동일하게 나온다\n"
   ]
  },
  {
   "cell_type": "code",
   "execution_count": 123,
   "metadata": {},
   "outputs": [
    {
     "name": "stderr",
     "output_type": "stream",
     "text": [
      "/anaconda3/lib/python3.7/site-packages/sklearn/preprocessing/data.py:625: DataConversionWarning: Data with input dtype int64, float64 were all converted to float64 by StandardScaler.\n",
      "  return self.partial_fit(X, y)\n",
      "/anaconda3/lib/python3.7/site-packages/sklearn/base.py:462: DataConversionWarning: Data with input dtype int64, float64 were all converted to float64 by StandardScaler.\n",
      "  return self.fit(X, **fit_params).transform(X)\n",
      "/anaconda3/lib/python3.7/site-packages/ipykernel_launcher.py:5: DataConversionWarning: Data with input dtype int64, float64 were all converted to float64 by StandardScaler.\n",
      "  \"\"\"\n"
     ]
    }
   ],
   "source": [
    "from sklearn.preprocessing import StandardScaler\n",
    "sc_X = StandardScaler()\n",
    "\n",
    "X_train = sc_X.fit_transform(X_train)\n",
    "X_test = sc_X.transform(X_test)\n",
    "warnings.filterwarnings(action='once')"
   ]
  },
  {
   "cell_type": "code",
   "execution_count": 124,
   "metadata": {},
   "outputs": [
    {
     "name": "stdout",
     "output_type": "stream",
     "text": [
      "0.8766850249147652\n"
     ]
    }
   ],
   "source": [
    "total = 0\n",
    "num = 0\n",
    "for train_index, test_index in kf.split(X):\n",
    "    num = num+1\n",
    "#     print(\"TRAIN:\", train_index, \"TEST:\", test_index)\n",
    "    X_train, X_test = X.loc[train_index], X.loc[test_index]\n",
    "    y_train, y_test = y.loc[train_index], y.loc[test_index]\n",
    "    model = LogisticRegression(random_state=0, solver='liblinear', multi_class='ovr')\n",
    "    model.fit(X_train,y_train)\n",
    "    result = model.predict(X_test) == y_test\n",
    "    total = total + np.sum(result)/len(result)\n",
    "\n",
    "# accuracy mean을 계산해보자.\n",
    "# 이렇게 계산하는게 맞나요?!?!?!\n",
    "print(total/num)"
   ]
  },
  {
   "cell_type": "code",
   "execution_count": 125,
   "metadata": {},
   "outputs": [
    {
     "data": {
      "text/plain": [
       "(1109, 1109)"
      ]
     },
     "execution_count": 125,
     "metadata": {},
     "output_type": "execute_result"
    }
   ],
   "source": [
    "len(X_train),len(y_train)"
   ]
  },
  {
   "cell_type": "code",
   "execution_count": 126,
   "metadata": {
    "scrolled": true
   },
   "outputs": [
    {
     "name": "stdout",
     "output_type": "stream",
     "text": [
      "Selected features: ['League', 'OSLG', 'RA']\n"
     ]
    },
    {
     "name": "stderr",
     "output_type": "stream",
     "text": [
      "/anaconda3/lib/python3.7/site-packages/sklearn/linear_model/logistic.py:433: FutureWarning: Default solver will be changed to 'lbfgs' in 0.22. Specify a solver to silence this warning.\n",
      "  FutureWarning)\n",
      "/anaconda3/lib/python3.7/site-packages/sklearn/linear_model/logistic.py:433: FutureWarning: Default solver will be changed to 'lbfgs' in 0.22. Specify a solver to silence this warning.\n",
      "  FutureWarning)\n",
      "/anaconda3/lib/python3.7/site-packages/sklearn/linear_model/logistic.py:433: FutureWarning: Default solver will be changed to 'lbfgs' in 0.22. Specify a solver to silence this warning.\n",
      "  FutureWarning)\n",
      "/anaconda3/lib/python3.7/site-packages/sklearn/linear_model/logistic.py:433: FutureWarning: Default solver will be changed to 'lbfgs' in 0.22. Specify a solver to silence this warning.\n",
      "  FutureWarning)\n",
      "/anaconda3/lib/python3.7/site-packages/sklearn/linear_model/logistic.py:433: FutureWarning: Default solver will be changed to 'lbfgs' in 0.22. Specify a solver to silence this warning.\n",
      "  FutureWarning)\n"
     ]
    }
   ],
   "source": [
    "from sklearn.feature_selection import RFE\n",
    "\n",
    "# Build a logreg and compute the feature importances\n",
    "model = LogisticRegression()\n",
    "# create the RFE and select 3 attributes\n",
    "rfe = RFE(model, 3)\n",
    "rfe = rfe.fit(X_train, y_train)\n",
    "# summarize the selection of the attributes\n",
    "print('Selected features: %s' % list(X.columns[rfe.support_]))"
   ]
  },
  {
   "cell_type": "code",
   "execution_count": 128,
   "metadata": {},
   "outputs": [
    {
     "data": {
      "text/plain": [
       "7"
      ]
     },
     "execution_count": 128,
     "metadata": {},
     "output_type": "execute_result"
    }
   ],
   "source": [
    "len(rfe.support_)"
   ]
  },
  {
   "cell_type": "code",
   "execution_count": 129,
   "metadata": {},
   "outputs": [
    {
     "data": {
      "text/plain": [
       "Index(['League', 'OSLG', 'RA'], dtype='object')"
      ]
     },
     "execution_count": 129,
     "metadata": {},
     "output_type": "execute_result"
    }
   ],
   "source": [
    "X.columns[rfe.support_]"
   ]
  },
  {
   "cell_type": "markdown",
   "metadata": {},
   "source": [
    "## Q. How to calculate Odds ratio?\n",
    "## Odds Ratio는 각 Coef_를 e 제곱 해주면 된다."
   ]
  },
  {
   "cell_type": "markdown",
   "metadata": {},
   "source": [
    "https://stackoverflow.com/questions/38646040/attributeerror-linearregression-object-has-no-attribute-coef"
   ]
  },
  {
   "cell_type": "code",
   "execution_count": 130,
   "metadata": {},
   "outputs": [
    {
     "name": "stderr",
     "output_type": "stream",
     "text": [
      "/anaconda3/lib/python3.7/site-packages/sklearn/linear_model/logistic.py:433: FutureWarning: Default solver will be changed to 'lbfgs' in 0.22. Specify a solver to silence this warning.\n",
      "  FutureWarning)\n"
     ]
    },
    {
     "data": {
      "text/plain": [
       "array([[-0.01307594,  0.00790457, -0.02705128, -0.03298225, -0.03250142,\n",
       "         0.02834823, -0.00785103]])"
      ]
     },
     "execution_count": 130,
     "metadata": {},
     "output_type": "execute_result"
    }
   ],
   "source": [
    "model.fit(X, y)\n",
    "model.coef_"
   ]
  },
  {
   "cell_type": "code",
   "execution_count": 137,
   "metadata": {},
   "outputs": [
    {
     "data": {
      "text/plain": [
       "array([[-0.01307594,  0.00790457, -0.02705128, -0.03298225, -0.03250142,\n",
       "         0.02834823, -0.00785103]])"
      ]
     },
     "execution_count": 137,
     "metadata": {},
     "output_type": "execute_result"
    }
   ],
   "source": [
    "model.coef_"
   ]
  },
  {
   "cell_type": "code",
   "execution_count": 138,
   "metadata": {},
   "outputs": [
    {
     "data": {
      "text/plain": [
       "Index(['BA', 'League', 'OOBP', 'OSLG', 'RA', 'RS', 'SLG'], dtype='object')"
      ]
     },
     "execution_count": 138,
     "metadata": {},
     "output_type": "execute_result"
    }
   ],
   "source": [
    "X.columns"
   ]
  },
  {
   "cell_type": "code",
   "execution_count": 139,
   "metadata": {},
   "outputs": [
    {
     "data": {
      "text/plain": [
       "['BA', 'League', 'OOBP', 'OSLG', 'RA', 'RS', 'SLG']"
      ]
     },
     "execution_count": 139,
     "metadata": {},
     "output_type": "execute_result"
    }
   ],
   "source": [
    "list(X.columns)"
   ]
  },
  {
   "cell_type": "code",
   "execution_count": 140,
   "metadata": {},
   "outputs": [
    {
     "data": {
      "text/plain": [
       "[-0.013075936706568,\n",
       " 0.00790456537012466,\n",
       " -0.027051276153694622,\n",
       " -0.032982253417956534,\n",
       " -0.0325014156142505,\n",
       " 0.028348225365259494,\n",
       " -0.007851030036228071]"
      ]
     },
     "execution_count": 140,
     "metadata": {},
     "output_type": "execute_result"
    }
   ],
   "source": [
    "model.coef_.tolist()[0]"
   ]
  },
  {
   "cell_type": "markdown",
   "metadata": {},
   "source": [
    "## Odds Ratio 확인하기"
   ]
  },
  {
   "cell_type": "markdown",
   "metadata": {},
   "source": [
    "#### Odds Ratio는 e^(B0+ B1X1 + B2X2 +...)에서 한 변수만 e^(B0 + B1(X1+1) + B2X2) 로 1을 늘린 것이므로 약분하면 e^B1 즉, e를 늘린 변수의 계수 제곱 한 것이다"
   ]
  },
  {
   "cell_type": "code",
   "execution_count": 144,
   "metadata": {},
   "outputs": [
    {
     "data": {
      "text/plain": [
       "array([[-0.01307594,  0.00790457, -0.02705128, -0.03298225, -0.03250142,\n",
       "         0.02834823, -0.00785103]])"
      ]
     },
     "execution_count": 144,
     "metadata": {},
     "output_type": "execute_result"
    }
   ],
   "source": [
    "model.coef_"
   ]
  },
  {
   "cell_type": "code",
   "execution_count": 145,
   "metadata": {},
   "outputs": [
    {
     "name": "stdout",
     "output_type": "stream",
     "text": [
      "('BA', -0.013075936706568)\n",
      "BA  Odds ratio:  0.9870091819478494\n",
      "('League', 0.00790456537012466)\n",
      "League  Odds ratio:  1.0079358889256063\n",
      "('OOBP', -0.027051276153694622)\n",
      "OOBP  Odds ratio:  0.9733113325832962\n",
      "('OSLG', -0.032982253417956534)\n",
      "OSLG  Odds ratio:  0.9675557302438197\n",
      "('RA', -0.0325014156142505)\n",
      "RA  Odds ratio:  0.9680210794859012\n",
      "('RS', 0.028348225365259494)\n",
      "RS  Odds ratio:  1.028753860243598\n",
      "('SLG', -0.007851030036228071)\n",
      "SLG  Odds ratio:  0.9921797088036322\n"
     ]
    }
   ],
   "source": [
    "import math\n",
    "# Odds ratio 확인하기\n",
    "for d in zip(list(X.columns), model.coef_.tolist()[0]):\n",
    "    print(d) # 컬럼 이름과 계수\n",
    "    print(d[0],' Odds ratio: ', math.exp(d[1])) # 즉 계수의 e 제곱이다."
   ]
  },
  {
   "cell_type": "code",
   "execution_count": 142,
   "metadata": {},
   "outputs": [
    {
     "data": {
      "text/html": [
       "<div>\n",
       "<style scoped>\n",
       "    .dataframe tbody tr th:only-of-type {\n",
       "        vertical-align: middle;\n",
       "    }\n",
       "\n",
       "    .dataframe tbody tr th {\n",
       "        vertical-align: top;\n",
       "    }\n",
       "\n",
       "    .dataframe thead th {\n",
       "        text-align: right;\n",
       "    }\n",
       "</style>\n",
       "<table border=\"1\" class=\"dataframe\">\n",
       "  <thead>\n",
       "    <tr style=\"text-align: right;\">\n",
       "      <th></th>\n",
       "      <th>BA</th>\n",
       "      <th>League</th>\n",
       "      <th>OOBP</th>\n",
       "      <th>OSLG</th>\n",
       "      <th>RA</th>\n",
       "      <th>RS</th>\n",
       "      <th>SLG</th>\n",
       "    </tr>\n",
       "  </thead>\n",
       "  <tbody>\n",
       "    <tr>\n",
       "      <th>0</th>\n",
       "      <td>0.259</td>\n",
       "      <td>1</td>\n",
       "      <td>0.317</td>\n",
       "      <td>0.415</td>\n",
       "      <td>688</td>\n",
       "      <td>734</td>\n",
       "      <td>0.418</td>\n",
       "    </tr>\n",
       "    <tr>\n",
       "      <th>1</th>\n",
       "      <td>0.247</td>\n",
       "      <td>1</td>\n",
       "      <td>0.306</td>\n",
       "      <td>0.378</td>\n",
       "      <td>600</td>\n",
       "      <td>700</td>\n",
       "      <td>0.389</td>\n",
       "    </tr>\n",
       "    <tr>\n",
       "      <th>2</th>\n",
       "      <td>0.247</td>\n",
       "      <td>0</td>\n",
       "      <td>0.315</td>\n",
       "      <td>0.403</td>\n",
       "      <td>705</td>\n",
       "      <td>712</td>\n",
       "      <td>0.417</td>\n",
       "    </tr>\n",
       "    <tr>\n",
       "      <th>3</th>\n",
       "      <td>0.260</td>\n",
       "      <td>0</td>\n",
       "      <td>0.331</td>\n",
       "      <td>0.428</td>\n",
       "      <td>806</td>\n",
       "      <td>734</td>\n",
       "      <td>0.415</td>\n",
       "    </tr>\n",
       "    <tr>\n",
       "      <th>4</th>\n",
       "      <td>0.240</td>\n",
       "      <td>1</td>\n",
       "      <td>0.335</td>\n",
       "      <td>0.424</td>\n",
       "      <td>759</td>\n",
       "      <td>613</td>\n",
       "      <td>0.378</td>\n",
       "    </tr>\n",
       "  </tbody>\n",
       "</table>\n",
       "</div>"
      ],
      "text/plain": [
       "      BA  League   OOBP   OSLG   RA   RS    SLG\n",
       "0  0.259       1  0.317  0.415  688  734  0.418\n",
       "1  0.247       1  0.306  0.378  600  700  0.389\n",
       "2  0.247       0  0.315  0.403  705  712  0.417\n",
       "3  0.260       0  0.331  0.428  806  734  0.415\n",
       "4  0.240       1  0.335  0.424  759  613  0.378"
      ]
     },
     "execution_count": 142,
     "metadata": {},
     "output_type": "execute_result"
    }
   ],
   "source": [
    "X.head()"
   ]
  },
  {
   "cell_type": "markdown",
   "metadata": {},
   "source": []
  },
  {
   "cell_type": "markdown",
   "metadata": {},
   "source": [
    "## 축하드립니다. 여러분은 이제 로지스틱 모델을 구현하실 수 있게 되었습니다!"
   ]
  }
 ],
 "metadata": {
  "kernelspec": {
   "display_name": "Python 3",
   "language": "python",
   "name": "python3"
  },
  "language_info": {
   "codemirror_mode": {
    "name": "ipython",
    "version": 3
   },
   "file_extension": ".py",
   "mimetype": "text/x-python",
   "name": "python",
   "nbconvert_exporter": "python",
   "pygments_lexer": "ipython3",
   "version": "3.7.1"
  }
 },
 "nbformat": 4,
 "nbformat_minor": 1
}
