{
 "cells": [
  {
   "cell_type": "markdown",
   "metadata": {},
   "source": [
    "### a) 1~10의 제곱수로 이루어진 1d array"
   ]
  },
  {
   "cell_type": "code",
   "execution_count": 1,
   "metadata": {},
   "outputs": [
    {
     "name": "stdout",
     "output_type": "stream",
     "text": [
      "[1, 4, 9, 16, 25, 36, 49, 64, 81, 100]\n"
     ]
    }
   ],
   "source": [
    "power = [i**2 for i in range(1,11)]\n",
    "print(power)"
   ]
  },
  {
   "cell_type": "markdown",
   "metadata": {},
   "source": [
    "### b) string type의 구구단 2d array"
   ]
  },
  {
   "cell_type": "code",
   "execution_count": 2,
   "metadata": {
    "scrolled": false
   },
   "outputs": [
    {
     "name": "stdout",
     "output_type": "stream",
     "text": [
      "['1X1=1', '1X2=2', '1X3=3', '1X4=4', '1X5=5', '1X6=6', '1X7=7', '1X8=8', '1X9=9']\n",
      "['2X1=2', '2X2=4', '2X3=6', '2X4=8', '2X5=10', '2X6=12', '2X7=14', '2X8=16', '2X9=18']\n",
      "['3X1=3', '3X2=6', '3X3=9', '3X4=12', '3X5=15', '3X6=18', '3X7=21', '3X8=24', '3X9=27']\n",
      "['4X1=4', '4X2=8', '4X3=12', '4X4=16', '4X5=20', '4X6=24', '4X7=28', '4X8=32', '4X9=36']\n",
      "['5X1=5', '5X2=10', '5X3=15', '5X4=20', '5X5=25', '5X6=30', '5X7=35', '5X8=40', '5X9=45']\n",
      "['6X1=6', '6X2=12', '6X3=18', '6X4=24', '6X5=30', '6X6=36', '6X7=42', '6X8=48', '6X9=54']\n",
      "['7X1=7', '7X2=14', '7X3=21', '7X4=28', '7X5=35', '7X6=42', '7X7=49', '7X8=56', '7X9=63']\n",
      "['8X1=8', '8X2=16', '8X3=24', '8X4=32', '8X5=40', '8X6=48', '8X7=56', '8X8=64', '8X9=72']\n",
      "['9X1=9', '9X2=18', '9X3=27', '9X4=36', '9X5=45', '9X6=54', '9X7=63', '9X8=72', '9X9=81']\n"
     ]
    }
   ],
   "source": [
    "gugudan = [[f'{i}X{j}='+str(i*j) for j in range(1,10)]for i in range(1,10)]\n",
    "for row in gugudan:\n",
    "    print(row)"
   ]
  },
  {
   "cell_type": "markdown",
   "metadata": {},
   "source": [
    "### c) 자기 자신을 곱하는 것을 제외한 string type의 구구단 2d array"
   ]
  },
  {
   "cell_type": "code",
   "execution_count": 3,
   "metadata": {},
   "outputs": [
    {
     "name": "stdout",
     "output_type": "stream",
     "text": [
      "['1X2=2', '1X3=3', '1X4=4', '1X5=5', '1X6=6', '1X7=7', '1X8=8', '1X9=9']\n",
      "['2X1=2', '2X3=6', '2X4=8', '2X5=10', '2X6=12', '2X7=14', '2X8=16', '2X9=18']\n",
      "['3X1=3', '3X2=6', '3X4=12', '3X5=15', '3X6=18', '3X7=21', '3X8=24', '3X9=27']\n",
      "['4X1=4', '4X2=8', '4X3=12', '4X5=20', '4X6=24', '4X7=28', '4X8=32', '4X9=36']\n",
      "['5X1=5', '5X2=10', '5X3=15', '5X4=20', '5X6=30', '5X7=35', '5X8=40', '5X9=45']\n",
      "['6X1=6', '6X2=12', '6X3=18', '6X4=24', '6X5=30', '6X7=42', '6X8=48', '6X9=54']\n",
      "['7X1=7', '7X2=14', '7X3=21', '7X4=28', '7X5=35', '7X6=42', '7X8=56', '7X9=63']\n",
      "['8X1=8', '8X2=16', '8X3=24', '8X4=32', '8X5=40', '8X6=48', '8X7=56', '8X9=72']\n",
      "['9X1=9', '9X2=18', '9X3=27', '9X4=36', '9X5=45', '9X6=54', '9X7=63', '9X8=72']\n"
     ]
    }
   ],
   "source": [
    "gugudan2 = [[f'{i}X{j}='+str(i*j) for j in range(1,10) if i!=j]for i in range(1,10)]\n",
    "for row in gugudan2:\n",
    "    print(row)"
   ]
  },
  {
   "cell_type": "code",
   "execution_count": null,
   "metadata": {},
   "outputs": [],
   "source": []
  }
 ],
 "metadata": {
  "kernelspec": {
   "display_name": "Python 3",
   "language": "python",
   "name": "python3"
  },
  "language_info": {
   "codemirror_mode": {
    "name": "ipython",
    "version": 3
   },
   "file_extension": ".py",
   "mimetype": "text/x-python",
   "name": "python",
   "nbconvert_exporter": "python",
   "pygments_lexer": "ipython3",
   "version": "3.7.1"
  }
 },
 "nbformat": 4,
 "nbformat_minor": 2
}
