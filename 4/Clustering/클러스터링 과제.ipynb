{
 "cells": [
  {
   "cell_type": "markdown",
   "metadata": {},
   "source": [
    "## EDA"
   ]
  },
  {
   "cell_type": "code",
   "execution_count": 1,
   "metadata": {},
   "outputs": [],
   "source": [
    "import pandas as pd"
   ]
  },
  {
   "cell_type": "code",
   "execution_count": 2,
   "metadata": {},
   "outputs": [
    {
     "data": {
      "text/html": [
       "<div>\n",
       "<style scoped>\n",
       "    .dataframe tbody tr th:only-of-type {\n",
       "        vertical-align: middle;\n",
       "    }\n",
       "\n",
       "    .dataframe tbody tr th {\n",
       "        vertical-align: top;\n",
       "    }\n",
       "\n",
       "    .dataframe thead th {\n",
       "        text-align: right;\n",
       "    }\n",
       "</style>\n",
       "<table border=\"1\" class=\"dataframe\">\n",
       "  <thead>\n",
       "    <tr style=\"text-align: right;\">\n",
       "      <th></th>\n",
       "      <th>CustomerID</th>\n",
       "      <th>Gender</th>\n",
       "      <th>Age</th>\n",
       "      <th>Annual Income (k$)</th>\n",
       "      <th>Spending Score (1-100)</th>\n",
       "    </tr>\n",
       "  </thead>\n",
       "  <tbody>\n",
       "    <tr>\n",
       "      <th>0</th>\n",
       "      <td>1</td>\n",
       "      <td>Male</td>\n",
       "      <td>19</td>\n",
       "      <td>15</td>\n",
       "      <td>39</td>\n",
       "    </tr>\n",
       "    <tr>\n",
       "      <th>1</th>\n",
       "      <td>2</td>\n",
       "      <td>Male</td>\n",
       "      <td>21</td>\n",
       "      <td>15</td>\n",
       "      <td>81</td>\n",
       "    </tr>\n",
       "    <tr>\n",
       "      <th>2</th>\n",
       "      <td>3</td>\n",
       "      <td>Female</td>\n",
       "      <td>20</td>\n",
       "      <td>16</td>\n",
       "      <td>6</td>\n",
       "    </tr>\n",
       "    <tr>\n",
       "      <th>3</th>\n",
       "      <td>4</td>\n",
       "      <td>Female</td>\n",
       "      <td>23</td>\n",
       "      <td>16</td>\n",
       "      <td>77</td>\n",
       "    </tr>\n",
       "    <tr>\n",
       "      <th>4</th>\n",
       "      <td>5</td>\n",
       "      <td>Female</td>\n",
       "      <td>31</td>\n",
       "      <td>17</td>\n",
       "      <td>40</td>\n",
       "    </tr>\n",
       "  </tbody>\n",
       "</table>\n",
       "</div>"
      ],
      "text/plain": [
       "   CustomerID  Gender  Age  Annual Income (k$)  Spending Score (1-100)\n",
       "0           1    Male   19                  15                      39\n",
       "1           2    Male   21                  15                      81\n",
       "2           3  Female   20                  16                       6\n",
       "3           4  Female   23                  16                      77\n",
       "4           5  Female   31                  17                      40"
      ]
     },
     "execution_count": 2,
     "metadata": {},
     "output_type": "execute_result"
    }
   ],
   "source": [
    "df = pd.read_csv(\"./Mall_Customers.csv\")\n",
    "df.head()"
   ]
  },
  {
   "cell_type": "code",
   "execution_count": 3,
   "metadata": {},
   "outputs": [],
   "source": [
    "# CustomerID는 index와 같의 의미이므로 삭제한다\n",
    "df.drop(\"CustomerID\",axis=1,inplace=True)"
   ]
  },
  {
   "cell_type": "code",
   "execution_count": 4,
   "metadata": {},
   "outputs": [],
   "source": [
    "df['Gender'] = df['Gender'].map({'Male':0,\"Female\":1})"
   ]
  },
  {
   "cell_type": "code",
   "execution_count": 5,
   "metadata": {},
   "outputs": [
    {
     "data": {
      "text/html": [
       "<div>\n",
       "<style scoped>\n",
       "    .dataframe tbody tr th:only-of-type {\n",
       "        vertical-align: middle;\n",
       "    }\n",
       "\n",
       "    .dataframe tbody tr th {\n",
       "        vertical-align: top;\n",
       "    }\n",
       "\n",
       "    .dataframe thead th {\n",
       "        text-align: right;\n",
       "    }\n",
       "</style>\n",
       "<table border=\"1\" class=\"dataframe\">\n",
       "  <thead>\n",
       "    <tr style=\"text-align: right;\">\n",
       "      <th></th>\n",
       "      <th>Gender</th>\n",
       "      <th>Age</th>\n",
       "      <th>Annual Income (k$)</th>\n",
       "      <th>Spending Score (1-100)</th>\n",
       "    </tr>\n",
       "  </thead>\n",
       "  <tbody>\n",
       "    <tr>\n",
       "      <th>0</th>\n",
       "      <td>0</td>\n",
       "      <td>19</td>\n",
       "      <td>15</td>\n",
       "      <td>39</td>\n",
       "    </tr>\n",
       "    <tr>\n",
       "      <th>1</th>\n",
       "      <td>0</td>\n",
       "      <td>21</td>\n",
       "      <td>15</td>\n",
       "      <td>81</td>\n",
       "    </tr>\n",
       "    <tr>\n",
       "      <th>2</th>\n",
       "      <td>1</td>\n",
       "      <td>20</td>\n",
       "      <td>16</td>\n",
       "      <td>6</td>\n",
       "    </tr>\n",
       "    <tr>\n",
       "      <th>3</th>\n",
       "      <td>1</td>\n",
       "      <td>23</td>\n",
       "      <td>16</td>\n",
       "      <td>77</td>\n",
       "    </tr>\n",
       "    <tr>\n",
       "      <th>4</th>\n",
       "      <td>1</td>\n",
       "      <td>31</td>\n",
       "      <td>17</td>\n",
       "      <td>40</td>\n",
       "    </tr>\n",
       "  </tbody>\n",
       "</table>\n",
       "</div>"
      ],
      "text/plain": [
       "   Gender  Age  Annual Income (k$)  Spending Score (1-100)\n",
       "0       0   19                  15                      39\n",
       "1       0   21                  15                      81\n",
       "2       1   20                  16                       6\n",
       "3       1   23                  16                      77\n",
       "4       1   31                  17                      40"
      ]
     },
     "execution_count": 5,
     "metadata": {},
     "output_type": "execute_result"
    }
   ],
   "source": [
    "df.head()"
   ]
  },
  {
   "cell_type": "code",
   "execution_count": 6,
   "metadata": {},
   "outputs": [
    {
     "data": {
      "text/html": [
       "<div>\n",
       "<style scoped>\n",
       "    .dataframe tbody tr th:only-of-type {\n",
       "        vertical-align: middle;\n",
       "    }\n",
       "\n",
       "    .dataframe tbody tr th {\n",
       "        vertical-align: top;\n",
       "    }\n",
       "\n",
       "    .dataframe thead th {\n",
       "        text-align: right;\n",
       "    }\n",
       "</style>\n",
       "<table border=\"1\" class=\"dataframe\">\n",
       "  <thead>\n",
       "    <tr style=\"text-align: right;\">\n",
       "      <th></th>\n",
       "      <th>Gender</th>\n",
       "      <th>Age</th>\n",
       "      <th>Annual Income (k$)</th>\n",
       "      <th>Spending Score (1-100)</th>\n",
       "    </tr>\n",
       "  </thead>\n",
       "  <tbody>\n",
       "    <tr>\n",
       "      <th>count</th>\n",
       "      <td>200.000000</td>\n",
       "      <td>200.000000</td>\n",
       "      <td>200.000000</td>\n",
       "      <td>200.000000</td>\n",
       "    </tr>\n",
       "    <tr>\n",
       "      <th>mean</th>\n",
       "      <td>0.560000</td>\n",
       "      <td>38.850000</td>\n",
       "      <td>60.560000</td>\n",
       "      <td>50.200000</td>\n",
       "    </tr>\n",
       "    <tr>\n",
       "      <th>std</th>\n",
       "      <td>0.497633</td>\n",
       "      <td>13.969007</td>\n",
       "      <td>26.264721</td>\n",
       "      <td>25.823522</td>\n",
       "    </tr>\n",
       "    <tr>\n",
       "      <th>min</th>\n",
       "      <td>0.000000</td>\n",
       "      <td>18.000000</td>\n",
       "      <td>15.000000</td>\n",
       "      <td>1.000000</td>\n",
       "    </tr>\n",
       "    <tr>\n",
       "      <th>25%</th>\n",
       "      <td>0.000000</td>\n",
       "      <td>28.750000</td>\n",
       "      <td>41.500000</td>\n",
       "      <td>34.750000</td>\n",
       "    </tr>\n",
       "    <tr>\n",
       "      <th>50%</th>\n",
       "      <td>1.000000</td>\n",
       "      <td>36.000000</td>\n",
       "      <td>61.500000</td>\n",
       "      <td>50.000000</td>\n",
       "    </tr>\n",
       "    <tr>\n",
       "      <th>75%</th>\n",
       "      <td>1.000000</td>\n",
       "      <td>49.000000</td>\n",
       "      <td>78.000000</td>\n",
       "      <td>73.000000</td>\n",
       "    </tr>\n",
       "    <tr>\n",
       "      <th>max</th>\n",
       "      <td>1.000000</td>\n",
       "      <td>70.000000</td>\n",
       "      <td>137.000000</td>\n",
       "      <td>99.000000</td>\n",
       "    </tr>\n",
       "  </tbody>\n",
       "</table>\n",
       "</div>"
      ],
      "text/plain": [
       "           Gender         Age  Annual Income (k$)  Spending Score (1-100)\n",
       "count  200.000000  200.000000          200.000000              200.000000\n",
       "mean     0.560000   38.850000           60.560000               50.200000\n",
       "std      0.497633   13.969007           26.264721               25.823522\n",
       "min      0.000000   18.000000           15.000000                1.000000\n",
       "25%      0.000000   28.750000           41.500000               34.750000\n",
       "50%      1.000000   36.000000           61.500000               50.000000\n",
       "75%      1.000000   49.000000           78.000000               73.000000\n",
       "max      1.000000   70.000000          137.000000               99.000000"
      ]
     },
     "execution_count": 6,
     "metadata": {},
     "output_type": "execute_result"
    }
   ],
   "source": [
    "df.describe()"
   ]
  },
  {
   "cell_type": "markdown",
   "metadata": {},
   "source": [
    "### 결측치 있는지 확인"
   ]
  },
  {
   "cell_type": "code",
   "execution_count": 7,
   "metadata": {},
   "outputs": [
    {
     "data": {
      "text/plain": [
       "Gender                    0\n",
       "Age                       0\n",
       "Annual Income (k$)        0\n",
       "Spending Score (1-100)    0\n",
       "dtype: int64"
      ]
     },
     "execution_count": 7,
     "metadata": {},
     "output_type": "execute_result"
    }
   ],
   "source": [
    "df.isnull().sum()"
   ]
  },
  {
   "cell_type": "markdown",
   "metadata": {},
   "source": [
    "-> 없는듯 하다"
   ]
  },
  {
   "cell_type": "markdown",
   "metadata": {},
   "source": [
    "### 너무 이상한 이상치 있는지 확인"
   ]
  },
  {
   "cell_type": "code",
   "execution_count": 9,
   "metadata": {},
   "outputs": [
    {
     "data": {
      "text/plain": [
       "[]"
      ]
     },
     "execution_count": 9,
     "metadata": {},
     "output_type": "execute_result"
    },
    {
     "data": {
      "image/png": "[encoded data removed]",
      "text/plain": [
       "<Figure size 1080x360 with 3 Axes>"
      ]
     },
     "metadata": {
      "needs_background": "light"
     },
     "output_type": "display_data"
    }
   ],
   "source": [
    "import matplotlib.pyplot as plt\n",
    "import seaborn as sns\n",
    "\n",
    "f,ax=plt.subplots(1,3,figsize=(15,5)) # (1,2) subplot 생성 \n",
    "\n",
    "\n",
    "sns.distplot(df['Age'],ax=ax[0])\n",
    "sns.distplot(df['Annual Income (k$)'],ax=ax[1])\n",
    "sns.distplot(df['Spending Score (1-100)'],ax=ax[2])\n",
    "plt.plot()"
   ]
  },
  {
   "cell_type": "markdown",
   "metadata": {},
   "source": [
    "-> 없는 듯 하다"
   ]
  },
  {
   "cell_type": "markdown",
   "metadata": {},
   "source": [
    "## Clustering"
   ]
  },
  {
   "cell_type": "markdown",
   "metadata": {},
   "source": [
    "### 2. K-Means"
   ]
  },
  {
   "cell_type": "code",
   "execution_count": 10,
   "metadata": {},
   "outputs": [],
   "source": [
    "n_clusters =4"
   ]
  },
  {
   "cell_type": "code",
   "execution_count": 11,
   "metadata": {},
   "outputs": [
    {
     "data": {
      "text/html": [
       "<div>\n",
       "<style scoped>\n",
       "    .dataframe tbody tr th:only-of-type {\n",
       "        vertical-align: middle;\n",
       "    }\n",
       "\n",
       "    .dataframe tbody tr th {\n",
       "        vertical-align: top;\n",
       "    }\n",
       "\n",
       "    .dataframe thead th {\n",
       "        text-align: right;\n",
       "    }\n",
       "</style>\n",
       "<table border=\"1\" class=\"dataframe\">\n",
       "  <thead>\n",
       "    <tr style=\"text-align: right;\">\n",
       "      <th></th>\n",
       "      <th>Gender</th>\n",
       "      <th>Age</th>\n",
       "      <th>Annual Income (k$)</th>\n",
       "      <th>Spending Score (1-100)</th>\n",
       "    </tr>\n",
       "  </thead>\n",
       "  <tbody>\n",
       "    <tr>\n",
       "      <th>0</th>\n",
       "      <td>0</td>\n",
       "      <td>19</td>\n",
       "      <td>15</td>\n",
       "      <td>39</td>\n",
       "    </tr>\n",
       "    <tr>\n",
       "      <th>1</th>\n",
       "      <td>0</td>\n",
       "      <td>21</td>\n",
       "      <td>15</td>\n",
       "      <td>81</td>\n",
       "    </tr>\n",
       "    <tr>\n",
       "      <th>2</th>\n",
       "      <td>1</td>\n",
       "      <td>20</td>\n",
       "      <td>16</td>\n",
       "      <td>6</td>\n",
       "    </tr>\n",
       "    <tr>\n",
       "      <th>3</th>\n",
       "      <td>1</td>\n",
       "      <td>23</td>\n",
       "      <td>16</td>\n",
       "      <td>77</td>\n",
       "    </tr>\n",
       "    <tr>\n",
       "      <th>4</th>\n",
       "      <td>1</td>\n",
       "      <td>31</td>\n",
       "      <td>17</td>\n",
       "      <td>40</td>\n",
       "    </tr>\n",
       "  </tbody>\n",
       "</table>\n",
       "</div>"
      ],
      "text/plain": [
       "   Gender  Age  Annual Income (k$)  Spending Score (1-100)\n",
       "0       0   19                  15                      39\n",
       "1       0   21                  15                      81\n",
       "2       1   20                  16                       6\n",
       "3       1   23                  16                      77\n",
       "4       1   31                  17                      40"
      ]
     },
     "execution_count": 11,
     "metadata": {},
     "output_type": "execute_result"
    }
   ],
   "source": [
    "df.head()"
   ]
  },
  {
   "cell_type": "code",
   "execution_count": 12,
   "metadata": {},
   "outputs": [],
   "source": [
    "from sklearn.cluster import KMeans\n",
    "#K-Means 군집 분석 \n",
    "model = KMeans(n_clusters=n_clusters,algorithm='auto')\n",
    "model.fit(df)\n",
    "# 군집 번호 매겨서 분류하기\n",
    "predict = pd.DataFrame(model.predict(df))\n",
    "predict.columns=['predict']"
   ]
  },
  {
   "cell_type": "code",
   "execution_count": 13,
   "metadata": {},
   "outputs": [
    {
     "data": {
      "text/plain": [
       "array([[ 0.53846154, 32.69230769, 86.53846154, 82.12820513],\n",
       "       [ 0.62105263, 44.89473684, 48.70526316, 42.63157895],\n",
       "       [ 0.47368421, 40.39473684, 87.        , 18.63157895],\n",
       "       [ 0.5       , 24.82142857, 28.71428571, 74.25      ]])"
      ]
     },
     "execution_count": 13,
     "metadata": {},
     "output_type": "execute_result"
    }
   ],
   "source": [
    "# 한 row가 한 center다.\n",
    "model.cluster_centers_"
   ]
  },
  {
   "cell_type": "code",
   "execution_count": 14,
   "metadata": {},
   "outputs": [],
   "source": [
    "# 그 중에서 한 차원을 빼버리면 3차원에서 z축을 빼면 flat 해지는 원리처럼 flatten 된다.\n",
    "centers = model.cluster_centers_[:,1:]\n",
    "centers = pd.DataFrame(centers)"
   ]
  },
  {
   "cell_type": "code",
   "execution_count": 15,
   "metadata": {},
   "outputs": [
    {
     "data": {
      "text/html": [
       "<div>\n",
       "<style scoped>\n",
       "    .dataframe tbody tr th:only-of-type {\n",
       "        vertical-align: middle;\n",
       "    }\n",
       "\n",
       "    .dataframe tbody tr th {\n",
       "        vertical-align: top;\n",
       "    }\n",
       "\n",
       "    .dataframe thead th {\n",
       "        text-align: right;\n",
       "    }\n",
       "</style>\n",
       "<table border=\"1\" class=\"dataframe\">\n",
       "  <thead>\n",
       "    <tr style=\"text-align: right;\">\n",
       "      <th></th>\n",
       "      <th>0</th>\n",
       "      <th>1</th>\n",
       "      <th>2</th>\n",
       "    </tr>\n",
       "  </thead>\n",
       "  <tbody>\n",
       "    <tr>\n",
       "      <th>0</th>\n",
       "      <td>32.692308</td>\n",
       "      <td>86.538462</td>\n",
       "      <td>82.128205</td>\n",
       "    </tr>\n",
       "    <tr>\n",
       "      <th>1</th>\n",
       "      <td>44.894737</td>\n",
       "      <td>48.705263</td>\n",
       "      <td>42.631579</td>\n",
       "    </tr>\n",
       "    <tr>\n",
       "      <th>2</th>\n",
       "      <td>40.394737</td>\n",
       "      <td>87.000000</td>\n",
       "      <td>18.631579</td>\n",
       "    </tr>\n",
       "    <tr>\n",
       "      <th>3</th>\n",
       "      <td>24.821429</td>\n",
       "      <td>28.714286</td>\n",
       "      <td>74.250000</td>\n",
       "    </tr>\n",
       "  </tbody>\n",
       "</table>\n",
       "</div>"
      ],
      "text/plain": [
       "           0          1          2\n",
       "0  32.692308  86.538462  82.128205\n",
       "1  44.894737  48.705263  42.631579\n",
       "2  40.394737  87.000000  18.631579\n",
       "3  24.821429  28.714286  74.250000"
      ]
     },
     "execution_count": 15,
     "metadata": {},
     "output_type": "execute_result"
    }
   ],
   "source": [
    "centers"
   ]
  },
  {
   "cell_type": "code",
   "execution_count": 16,
   "metadata": {},
   "outputs": [
    {
     "data": {
      "text/plain": [
       "0    32.692308\n",
       "1    86.538462\n",
       "2    82.128205\n",
       "Name: 0, dtype: float64"
      ]
     },
     "execution_count": 16,
     "metadata": {},
     "output_type": "execute_result"
    }
   ],
   "source": [
    "centers.loc[0]"
   ]
  },
  {
   "cell_type": "code",
   "execution_count": 17,
   "metadata": {},
   "outputs": [
    {
     "data": {
      "text/plain": [
       "0    32.692308\n",
       "1    44.894737\n",
       "2    40.394737\n",
       "3    24.821429\n",
       "Name: 0, dtype: float64"
      ]
     },
     "execution_count": 17,
     "metadata": {},
     "output_type": "execute_result"
    }
   ],
   "source": [
    "centers[0]"
   ]
  },
  {
   "cell_type": "code",
   "execution_count": 18,
   "metadata": {},
   "outputs": [
    {
     "data": {
      "image/png": "[encoded data removed]",
      "text/plain": [
       "<Figure size 432x432 with 1 Axes>"
      ]
     },
     "metadata": {
      "needs_background": "light"
     },
     "output_type": "display_data"
    }
   ],
   "source": [
    "# 각 군집의 중심점 \n",
    "# centers = pd.DataFrame(model.cluster_centers_,columns=['Gender','Age','Annual Income (k$)','Spending Score (1-100)'])\n",
    "# center_x = centers['Age']\n",
    "# center_y = centers['Annual Income (k$)']\n",
    "# center_z = centers['Spending Score (1-100)']\n",
    "\n",
    "# 시각화a\n",
    "from mpl_toolkits.mplot3d import Axes3D\n",
    "# scatter plot\n",
    "fig = plt.figure( figsize=(6,6))\n",
    "ax = Axes3D(fig, rect=[0, 0, .95, 1], elev=48, azim=134)\n",
    "ax.scatter(df['Age'],df['Annual Income (k$)'],df['Spending Score (1-100)'],c=predict['predict'],alpha=0.5)\n",
    "# column 을 보내줘야 row별로 잘 시각화 한다.\n",
    "ax.scatter(centers[0],centers[1],centers[2],s=100,marker='D',c='r')\n",
    "ax.set_xlabel('Age')\n",
    "ax.set_ylabel('Annual Income (k$)')\n",
    "ax.set_zlabel('Spending Score (1-100)')\n",
    "plt.show()"
   ]
  },
  {
   "cell_type": "code",
   "execution_count": 19,
   "metadata": {},
   "outputs": [],
   "source": [
    "colors = ['b', 'g', 'r', 'c', 'm', 'y', 'k', 'w']"
   ]
  },
  {
   "cell_type": "code",
   "execution_count": 20,
   "metadata": {},
   "outputs": [
    {
     "data": {
      "text/plain": [
       "3"
      ]
     },
     "execution_count": 20,
     "metadata": {},
     "output_type": "execute_result"
    }
   ],
   "source": [
    "predict.loc[0].item()"
   ]
  },
  {
   "cell_type": "code",
   "execution_count": 21,
   "metadata": {},
   "outputs": [],
   "source": [
    "df_with_predict = pd.concat([df,predict],axis=1)"
   ]
  },
  {
   "cell_type": "code",
   "execution_count": 22,
   "metadata": {},
   "outputs": [
    {
     "data": {
      "image/png": "[encoded data removed]",
      "text/plain": [
       "<Figure size 432x288 with 1 Axes>"
      ]
     },
     "metadata": {
      "needs_background": "light"
     },
     "output_type": "display_data"
    }
   ],
   "source": [
    "for i in range(len(df)):\n",
    "    for j in range(n_clusters):\n",
    "        if predict.loc[i].item() == j:\n",
    "            plt.scatter(df.loc[i,'Gender'],df.loc[i,'Age'],c=colors[j])"
   ]
  },
  {
   "cell_type": "code",
   "execution_count": 23,
   "metadata": {},
   "outputs": [
    {
     "data": {
      "text/plain": [
       "<seaborn.axisgrid.FacetGrid at 0x1a257329b0>"
      ]
     },
     "execution_count": 23,
     "metadata": {},
     "output_type": "execute_result"
    },
    {
     "data": {
      "image/png": "[encoded data removed]",
      "text/plain": [
       "<Figure size 403.125x360 with 1 Axes>"
      ]
     },
     "metadata": {
      "needs_background": "light"
     },
     "output_type": "display_data"
    }
   ],
   "source": [
    "sns.catplot(x=\"Gender\", y=\"Age\",hue = \"predict\", kind=\"swarm\", data=df_with_predict)"
   ]
  },
  {
   "cell_type": "code",
   "execution_count": 24,
   "metadata": {
    "scrolled": true
   },
   "outputs": [
    {
     "data": {
      "image/png": "[encoded data removed]",
      "text/plain": [
       "<Figure size 432x288 with 1 Axes>"
      ]
     },
     "metadata": {
      "needs_background": "light"
     },
     "output_type": "display_data"
    }
   ],
   "source": [
    "for i in range(len(df)):\n",
    "    for j in range(n_clusters):\n",
    "        if predict.loc[i].item() == j:\n",
    "            plt.scatter(df.loc[i,'Gender'],df.loc[i,'Annual Income (k$)'],c=colors[j])"
   ]
  },
  {
   "cell_type": "code",
   "execution_count": 25,
   "metadata": {},
   "outputs": [
    {
     "data": {
      "text/plain": [
       "<seaborn.axisgrid.FacetGrid at 0x1a261a0a90>"
      ]
     },
     "execution_count": 25,
     "metadata": {},
     "output_type": "execute_result"
    },
    {
     "data": {
      "image/png": "[encoded data removed]",
      "text/plain": [
       "<Figure size 403.125x360 with 1 Axes>"
      ]
     },
     "metadata": {
      "needs_background": "light"
     },
     "output_type": "display_data"
    }
   ],
   "source": [
    "sns.catplot(x=\"Gender\", y=\"Annual Income (k$)\",hue = \"predict\", kind=\"swarm\", data=df_with_predict)"
   ]
  },
  {
   "cell_type": "code",
   "execution_count": 26,
   "metadata": {},
   "outputs": [
    {
     "data": {
      "image/png": "[encoded data removed]",
      "text/plain": [
       "<Figure size 432x288 with 1 Axes>"
      ]
     },
     "metadata": {
      "needs_background": "light"
     },
     "output_type": "display_data"
    }
   ],
   "source": [
    "for i in range(len(df)):\n",
    "    for j in range(n_clusters):\n",
    "        if predict.loc[i].item() == j:\n",
    "            plt.scatter(df.loc[i,'Gender'],df.loc[i,'Spending Score (1-100)'],c=colors[j])"
   ]
  },
  {
   "cell_type": "code",
   "execution_count": 27,
   "metadata": {},
   "outputs": [
    {
     "data": {
      "text/plain": [
       "<seaborn.axisgrid.FacetGrid at 0x1a265a17f0>"
      ]
     },
     "execution_count": 27,
     "metadata": {},
     "output_type": "execute_result"
    },
    {
     "data": {
      "image/png": "[encoded data removed]",
      "text/plain": [
       "<Figure size 403.125x360 with 1 Axes>"
      ]
     },
     "metadata": {
      "needs_background": "light"
     },
     "output_type": "display_data"
    }
   ],
   "source": [
    "sns.catplot(x=\"Gender\", y=\"Spending Score (1-100)\",hue = \"predict\", kind=\"swarm\", data=df_with_predict)"
   ]
  },
  {
   "cell_type": "markdown",
   "metadata": {},
   "source": [
    "### -> Gender의 경우에 Age는 불규칙한 군집이 생기고 나머지는 그래도 분류가되는 편이다"
   ]
  },
  {
   "cell_type": "markdown",
   "metadata": {},
   "source": [
    "### 최적의 k 설정"
   ]
  },
  {
   "cell_type": "code",
   "execution_count": 28,
   "metadata": {},
   "outputs": [
    {
     "data": {
      "text/plain": [
       "Text(0.5, 1.0, 'Elbow curve')"
      ]
     },
     "execution_count": 28,
     "metadata": {},
     "output_type": "execute_result"
    },
    {
     "data": {
      "image/png": "[encoded data removed]",
      "text/plain": [
       "<Figure size 1080x360 with 1 Axes>"
      ]
     },
     "metadata": {
      "needs_background": "light"
     },
     "output_type": "display_data"
    }
   ],
   "source": [
    "X = df\n",
    "distorsions = []\n",
    "for k in range(2, 20):\n",
    "    kmeans = KMeans(n_clusters=k)\n",
    "    kmeans.fit(X)\n",
    "    # inertia = Sum of squared distances of samples to their closest cluster center.\n",
    "    distorsions.append(kmeans.inertia_)\n",
    "\n",
    "fig = plt.figure(figsize=(15, 5))\n",
    "plt.plot(range(2, 20), distorsions)\n",
    "plt.grid(True)\n",
    "plt.title('Elbow curve')"
   ]
  },
  {
   "cell_type": "markdown",
   "metadata": {},
   "source": [
    "-> 6개 정도로 잡는게 좋을 듯하다"
   ]
  },
  {
   "cell_type": "code",
   "execution_count": null,
   "metadata": {},
   "outputs": [],
   "source": []
  },
  {
   "cell_type": "markdown",
   "metadata": {},
   "source": [
    "### 3. DBSCAN"
   ]
  },
  {
   "cell_type": "code",
   "execution_count": 57,
   "metadata": {},
   "outputs": [
    {
     "data": {
      "text/html": [
       "<div>\n",
       "<style scoped>\n",
       "    .dataframe tbody tr th:only-of-type {\n",
       "        vertical-align: middle;\n",
       "    }\n",
       "\n",
       "    .dataframe tbody tr th {\n",
       "        vertical-align: top;\n",
       "    }\n",
       "\n",
       "    .dataframe thead th {\n",
       "        text-align: right;\n",
       "    }\n",
       "</style>\n",
       "<table border=\"1\" class=\"dataframe\">\n",
       "  <thead>\n",
       "    <tr style=\"text-align: right;\">\n",
       "      <th></th>\n",
       "      <th>Gender</th>\n",
       "      <th>Age</th>\n",
       "      <th>Annual Income (k$)</th>\n",
       "      <th>Spending Score (1-100)</th>\n",
       "      <th>predict</th>\n",
       "    </tr>\n",
       "  </thead>\n",
       "  <tbody>\n",
       "    <tr>\n",
       "      <th>0</th>\n",
       "      <td>0</td>\n",
       "      <td>19</td>\n",
       "      <td>15</td>\n",
       "      <td>39</td>\n",
       "      <td>-1</td>\n",
       "    </tr>\n",
       "    <tr>\n",
       "      <th>1</th>\n",
       "      <td>0</td>\n",
       "      <td>21</td>\n",
       "      <td>15</td>\n",
       "      <td>81</td>\n",
       "      <td>-1</td>\n",
       "    </tr>\n",
       "    <tr>\n",
       "      <th>2</th>\n",
       "      <td>1</td>\n",
       "      <td>20</td>\n",
       "      <td>16</td>\n",
       "      <td>6</td>\n",
       "      <td>-1</td>\n",
       "    </tr>\n",
       "    <tr>\n",
       "      <th>3</th>\n",
       "      <td>1</td>\n",
       "      <td>23</td>\n",
       "      <td>16</td>\n",
       "      <td>77</td>\n",
       "      <td>-1</td>\n",
       "    </tr>\n",
       "    <tr>\n",
       "      <th>4</th>\n",
       "      <td>1</td>\n",
       "      <td>31</td>\n",
       "      <td>17</td>\n",
       "      <td>40</td>\n",
       "      <td>-1</td>\n",
       "    </tr>\n",
       "  </tbody>\n",
       "</table>\n",
       "</div>"
      ],
      "text/plain": [
       "   Gender  Age  Annual Income (k$)  Spending Score (1-100)  predict\n",
       "0       0   19                  15                      39       -1\n",
       "1       0   21                  15                      81       -1\n",
       "2       1   20                  16                       6       -1\n",
       "3       1   23                  16                      77       -1\n",
       "4       1   31                  17                      40       -1"
      ]
     },
     "execution_count": 57,
     "metadata": {},
     "output_type": "execute_result"
    }
   ],
   "source": [
    "from sklearn.cluster import DBSCAN\n",
    "\n",
    "model = DBSCAN(eps=0.3,min_samples=6)\n",
    "\n",
    "predict = pd.DataFrame(model.fit_predict(df))\n",
    "predict.columns=['predict']\n",
    "\n",
    "# predict 한것 붙이기\n",
    "df_with_predict = pd.concat([df,predict],axis=1)\n",
    "\n",
    "df_with_predict.head()"
   ]
  },
  {
   "cell_type": "code",
   "execution_count": 58,
   "metadata": {},
   "outputs": [
    {
     "data": {
      "text/html": [
       "<div>\n",
       "<style scoped>\n",
       "    .dataframe tbody tr th:only-of-type {\n",
       "        vertical-align: middle;\n",
       "    }\n",
       "\n",
       "    .dataframe tbody tr th {\n",
       "        vertical-align: top;\n",
       "    }\n",
       "\n",
       "    .dataframe thead th {\n",
       "        text-align: right;\n",
       "    }\n",
       "</style>\n",
       "<table border=\"1\" class=\"dataframe\">\n",
       "  <thead>\n",
       "    <tr style=\"text-align: right;\">\n",
       "      <th></th>\n",
       "      <th>predict</th>\n",
       "    </tr>\n",
       "  </thead>\n",
       "  <tbody>\n",
       "  </tbody>\n",
       "</table>\n",
       "</div>"
      ],
      "text/plain": [
       "Empty DataFrame\n",
       "Columns: [predict]\n",
       "Index: []"
      ]
     },
     "execution_count": 58,
     "metadata": {},
     "output_type": "execute_result"
    }
   ],
   "source": [
    "predict[predict['predict']!=-1]"
   ]
  },
  {
   "cell_type": "markdown",
   "metadata": {},
   "source": [
    "### -> eps값이 너무 작고 min_sample은 그에 비해 너무 커서 분류가 안된다. 조정해봐야 한다. k-dist 사용해보기"
   ]
  },
  {
   "cell_type": "code",
   "execution_count": 30,
   "metadata": {},
   "outputs": [],
   "source": [
    "from sklearn.metrics.pairwise import euclidean_distances\n",
    "from sklearn.metrics import pairwise_distances\n",
    "# https://scikit-learn.org/stable/modules/generated/sklearn.metrics.pairwise.euclidean_distances.html\n",
    "distance = euclidean_distances(df, df)\n",
    "# distance = pairwise_distances(df,df)"
   ]
  },
  {
   "cell_type": "markdown",
   "metadata": {},
   "source": [
    "#### 거리계산은 이렇게 하면 맞나요?? ㅜㅜ 수치가 조금 이상하게 나와서 ㅜㅜ"
   ]
  },
  {
   "cell_type": "code",
   "execution_count": 31,
   "metadata": {},
   "outputs": [
    {
     "data": {
      "text/plain": [
       "array([[  0.        ,  42.04759208,  33.04542328, ..., 117.1110584 ,\n",
       "        124.47489707, 130.15759678],\n",
       "       [ 42.04759208,   0.        ,  75.01999733, ..., 111.7631424 ,\n",
       "        137.74614332, 122.34786471],\n",
       "       [ 33.04542328,  75.01999733,   0.        , ..., 129.8807145 ,\n",
       "        122.18837915, 143.77412841],\n",
       "       ...,\n",
       "       [117.1110584 , 111.7631424 , 129.8807145 , ...,   0.        ,\n",
       "         57.07013229,  14.35270009],\n",
       "       [124.47489707, 137.74614332, 122.18837915, ...,  57.07013229,\n",
       "          0.        ,  65.03076195],\n",
       "       [130.15759678, 122.34786471, 143.77412841, ...,  14.35270009,\n",
       "         65.03076195,   0.        ]])"
      ]
     },
     "execution_count": 31,
     "metadata": {},
     "output_type": "execute_result"
    }
   ],
   "source": [
    "distance"
   ]
  },
  {
   "cell_type": "code",
   "execution_count": 32,
   "metadata": {},
   "outputs": [
    {
     "data": {
      "text/plain": [
       "(200, 200)"
      ]
     },
     "execution_count": 32,
     "metadata": {},
     "output_type": "execute_result"
    }
   ],
   "source": [
    "distance.shape"
   ]
  },
  {
   "cell_type": "code",
   "execution_count": 33,
   "metadata": {},
   "outputs": [
    {
     "data": {
      "text/plain": [
       "array([  0.        ,  42.04759208,  33.04542328,  38.23610859,\n",
       "        12.24744871,  37.18870796,  36.81032464,  55.23585792,\n",
       "        57.76677246,  35.02855978,  54.2678542 ,  62.23343153,\n",
       "        46.07602413,  38.66522986,  32.01562119,  40.42276586,\n",
       "        17.57839583,  27.67670501,  35.39774004,  61.66036004,\n",
       "        18.78829423,  35.67912555,  44.56455991,  37.41657387,\n",
       "        44.94441011,  46.021734  ,  29.9165506 ,  30.14962686,\n",
       "        26.4952826 ,  50.16971198,  55.95533933,  37.22902094,\n",
       "        52.0096145 ,  55.98214001,  43.01162634,  45.74931693,\n",
       "        37.08099244,  40.48456496,  30.70830507,  42.21374184,\n",
       "        51.59457336,  57.99137867,  37.76241518,  34.71310992,\n",
       "        39.97499218,  35.74912586,  42.93017587,  27.45906044,\n",
       "        27.11088342,  27.91057147,  42.41462012,  36.95943723,\n",
       "        33.9705755 ,  53.15072906,  42.21374184,  39.6484552 ,\n",
       "        44.57577818,  58.22370651,  34.20526275,  46.54030511,\n",
       "        62.05642594,  34.88552709,  59.14389233,  51.4781507 ,\n",
       "        56.29387178,  38.60051813,  42.27292278,  59.76621119,\n",
       "        38.58756276,  36.37306696,  63.34824386,  44.15880433,\n",
       "        54.83611948,  56.5331761 ,  56.43580424,  42.36744033,\n",
       "        48.92851929,  45.19955752,  41.31585652,  49.30517214,\n",
       "        55.75840744,  46.23851209,  61.87891402,  47.70744177,\n",
       "        43.01162634,  49.10193479,  58.49786321,  45.0555213 ,\n",
       "        50.15974482,  53.47896783,  67.77905281,  44.05678154,\n",
       "        54.46099522,  49.67896939,  46.94677838,  47.10626285,\n",
       "        53.60970061,  47.02127178,  54.46099522,  47.08502947,\n",
       "        47.22287581,  56.48893697,  70.09279564,  50.13980455,\n",
       "        58.29236657,  47.14870094,  68.08083431,  59.81638571,\n",
       "        68.70953355,  67.77905281,  67.74215822,  50.29910536,\n",
       "        52.64978632,  49.49747468,  50.82322304,  51.20546846,\n",
       "        66.73080248,  61.65225057,  61.19640512,  63.16644679,\n",
       "        55.29014379,  55.38050198,  60.98360435,  77.58865897,\n",
       "        56.05354583,  67.92643079,  61.05735009,  81.93289938,\n",
       "        74.29670248,  69.23149572,  69.42621983,  69.51258879,\n",
       "        57.54128952,  66.46803743,  67.2383819 ,  76.58981656,\n",
       "        70.80960387,  68.47627326,  65.74191966,  69.47661477,\n",
       "        78.74642849,  81.76184929,  61.67657578,  78.7083223 ,\n",
       "        67.88961629,  85.37564055,  68.51277253,  72.38093672,\n",
       "        66.96267617,  82.43178998,  70.91544261,  82.28000972,\n",
       "        70.39886363,  75.49834435,  72.68424864,  80.83316151,\n",
       "        75.74298647,  74.9132832 ,  75.08661665,  72.43617881,\n",
       "        74.04052944,  78.31347266,  74.24284477,  86.12200648,\n",
       "        77.65307463,  80.53570637,  77.01298592,  91.50956234,\n",
       "        74.95331881,  77.        ,  79.37883849,  81.        ,\n",
       "        79.4606821 ,  91.00549434,  84.23182296,  87.52142595,\n",
       "        86.17424209,  79.32843122,  91.15371633,  94.5568612 ,\n",
       "        84.24962908,  95.40964312,  90.52071586,  96.90717208,\n",
       "        86.83893136, 102.66937226,  94.05849244,  91.20307012,\n",
       "        93.34345183, 100.7472084 ,  90.69729875,  93.88290579,\n",
       "       103.73523991, 112.56109452, 111.08105149, 113.49889867,\n",
       "       114.53820323, 117.1110584 , 124.47489707, 130.15759678])"
      ]
     },
     "execution_count": 33,
     "metadata": {},
     "output_type": "execute_result"
    }
   ],
   "source": [
    "# 각 점에서 뻗어가는 거리 나옴\n",
    "distance[0]"
   ]
  },
  {
   "cell_type": "code",
   "execution_count": 34,
   "metadata": {},
   "outputs": [],
   "source": [
    "K=4"
   ]
  },
  {
   "cell_type": "code",
   "execution_count": 35,
   "metadata": {
    "scrolled": false
   },
   "outputs": [],
   "source": [
    "# https://stackoverflow.com/questions/6910641/how-do-i-get-indices-of-n-maximum-values-in-a-numpy-array\n",
    "k_dist = []\n",
    "for n in range(len(distance)):\n",
    "    sort = distance[n].argsort()\n",
    "    for i in range(len(sort)):\n",
    "        if sort[i] == 4: # 4번째로 가까운 애면 list에 붙여라\n",
    "            k_dist.append((i,distance[n][i])) "
   ]
  },
  {
   "cell_type": "code",
   "execution_count": 36,
   "metadata": {},
   "outputs": [
    {
     "data": {
      "text/plain": [
       "[(1, 42.04759208325728),\n",
       " (29, 15.394804318340652),\n",
       " (11, 94.24966843443005),\n",
       " (28, 50.73460357586329),\n",
       " (0, 12.24744871391589),\n",
       " (28, 49.92995093127971),\n",
       " (19, 92.13576938409967),\n",
       " (35, 19.949937343260004),\n",
       " (22, 19.1049731745428),\n",
       " (25, 13.527749258468683),\n",
       " (25, 78.41555968046137),\n",
       " (51, 45.332107826572546),\n",
       " (21, 66.85805860178712),\n",
       " (30, 82.0121942152507),\n",
       " (17, 55.66866263886712),\n",
       " (30, 84.66994744299774),\n",
       " (2, 33.03028912982749),\n",
       " (26, 42.790185790669334),\n",
       " (16, 18.16590212458495),\n",
       " (63, 49.57822102496216),\n",
       " (3, 44.41846462902562),\n",
       " (31, 7.280109889280518),\n",
       " (21, 71.18286310622803),\n",
       " (32, 72.86288492778748),\n",
       " (23, 63.40346993658943),\n",
       " (48, 41.773197148410844),\n",
       " (11, 68.33739825307956),\n",
       " (23, 13.0),\n",
       " (9, 43.37049688440288),\n",
       " (61, 36.46916505762094),\n",
       " (32, 7.615773105863909),\n",
       " (42, 46.69047011971501),\n",
       " (32, 0.0),\n",
       " (82, 73.77669008569035),\n",
       " (28, 19.6468827043885),\n",
       " (65, 26.814175355583846),\n",
       " (26, 16.431676725154983),\n",
       " (53, 33.04542328371661),\n",
       " (19, 73.35529974037323),\n",
       " (67, 56.16048432839589),\n",
       " (74, 20.904544960366874),\n",
       " (105, 55.5517776493246),\n",
       " (52, 25.099800796022265),\n",
       " (61, 15.165750888103101),\n",
       " (51, 35.91656999213594),\n",
       " (61, 13.228756555322953),\n",
       " (82, 26.115129714401192),\n",
       " (41, 45.155287619502545),\n",
       " (35, 40.422765862815474),\n",
       " (39, 34.91418050019218),\n",
       " (82, 24.289915602982237),\n",
       " (80, 28.30194339616981),\n",
       " (71, 20.8806130178211),\n",
       " (96, 24.55605831561735),\n",
       " (77, 15.198684153570664),\n",
       " (73, 21.071307505705477),\n",
       " (84, 32.38826948140329),\n",
       " (82, 11.357816691600547),\n",
       " (71, 22.135943621178654),\n",
       " (89, 12.409673645990857),\n",
       " (98, 30.083217912982647),\n",
       " (68, 4.47213595499958),\n",
       " (95, 44.93328387732194),\n",
       " (110, 20.663978319771825),\n",
       " (98, 21.79449471770337),\n",
       " (89, 35.9722114972099),\n",
       " (98, 16.09347693943108),\n",
       " (97, 42.76680956068619),\n",
       " (89, 35.08560958569767),\n",
       " (79, 18.708286933869708),\n",
       " (108, 18.547236990991408),\n",
       " (98, 12.083045973594572),\n",
       " (107, 14.66287829861518),\n",
       " (112, 29.597297173897484),\n",
       " (121, 25.69046515733026),\n",
       " (104, 24.43358344574123),\n",
       " (117, 13.152946437965905),\n",
       " (110, 26.870057685088806),\n",
       " (97, 7.483314773547883),\n",
       " (113, 31.89043743820395),\n",
       " (121, 25.534290669607408),\n",
       " (121, 19.87460691435179),\n",
       " (123, 59.23681287847955),\n",
       " (112, 12.96148139681572),\n",
       " (109, 46.776062254106),\n",
       " (116, 18.867962264113206),\n",
       " (140, 56.00892785976178),\n",
       " (117, 28.442925306655784),\n",
       " (140, 61.99193495931547),\n",
       " (128, 38.41874542459709),\n",
       " (149, 52.373657500693994),\n",
       " (104, 34.56877203488721),\n",
       " (137, 31.63858403911275),\n",
       " (134, 42.36744032862972),\n",
       " (129, 35.31288716601915),\n",
       " (131, 29.58039891549808),\n",
       " (134, 51.60426338976267),\n",
       " (128, 51.64300533470143),\n",
       " (137, 36.89173349139343),\n",
       " (122, 23.366642891095847),\n",
       " (124, 14.422205101855956),\n",
       " (145, 55.389529696504916),\n",
       " (160, 31.416556144810016),\n",
       " (149, 39.30648801406709),\n",
       " (153, 27.892651361962706),\n",
       " (120, 16.06237840420901),\n",
       " (156, 58.88972745734183),\n",
       " (150, 34.45286635390443),\n",
       " (147, 49.53786430600334),\n",
       " (153, 42.35563716909474),\n",
       " (158, 61.538605769061746),\n",
       " (142, 21.118712081942874),\n",
       " (144, 35.199431813596085),\n",
       " (132, 15.652475842498529),\n",
       " (138, 39.07684736515984),\n",
       " (145, 49.34571916590131),\n",
       " (153, 43.393547907494266),\n",
       " (162, 63.8200595424354),\n",
       " (154, 29.427877939124322),\n",
       " (166, 42.36744032862972),\n",
       " (160, 37.77565353504821),\n",
       " (148, 21.470910553583888),\n",
       " (169, 20.346989949375804),\n",
       " (159, 22.06807649071391),\n",
       " (141, 64.83054835492293),\n",
       " (161, 11.0),\n",
       " (154, 20.663978319771825),\n",
       " (159, 25.179356624028344),\n",
       " (140, 7.54983443527075),\n",
       " (165, 14.177446878757825),\n",
       " (139, 64.21059102671458),\n",
       " (165, 14.352700094407323),\n",
       " (147, 40.91454509095757),\n",
       " (168, 46.75467891024384),\n",
       " (126, 37.8549864614954),\n",
       " (161, 7.810249675906654),\n",
       " (141, 86.86195945291587),\n",
       " (171, 14.696938456699069),\n",
       " (133, 62.20932405998316),\n",
       " (173, 23.895606290697042),\n",
       " (143, 85.73214099741124),\n",
       " (163, 6.164414002968976),\n",
       " (164, 27.60434748368452),\n",
       " (165, 15.524174696260024),\n",
       " (149, 78.52388171760232),\n",
       " (161, 14.212670403551895),\n",
       " (169, 32.93933818400121),\n",
       " (177, 13.114877048604),\n",
       " (153, 54.147945482723536),\n",
       " (167, 9.539392014169456),\n",
       " (153, 59.21992907797171),\n",
       " (171, 19.261360284258224),\n",
       " (155, 71.06335201775948),\n",
       " (177, 16.46207763315433),\n",
       " (153, 60.67124524847005),\n",
       " (166, 71.07038764492565),\n",
       " (145, 96.42613753542138),\n",
       " (175, 12.806248474865697),\n",
       " (142, 39.52214569073901),\n",
       " (179, 23.2379000772445),\n",
       " (172, 33.015148038438355),\n",
       " (172, 73.77669008569035),\n",
       " (146, 42.638011210655684),\n",
       " (170, 80.73413156775763),\n",
       " (174, 13.527749258468683),\n",
       " (184, 38.948684188300895),\n",
       " (168, 9.327379053088816),\n",
       " (174, 84.19619943916709),\n",
       " (174, 21.283796653792763),\n",
       " (183, 27.49545416973504),\n",
       " (162, 23.259406699226016),\n",
       " (185, 25.13961017995307),\n",
       " (157, 68.86218120274728),\n",
       " (178, 81.54140052758476),\n",
       " (162, 34.68429039204925),\n",
       " (182, 73.47108274688756),\n",
       " (166, 16.881943016134134),\n",
       " (186, 54.0740233383831),\n",
       " (171, 68.68769904429759),\n",
       " (185, 10.488088481701515),\n",
       " (176, 28.495613697550013),\n",
       " (185, 11.40175425099138),\n",
       " (176, 15.620499351813308),\n",
       " (185, 9.16515138991168),\n",
       " (178, 31.400636936215164),\n",
       " (185, 0.0),\n",
       " (178, 13.784048752090222),\n",
       " (186, 51.11751167652823),\n",
       " (178, 20.83266665599966),\n",
       " (186, 63.631753079732135),\n",
       " (177, 48.8978527135906),\n",
       " (187, 4.69041575982343),\n",
       " (178, 33.34666400106613),\n",
       " (186, 69.92138442565336),\n",
       " (179, 79.68688725254614),\n",
       " (187, 23.065125189341593),\n",
       " (179, 70.95068710026705),\n",
       " (188, 62.12889826803627),\n",
       " (178, 51.778373863998475),\n",
       " (187, 39.05124837953327)]"
      ]
     },
     "execution_count": 36,
     "metadata": {},
     "output_type": "execute_result"
    }
   ],
   "source": [
    "k_dist"
   ]
  },
  {
   "cell_type": "code",
   "execution_count": 37,
   "metadata": {},
   "outputs": [],
   "source": [
    "# sorting하기\n",
    "sorted_dist = list(map(lambda x:x[1],sorted(k_dist,key=lambda x: x[1])))"
   ]
  },
  {
   "cell_type": "code",
   "execution_count": 38,
   "metadata": {},
   "outputs": [
    {
     "data": {
      "text/plain": [
       "[<matplotlib.lines.Line2D at 0x1a23518e10>]"
      ]
     },
     "execution_count": 38,
     "metadata": {},
     "output_type": "execute_result"
    },
    {
     "data": {
      "image/png": "[encoded data removed]",
      "text/plain": [
       "<Figure size 432x288 with 1 Axes>"
      ]
     },
     "metadata": {
      "needs_background": "light"
     },
     "output_type": "display_data"
    }
   ],
   "source": [
    "plt.plot(sorted_dist)"
   ]
  },
  {
   "cell_type": "markdown",
   "metadata": {},
   "source": [
    "## Q.원래 이렇게 값 바뀌는 지점 없이 linear하게 증가하기도 하나요? 잘못 계산한걸까요?? ㅜㅜ"
   ]
  },
  {
   "cell_type": "code",
   "execution_count": 59,
   "metadata": {},
   "outputs": [
    {
     "data": {
      "text/plain": [
       "19.1049731745428"
      ]
     },
     "execution_count": 59,
     "metadata": {},
     "output_type": "execute_result"
    }
   ],
   "source": [
    "# 확 값이 바뀌는 지점이 없다 ㅜㅜ -> 일단 50정도의 길이 구해보기\n",
    "sorted_dist[50]"
   ]
  },
  {
   "cell_type": "markdown",
   "metadata": {},
   "source": [
    "### 해당하는 값 적당히 넣어보기"
   ]
  },
  {
   "cell_type": "code",
   "execution_count": 68,
   "metadata": {},
   "outputs": [
    {
     "data": {
      "text/html": [
       "<div>\n",
       "<style scoped>\n",
       "    .dataframe tbody tr th:only-of-type {\n",
       "        vertical-align: middle;\n",
       "    }\n",
       "\n",
       "    .dataframe tbody tr th {\n",
       "        vertical-align: top;\n",
       "    }\n",
       "\n",
       "    .dataframe thead th {\n",
       "        text-align: right;\n",
       "    }\n",
       "</style>\n",
       "<table border=\"1\" class=\"dataframe\">\n",
       "  <thead>\n",
       "    <tr style=\"text-align: right;\">\n",
       "      <th></th>\n",
       "      <th>Gender</th>\n",
       "      <th>Age</th>\n",
       "      <th>Annual Income (k$)</th>\n",
       "      <th>Spending Score (1-100)</th>\n",
       "      <th>predict</th>\n",
       "    </tr>\n",
       "  </thead>\n",
       "  <tbody>\n",
       "    <tr>\n",
       "      <th>0</th>\n",
       "      <td>0</td>\n",
       "      <td>19</td>\n",
       "      <td>15</td>\n",
       "      <td>39</td>\n",
       "      <td>0</td>\n",
       "    </tr>\n",
       "    <tr>\n",
       "      <th>1</th>\n",
       "      <td>0</td>\n",
       "      <td>21</td>\n",
       "      <td>15</td>\n",
       "      <td>81</td>\n",
       "      <td>0</td>\n",
       "    </tr>\n",
       "    <tr>\n",
       "      <th>2</th>\n",
       "      <td>1</td>\n",
       "      <td>20</td>\n",
       "      <td>16</td>\n",
       "      <td>6</td>\n",
       "      <td>0</td>\n",
       "    </tr>\n",
       "    <tr>\n",
       "      <th>3</th>\n",
       "      <td>1</td>\n",
       "      <td>23</td>\n",
       "      <td>16</td>\n",
       "      <td>77</td>\n",
       "      <td>0</td>\n",
       "    </tr>\n",
       "    <tr>\n",
       "      <th>4</th>\n",
       "      <td>1</td>\n",
       "      <td>31</td>\n",
       "      <td>17</td>\n",
       "      <td>40</td>\n",
       "      <td>0</td>\n",
       "    </tr>\n",
       "  </tbody>\n",
       "</table>\n",
       "</div>"
      ],
      "text/plain": [
       "   Gender  Age  Annual Income (k$)  Spending Score (1-100)  predict\n",
       "0       0   19                  15                      39        0\n",
       "1       0   21                  15                      81        0\n",
       "2       1   20                  16                       6        0\n",
       "3       1   23                  16                      77        0\n",
       "4       1   31                  17                      40        0"
      ]
     },
     "execution_count": 68,
     "metadata": {},
     "output_type": "execute_result"
    }
   ],
   "source": [
    "# 흐어어ㅜㅜ 다 결측치가 너무 많이 나오거나 모두 같은 cluster로 나온다\n",
    "from sklearn.cluster import DBSCAN\n",
    "\n",
    "model = DBSCAN(eps=20,min_samples=3)\n",
    "\n",
    "predict = pd.DataFrame(model.fit_predict(df))\n",
    "predict.columns=['predict']\n",
    "\n",
    "# predict 한것 붙이기\n",
    "df_with_predict = pd.concat([df,predict],axis=1)\n",
    "\n",
    "df_with_predict.head()"
   ]
  },
  {
   "cell_type": "code",
   "execution_count": 69,
   "metadata": {},
   "outputs": [
    {
     "data": {
      "text/plain": [
       "array([0])"
      ]
     },
     "execution_count": 69,
     "metadata": {},
     "output_type": "execute_result"
    }
   ],
   "source": [
    "predict['predict'].unique()"
   ]
  },
  {
   "cell_type": "code",
   "execution_count": 79,
   "metadata": {
    "scrolled": true
   },
   "outputs": [
    {
     "name": "stdout",
     "output_type": "stream",
     "text": [
      "예측거리= 12.0 예측min개수= 3 결측치로 처리될 값= 18 unique한 class 개수 = [-1  0  1  2  4  3  5]\n",
      "예측거리= 12.5 예측min개수= 3 결측치로 처리될 값= 16 unique한 class 개수 = [ 0 -1  1  2]\n",
      "예측거리= 12.5 예측min개수= 4 결측치로 처리될 값= 18 unique한 class 개수 = [ 0 -1  1  2  3  4]\n",
      "예측거리= 13.0 예측min개수= 3 결측치로 처리될 값= 16 unique한 class 개수 = [ 0 -1  1  2]\n",
      "예측거리= 13.0 예측min개수= 4 결측치로 처리될 값= 17 unique한 class 개수 = [ 0 -1  1  2  3]\n",
      "예측거리= 13.5 예측min개수= 3 결측치로 처리될 값= 8 unique한 class 개수 = [ 0 -1  1  2]\n",
      "예측거리= 13.5 예측min개수= 4 결측치로 처리될 값= 11 unique한 class 개수 = [ 0 -1  1  2  3]\n",
      "예측거리= 14.0 예측min개수= 3 결측치로 처리될 값= 8 unique한 class 개수 = [ 0 -1  1]\n",
      "예측거리= 14.0 예측min개수= 4 결측치로 처리될 값= 9 unique한 class 개수 = [ 0 -1  1]\n",
      "예측거리= 14.0 예측min개수= 5 결측치로 처리될 값= 14 unique한 class 개수 = [-1  0  1]\n",
      "예측거리= 14.5 예측min개수= 3 결측치로 처리될 값= 5 unique한 class 개수 = [ 0 -1  1]\n",
      "예측거리= 14.5 예측min개수= 4 결측치로 처리될 값= 9 unique한 class 개수 = [ 0 -1  1]\n",
      "예측거리= 14.5 예측min개수= 5 결측치로 처리될 값= 14 unique한 class 개수 = [-1  0  1]\n",
      "예측거리= 14.5 예측min개수= 6 결측치로 처리될 값= 17 unique한 class 개수 = [-1  0  1  2  3]\n",
      "예측거리= 15.0 예측min개수= 3 결측치로 처리될 값= 5 unique한 class 개수 = [ 0 -1  1]\n",
      "예측거리= 15.0 예측min개수= 4 결측치로 처리될 값= 9 unique한 class 개수 = [ 0 -1  1]\n",
      "예측거리= 15.0 예측min개수= 5 결측치로 처리될 값= 13 unique한 class 개수 = [-1  0  1]\n",
      "예측거리= 15.0 예측min개수= 6 결측치로 처리될 값= 17 unique한 class 개수 = [-1  0  1]\n",
      "예측거리= 15.0 예측min개수= 7 결측치로 처리될 값= 18 unique한 class 개수 = [-1  0  1  2  3]\n",
      "예측거리= 15.5 예측min개수= 3 결측치로 처리될 값= 4 unique한 class 개수 = [ 0  1 -1]\n",
      "예측거리= 15.5 예측min개수= 4 결측치로 처리될 값= 7 unique한 class 개수 = [ 0  1 -1]\n",
      "예측거리= 15.5 예측min개수= 5 결측치로 처리될 값= 11 unique한 class 개수 = [-1  0  1]\n",
      "예측거리= 15.5 예측min개수= 6 결측치로 처리될 값= 13 unique한 class 개수 = [-1  0  1]\n",
      "예측거리= 15.5 예측min개수= 7 결측치로 처리될 값= 16 unique한 class 개수 = [-1  0  1  2]\n",
      "예측거리= 16.0 예측min개수= 7 결측치로 처리될 값= 12 unique한 class 개수 = [-1  0  1]\n",
      "예측거리= 16.0 예측min개수= 8 결측치로 처리될 값= 18 unique한 class 개수 = [-1  0  1]\n"
     ]
    }
   ],
   "source": [
    "# search 해보기\n",
    "for eps in range(40):\n",
    "    for s in range(3,31):\n",
    "        model = DBSCAN(eps=eps*0.5+0.5,min_samples=s)\n",
    "\n",
    "        predict = pd.DataFrame(model.fit_predict(df))\n",
    "        predict.columns=['predict']\n",
    "\n",
    "        # predict 한것 붙이기\n",
    "        df_with_predict = pd.concat([df,predict],axis=1)\n",
    "        \n",
    "        if (predict['predict']==-1).sum()<20 and len(predict['predict'].unique())>2:\n",
    "            print('예측거리=',eps*0.5+0.5, '예측min개수=',s, '결측치로 처리될 값=',(predict['predict']==-1).sum(),'unique한 class 개수 =', predict['predict'].unique())\n",
    "            \n",
    "        \n",
    "        "
   ]
  },
  {
   "cell_type": "markdown",
   "metadata": {},
   "source": [
    "-> 예측거리= 13.5 예측min개수= 3 결측치로 처리될 값= 8 unique한 class 개수 = [ 0 -1  1  2] \n",
    "13.5, 3 정도가 괜찮을 듯"
   ]
  },
  {
   "cell_type": "code",
   "execution_count": 80,
   "metadata": {},
   "outputs": [
    {
     "data": {
      "text/html": [
       "<div>\n",
       "<style scoped>\n",
       "    .dataframe tbody tr th:only-of-type {\n",
       "        vertical-align: middle;\n",
       "    }\n",
       "\n",
       "    .dataframe tbody tr th {\n",
       "        vertical-align: top;\n",
       "    }\n",
       "\n",
       "    .dataframe thead th {\n",
       "        text-align: right;\n",
       "    }\n",
       "</style>\n",
       "<table border=\"1\" class=\"dataframe\">\n",
       "  <thead>\n",
       "    <tr style=\"text-align: right;\">\n",
       "      <th></th>\n",
       "      <th>Gender</th>\n",
       "      <th>Age</th>\n",
       "      <th>Annual Income (k$)</th>\n",
       "      <th>Spending Score (1-100)</th>\n",
       "      <th>predict</th>\n",
       "    </tr>\n",
       "  </thead>\n",
       "  <tbody>\n",
       "    <tr>\n",
       "      <th>0</th>\n",
       "      <td>0</td>\n",
       "      <td>19</td>\n",
       "      <td>15</td>\n",
       "      <td>39</td>\n",
       "      <td>0</td>\n",
       "    </tr>\n",
       "    <tr>\n",
       "      <th>1</th>\n",
       "      <td>0</td>\n",
       "      <td>21</td>\n",
       "      <td>15</td>\n",
       "      <td>81</td>\n",
       "      <td>0</td>\n",
       "    </tr>\n",
       "    <tr>\n",
       "      <th>2</th>\n",
       "      <td>1</td>\n",
       "      <td>20</td>\n",
       "      <td>16</td>\n",
       "      <td>6</td>\n",
       "      <td>-1</td>\n",
       "    </tr>\n",
       "    <tr>\n",
       "      <th>3</th>\n",
       "      <td>1</td>\n",
       "      <td>23</td>\n",
       "      <td>16</td>\n",
       "      <td>77</td>\n",
       "      <td>0</td>\n",
       "    </tr>\n",
       "    <tr>\n",
       "      <th>4</th>\n",
       "      <td>1</td>\n",
       "      <td>31</td>\n",
       "      <td>17</td>\n",
       "      <td>40</td>\n",
       "      <td>0</td>\n",
       "    </tr>\n",
       "  </tbody>\n",
       "</table>\n",
       "</div>"
      ],
      "text/plain": [
       "   Gender  Age  Annual Income (k$)  Spending Score (1-100)  predict\n",
       "0       0   19                  15                      39        0\n",
       "1       0   21                  15                      81        0\n",
       "2       1   20                  16                       6       -1\n",
       "3       1   23                  16                      77        0\n",
       "4       1   31                  17                      40        0"
      ]
     },
     "execution_count": 80,
     "metadata": {},
     "output_type": "execute_result"
    }
   ],
   "source": [
    "# 흐어어ㅜㅜ 다 결측치가 너무 많이 나오거나 모두 같은 cluster로 나온다\n",
    "from sklearn.cluster import DBSCAN\n",
    "\n",
    "model = DBSCAN(eps=13.5,min_samples=3)\n",
    "\n",
    "predict = pd.DataFrame(model.fit_predict(df))\n",
    "predict.columns=['predict']\n",
    "\n",
    "# predict 한것 붙이기\n",
    "df_with_predict = pd.concat([df,predict],axis=1)\n",
    "\n",
    "df_with_predict.head()"
   ]
  },
  {
   "cell_type": "markdown",
   "metadata": {},
   "source": [
    "#### -> 앗! class가 많아도 0 class가 대부분을 먹어버린다.\n",
    "### and (predict['predict']==0).sum()<60 조건 붙이면 아무것도 안나온다"
   ]
  },
  {
   "cell_type": "code",
   "execution_count": 83,
   "metadata": {},
   "outputs": [],
   "source": [
    "# search 해보기\n",
    "for eps in range(40):\n",
    "    for s in range(3,31):\n",
    "        model = DBSCAN(eps=eps*0.5+0.5,min_samples=s)\n",
    "\n",
    "        predict = pd.DataFrame(model.fit_predict(df))\n",
    "        predict.columns=['predict']\n",
    "\n",
    "        # predict 한것 붙이기\n",
    "        df_with_predict = pd.concat([df,predict],axis=1)\n",
    "        # 0개수가 60개 이하인것 찾기\n",
    "        if (predict['predict']==-1).sum()<20 and len(predict['predict'].unique())>2 and (predict['predict']==0).sum()<100:\n",
    "            print('예측거리=',eps*0.5+0.5, '예측min개수=',s, '결측치로 처리될 값=',(predict['predict']==-1).sum(),'unique한 class 개수 =', predict['predict'].unique())\n",
    "            \n",
    "        \n",
    "        "
   ]
  },
  {
   "cell_type": "markdown",
   "metadata": {},
   "source": [
    "### 거리 자체가 scaling을 해야 작게 잡을 수 있을 듯 하다. "
   ]
  },
  {
   "cell_type": "code",
   "execution_count": 86,
   "metadata": {},
   "outputs": [
    {
     "name": "stderr",
     "output_type": "stream",
     "text": [
      "/anaconda3/lib/python3.7/site-packages/sklearn/preprocessing/data.py:625: DataConversionWarning: Data with input dtype int64 were all converted to float64 by StandardScaler.\n",
      "  return self.partial_fit(X, y)\n",
      "/anaconda3/lib/python3.7/site-packages/sklearn/base.py:462: DataConversionWarning: Data with input dtype int64 were all converted to float64 by StandardScaler.\n",
      "  return self.fit(X, **fit_params).transform(X)\n"
     ]
    }
   ],
   "source": [
    "from sklearn.pipeline import make_pipeline\n",
    "from sklearn.preprocessing import StandardScaler\n",
    "from sklearn.cluster import DBSCAN\n",
    "\n",
    "\n",
    "scaler = StandardScaler()\n",
    "model = DBSCAN(min_samples=6)\n",
    "pipeline = make_pipeline(scaler,model)\n",
    "predict = pd.DataFrame(pipeline.fit_predict(df))\n",
    "predict.columns=['predict']\n",
    "\n",
    "# concatenate labels to df as a new column\n",
    "r = pd.concat([df,predict],axis=1)\n",
    "\n",
    "# ct = pd.crosstab(data['labels'],r['predict'])\n",
    "# print (ct)"
   ]
  },
  {
   "cell_type": "code",
   "execution_count": 87,
   "metadata": {},
   "outputs": [
    {
     "data": {
      "text/html": [
       "<div>\n",
       "<style scoped>\n",
       "    .dataframe tbody tr th:only-of-type {\n",
       "        vertical-align: middle;\n",
       "    }\n",
       "\n",
       "    .dataframe tbody tr th {\n",
       "        vertical-align: top;\n",
       "    }\n",
       "\n",
       "    .dataframe thead th {\n",
       "        text-align: right;\n",
       "    }\n",
       "</style>\n",
       "<table border=\"1\" class=\"dataframe\">\n",
       "  <thead>\n",
       "    <tr style=\"text-align: right;\">\n",
       "      <th></th>\n",
       "      <th>Gender</th>\n",
       "      <th>Age</th>\n",
       "      <th>Annual Income (k$)</th>\n",
       "      <th>Spending Score (1-100)</th>\n",
       "      <th>predict</th>\n",
       "    </tr>\n",
       "  </thead>\n",
       "  <tbody>\n",
       "    <tr>\n",
       "      <th>0</th>\n",
       "      <td>0</td>\n",
       "      <td>19</td>\n",
       "      <td>15</td>\n",
       "      <td>39</td>\n",
       "      <td>-1</td>\n",
       "    </tr>\n",
       "    <tr>\n",
       "      <th>1</th>\n",
       "      <td>0</td>\n",
       "      <td>21</td>\n",
       "      <td>15</td>\n",
       "      <td>81</td>\n",
       "      <td>-1</td>\n",
       "    </tr>\n",
       "    <tr>\n",
       "      <th>2</th>\n",
       "      <td>1</td>\n",
       "      <td>20</td>\n",
       "      <td>16</td>\n",
       "      <td>6</td>\n",
       "      <td>-1</td>\n",
       "    </tr>\n",
       "    <tr>\n",
       "      <th>3</th>\n",
       "      <td>1</td>\n",
       "      <td>23</td>\n",
       "      <td>16</td>\n",
       "      <td>77</td>\n",
       "      <td>-1</td>\n",
       "    </tr>\n",
       "    <tr>\n",
       "      <th>4</th>\n",
       "      <td>1</td>\n",
       "      <td>31</td>\n",
       "      <td>17</td>\n",
       "      <td>40</td>\n",
       "      <td>-1</td>\n",
       "    </tr>\n",
       "    <tr>\n",
       "      <th>5</th>\n",
       "      <td>1</td>\n",
       "      <td>22</td>\n",
       "      <td>17</td>\n",
       "      <td>76</td>\n",
       "      <td>-1</td>\n",
       "    </tr>\n",
       "    <tr>\n",
       "      <th>6</th>\n",
       "      <td>1</td>\n",
       "      <td>35</td>\n",
       "      <td>18</td>\n",
       "      <td>6</td>\n",
       "      <td>-1</td>\n",
       "    </tr>\n",
       "    <tr>\n",
       "      <th>7</th>\n",
       "      <td>1</td>\n",
       "      <td>23</td>\n",
       "      <td>18</td>\n",
       "      <td>94</td>\n",
       "      <td>-1</td>\n",
       "    </tr>\n",
       "    <tr>\n",
       "      <th>8</th>\n",
       "      <td>0</td>\n",
       "      <td>64</td>\n",
       "      <td>19</td>\n",
       "      <td>3</td>\n",
       "      <td>-1</td>\n",
       "    </tr>\n",
       "    <tr>\n",
       "      <th>9</th>\n",
       "      <td>1</td>\n",
       "      <td>30</td>\n",
       "      <td>19</td>\n",
       "      <td>72</td>\n",
       "      <td>-1</td>\n",
       "    </tr>\n",
       "    <tr>\n",
       "      <th>10</th>\n",
       "      <td>0</td>\n",
       "      <td>67</td>\n",
       "      <td>19</td>\n",
       "      <td>14</td>\n",
       "      <td>-1</td>\n",
       "    </tr>\n",
       "    <tr>\n",
       "      <th>11</th>\n",
       "      <td>1</td>\n",
       "      <td>35</td>\n",
       "      <td>19</td>\n",
       "      <td>99</td>\n",
       "      <td>-1</td>\n",
       "    </tr>\n",
       "    <tr>\n",
       "      <th>12</th>\n",
       "      <td>1</td>\n",
       "      <td>58</td>\n",
       "      <td>20</td>\n",
       "      <td>15</td>\n",
       "      <td>-1</td>\n",
       "    </tr>\n",
       "    <tr>\n",
       "      <th>13</th>\n",
       "      <td>1</td>\n",
       "      <td>24</td>\n",
       "      <td>20</td>\n",
       "      <td>77</td>\n",
       "      <td>-1</td>\n",
       "    </tr>\n",
       "    <tr>\n",
       "      <th>14</th>\n",
       "      <td>0</td>\n",
       "      <td>37</td>\n",
       "      <td>20</td>\n",
       "      <td>13</td>\n",
       "      <td>-1</td>\n",
       "    </tr>\n",
       "    <tr>\n",
       "      <th>15</th>\n",
       "      <td>0</td>\n",
       "      <td>22</td>\n",
       "      <td>20</td>\n",
       "      <td>79</td>\n",
       "      <td>-1</td>\n",
       "    </tr>\n",
       "    <tr>\n",
       "      <th>16</th>\n",
       "      <td>1</td>\n",
       "      <td>35</td>\n",
       "      <td>21</td>\n",
       "      <td>35</td>\n",
       "      <td>-1</td>\n",
       "    </tr>\n",
       "    <tr>\n",
       "      <th>17</th>\n",
       "      <td>0</td>\n",
       "      <td>20</td>\n",
       "      <td>21</td>\n",
       "      <td>66</td>\n",
       "      <td>-1</td>\n",
       "    </tr>\n",
       "    <tr>\n",
       "      <th>18</th>\n",
       "      <td>0</td>\n",
       "      <td>52</td>\n",
       "      <td>23</td>\n",
       "      <td>29</td>\n",
       "      <td>-1</td>\n",
       "    </tr>\n",
       "    <tr>\n",
       "      <th>19</th>\n",
       "      <td>1</td>\n",
       "      <td>35</td>\n",
       "      <td>23</td>\n",
       "      <td>98</td>\n",
       "      <td>-1</td>\n",
       "    </tr>\n",
       "    <tr>\n",
       "      <th>20</th>\n",
       "      <td>0</td>\n",
       "      <td>35</td>\n",
       "      <td>24</td>\n",
       "      <td>35</td>\n",
       "      <td>-1</td>\n",
       "    </tr>\n",
       "    <tr>\n",
       "      <th>21</th>\n",
       "      <td>0</td>\n",
       "      <td>25</td>\n",
       "      <td>24</td>\n",
       "      <td>73</td>\n",
       "      <td>-1</td>\n",
       "    </tr>\n",
       "    <tr>\n",
       "      <th>22</th>\n",
       "      <td>1</td>\n",
       "      <td>46</td>\n",
       "      <td>25</td>\n",
       "      <td>5</td>\n",
       "      <td>-1</td>\n",
       "    </tr>\n",
       "    <tr>\n",
       "      <th>23</th>\n",
       "      <td>0</td>\n",
       "      <td>31</td>\n",
       "      <td>25</td>\n",
       "      <td>73</td>\n",
       "      <td>-1</td>\n",
       "    </tr>\n",
       "    <tr>\n",
       "      <th>24</th>\n",
       "      <td>1</td>\n",
       "      <td>54</td>\n",
       "      <td>28</td>\n",
       "      <td>14</td>\n",
       "      <td>-1</td>\n",
       "    </tr>\n",
       "    <tr>\n",
       "      <th>25</th>\n",
       "      <td>0</td>\n",
       "      <td>29</td>\n",
       "      <td>28</td>\n",
       "      <td>82</td>\n",
       "      <td>-1</td>\n",
       "    </tr>\n",
       "    <tr>\n",
       "      <th>26</th>\n",
       "      <td>1</td>\n",
       "      <td>45</td>\n",
       "      <td>28</td>\n",
       "      <td>32</td>\n",
       "      <td>-1</td>\n",
       "    </tr>\n",
       "    <tr>\n",
       "      <th>27</th>\n",
       "      <td>0</td>\n",
       "      <td>35</td>\n",
       "      <td>28</td>\n",
       "      <td>61</td>\n",
       "      <td>-1</td>\n",
       "    </tr>\n",
       "    <tr>\n",
       "      <th>28</th>\n",
       "      <td>1</td>\n",
       "      <td>40</td>\n",
       "      <td>29</td>\n",
       "      <td>31</td>\n",
       "      <td>-1</td>\n",
       "    </tr>\n",
       "    <tr>\n",
       "      <th>29</th>\n",
       "      <td>1</td>\n",
       "      <td>23</td>\n",
       "      <td>29</td>\n",
       "      <td>87</td>\n",
       "      <td>-1</td>\n",
       "    </tr>\n",
       "    <tr>\n",
       "      <th>...</th>\n",
       "      <td>...</td>\n",
       "      <td>...</td>\n",
       "      <td>...</td>\n",
       "      <td>...</td>\n",
       "      <td>...</td>\n",
       "    </tr>\n",
       "    <tr>\n",
       "      <th>170</th>\n",
       "      <td>0</td>\n",
       "      <td>40</td>\n",
       "      <td>87</td>\n",
       "      <td>13</td>\n",
       "      <td>-1</td>\n",
       "    </tr>\n",
       "    <tr>\n",
       "      <th>171</th>\n",
       "      <td>0</td>\n",
       "      <td>28</td>\n",
       "      <td>87</td>\n",
       "      <td>75</td>\n",
       "      <td>-1</td>\n",
       "    </tr>\n",
       "    <tr>\n",
       "      <th>172</th>\n",
       "      <td>0</td>\n",
       "      <td>36</td>\n",
       "      <td>87</td>\n",
       "      <td>10</td>\n",
       "      <td>-1</td>\n",
       "    </tr>\n",
       "    <tr>\n",
       "      <th>173</th>\n",
       "      <td>0</td>\n",
       "      <td>36</td>\n",
       "      <td>87</td>\n",
       "      <td>92</td>\n",
       "      <td>-1</td>\n",
       "    </tr>\n",
       "    <tr>\n",
       "      <th>174</th>\n",
       "      <td>1</td>\n",
       "      <td>52</td>\n",
       "      <td>88</td>\n",
       "      <td>13</td>\n",
       "      <td>-1</td>\n",
       "    </tr>\n",
       "    <tr>\n",
       "      <th>175</th>\n",
       "      <td>1</td>\n",
       "      <td>30</td>\n",
       "      <td>88</td>\n",
       "      <td>86</td>\n",
       "      <td>4</td>\n",
       "    </tr>\n",
       "    <tr>\n",
       "      <th>176</th>\n",
       "      <td>0</td>\n",
       "      <td>58</td>\n",
       "      <td>88</td>\n",
       "      <td>15</td>\n",
       "      <td>-1</td>\n",
       "    </tr>\n",
       "    <tr>\n",
       "      <th>177</th>\n",
       "      <td>0</td>\n",
       "      <td>27</td>\n",
       "      <td>88</td>\n",
       "      <td>69</td>\n",
       "      <td>-1</td>\n",
       "    </tr>\n",
       "    <tr>\n",
       "      <th>178</th>\n",
       "      <td>0</td>\n",
       "      <td>59</td>\n",
       "      <td>93</td>\n",
       "      <td>14</td>\n",
       "      <td>-1</td>\n",
       "    </tr>\n",
       "    <tr>\n",
       "      <th>179</th>\n",
       "      <td>0</td>\n",
       "      <td>35</td>\n",
       "      <td>93</td>\n",
       "      <td>90</td>\n",
       "      <td>-1</td>\n",
       "    </tr>\n",
       "    <tr>\n",
       "      <th>180</th>\n",
       "      <td>1</td>\n",
       "      <td>37</td>\n",
       "      <td>97</td>\n",
       "      <td>32</td>\n",
       "      <td>-1</td>\n",
       "    </tr>\n",
       "    <tr>\n",
       "      <th>181</th>\n",
       "      <td>1</td>\n",
       "      <td>32</td>\n",
       "      <td>97</td>\n",
       "      <td>86</td>\n",
       "      <td>4</td>\n",
       "    </tr>\n",
       "    <tr>\n",
       "      <th>182</th>\n",
       "      <td>0</td>\n",
       "      <td>46</td>\n",
       "      <td>98</td>\n",
       "      <td>15</td>\n",
       "      <td>-1</td>\n",
       "    </tr>\n",
       "    <tr>\n",
       "      <th>183</th>\n",
       "      <td>1</td>\n",
       "      <td>29</td>\n",
       "      <td>98</td>\n",
       "      <td>88</td>\n",
       "      <td>4</td>\n",
       "    </tr>\n",
       "    <tr>\n",
       "      <th>184</th>\n",
       "      <td>1</td>\n",
       "      <td>41</td>\n",
       "      <td>99</td>\n",
       "      <td>39</td>\n",
       "      <td>-1</td>\n",
       "    </tr>\n",
       "    <tr>\n",
       "      <th>185</th>\n",
       "      <td>0</td>\n",
       "      <td>30</td>\n",
       "      <td>99</td>\n",
       "      <td>97</td>\n",
       "      <td>-1</td>\n",
       "    </tr>\n",
       "    <tr>\n",
       "      <th>186</th>\n",
       "      <td>1</td>\n",
       "      <td>54</td>\n",
       "      <td>101</td>\n",
       "      <td>24</td>\n",
       "      <td>-1</td>\n",
       "    </tr>\n",
       "    <tr>\n",
       "      <th>187</th>\n",
       "      <td>0</td>\n",
       "      <td>28</td>\n",
       "      <td>101</td>\n",
       "      <td>68</td>\n",
       "      <td>-1</td>\n",
       "    </tr>\n",
       "    <tr>\n",
       "      <th>188</th>\n",
       "      <td>1</td>\n",
       "      <td>41</td>\n",
       "      <td>103</td>\n",
       "      <td>17</td>\n",
       "      <td>-1</td>\n",
       "    </tr>\n",
       "    <tr>\n",
       "      <th>189</th>\n",
       "      <td>1</td>\n",
       "      <td>36</td>\n",
       "      <td>103</td>\n",
       "      <td>85</td>\n",
       "      <td>-1</td>\n",
       "    </tr>\n",
       "    <tr>\n",
       "      <th>190</th>\n",
       "      <td>1</td>\n",
       "      <td>34</td>\n",
       "      <td>103</td>\n",
       "      <td>23</td>\n",
       "      <td>-1</td>\n",
       "    </tr>\n",
       "    <tr>\n",
       "      <th>191</th>\n",
       "      <td>1</td>\n",
       "      <td>32</td>\n",
       "      <td>103</td>\n",
       "      <td>69</td>\n",
       "      <td>-1</td>\n",
       "    </tr>\n",
       "    <tr>\n",
       "      <th>192</th>\n",
       "      <td>0</td>\n",
       "      <td>33</td>\n",
       "      <td>113</td>\n",
       "      <td>8</td>\n",
       "      <td>-1</td>\n",
       "    </tr>\n",
       "    <tr>\n",
       "      <th>193</th>\n",
       "      <td>1</td>\n",
       "      <td>38</td>\n",
       "      <td>113</td>\n",
       "      <td>91</td>\n",
       "      <td>-1</td>\n",
       "    </tr>\n",
       "    <tr>\n",
       "      <th>194</th>\n",
       "      <td>1</td>\n",
       "      <td>47</td>\n",
       "      <td>120</td>\n",
       "      <td>16</td>\n",
       "      <td>-1</td>\n",
       "    </tr>\n",
       "    <tr>\n",
       "      <th>195</th>\n",
       "      <td>1</td>\n",
       "      <td>35</td>\n",
       "      <td>120</td>\n",
       "      <td>79</td>\n",
       "      <td>-1</td>\n",
       "    </tr>\n",
       "    <tr>\n",
       "      <th>196</th>\n",
       "      <td>1</td>\n",
       "      <td>45</td>\n",
       "      <td>126</td>\n",
       "      <td>28</td>\n",
       "      <td>-1</td>\n",
       "    </tr>\n",
       "    <tr>\n",
       "      <th>197</th>\n",
       "      <td>0</td>\n",
       "      <td>32</td>\n",
       "      <td>126</td>\n",
       "      <td>74</td>\n",
       "      <td>-1</td>\n",
       "    </tr>\n",
       "    <tr>\n",
       "      <th>198</th>\n",
       "      <td>0</td>\n",
       "      <td>32</td>\n",
       "      <td>137</td>\n",
       "      <td>18</td>\n",
       "      <td>-1</td>\n",
       "    </tr>\n",
       "    <tr>\n",
       "      <th>199</th>\n",
       "      <td>0</td>\n",
       "      <td>30</td>\n",
       "      <td>137</td>\n",
       "      <td>83</td>\n",
       "      <td>-1</td>\n",
       "    </tr>\n",
       "  </tbody>\n",
       "</table>\n",
       "<p>200 rows × 5 columns</p>\n",
       "</div>"
      ],
      "text/plain": [
       "     Gender  Age  Annual Income (k$)  Spending Score (1-100)  predict\n",
       "0         0   19                  15                      39       -1\n",
       "1         0   21                  15                      81       -1\n",
       "2         1   20                  16                       6       -1\n",
       "3         1   23                  16                      77       -1\n",
       "4         1   31                  17                      40       -1\n",
       "5         1   22                  17                      76       -1\n",
       "6         1   35                  18                       6       -1\n",
       "7         1   23                  18                      94       -1\n",
       "8         0   64                  19                       3       -1\n",
       "9         1   30                  19                      72       -1\n",
       "10        0   67                  19                      14       -1\n",
       "11        1   35                  19                      99       -1\n",
       "12        1   58                  20                      15       -1\n",
       "13        1   24                  20                      77       -1\n",
       "14        0   37                  20                      13       -1\n",
       "15        0   22                  20                      79       -1\n",
       "16        1   35                  21                      35       -1\n",
       "17        0   20                  21                      66       -1\n",
       "18        0   52                  23                      29       -1\n",
       "19        1   35                  23                      98       -1\n",
       "20        0   35                  24                      35       -1\n",
       "21        0   25                  24                      73       -1\n",
       "22        1   46                  25                       5       -1\n",
       "23        0   31                  25                      73       -1\n",
       "24        1   54                  28                      14       -1\n",
       "25        0   29                  28                      82       -1\n",
       "26        1   45                  28                      32       -1\n",
       "27        0   35                  28                      61       -1\n",
       "28        1   40                  29                      31       -1\n",
       "29        1   23                  29                      87       -1\n",
       "..      ...  ...                 ...                     ...      ...\n",
       "170       0   40                  87                      13       -1\n",
       "171       0   28                  87                      75       -1\n",
       "172       0   36                  87                      10       -1\n",
       "173       0   36                  87                      92       -1\n",
       "174       1   52                  88                      13       -1\n",
       "175       1   30                  88                      86        4\n",
       "176       0   58                  88                      15       -1\n",
       "177       0   27                  88                      69       -1\n",
       "178       0   59                  93                      14       -1\n",
       "179       0   35                  93                      90       -1\n",
       "180       1   37                  97                      32       -1\n",
       "181       1   32                  97                      86        4\n",
       "182       0   46                  98                      15       -1\n",
       "183       1   29                  98                      88        4\n",
       "184       1   41                  99                      39       -1\n",
       "185       0   30                  99                      97       -1\n",
       "186       1   54                 101                      24       -1\n",
       "187       0   28                 101                      68       -1\n",
       "188       1   41                 103                      17       -1\n",
       "189       1   36                 103                      85       -1\n",
       "190       1   34                 103                      23       -1\n",
       "191       1   32                 103                      69       -1\n",
       "192       0   33                 113                       8       -1\n",
       "193       1   38                 113                      91       -1\n",
       "194       1   47                 120                      16       -1\n",
       "195       1   35                 120                      79       -1\n",
       "196       1   45                 126                      28       -1\n",
       "197       0   32                 126                      74       -1\n",
       "198       0   32                 137                      18       -1\n",
       "199       0   30                 137                      83       -1\n",
       "\n",
       "[200 rows x 5 columns]"
      ]
     },
     "execution_count": 87,
     "metadata": {},
     "output_type": "execute_result"
    }
   ],
   "source": [
    "r"
   ]
  },
  {
   "cell_type": "markdown",
   "metadata": {},
   "source": [
    "### -> 이것도 이상하게 나온다 ㅜㅜ 흙흙흙"
   ]
  },
  {
   "cell_type": "code",
   "execution_count": null,
   "metadata": {},
   "outputs": [],
   "source": []
  }
 ],
 "metadata": {
  "kernelspec": {
   "display_name": "Python 3",
   "language": "python",
   "name": "python3"
  },
  "language_info": {
   "codemirror_mode": {
    "name": "ipython",
    "version": 3
   },
   "file_extension": ".py",
   "mimetype": "text/x-python",
   "name": "python",
   "nbconvert_exporter": "python",
   "pygments_lexer": "ipython3",
   "version": "3.7.1"
  }
 },
 "nbformat": 4,
 "nbformat_minor": 2
}
